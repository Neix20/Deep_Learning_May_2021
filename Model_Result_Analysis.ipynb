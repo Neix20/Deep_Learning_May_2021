{
  "nbformat": 4,
  "nbformat_minor": 0,
  "metadata": {
    "colab": {
      "name": "Model Result Analysis.ipynb",
      "provenance": [],
      "collapsed_sections": []
    },
    "kernelspec": {
      "name": "python3",
      "display_name": "Python 3"
    },
    "language_info": {
      "name": "python"
    },
    "accelerator": "GPU"
  },
  "cells": [
    {
      "cell_type": "markdown",
      "metadata": {
        "id": "7eBIr8b5aqwG"
      },
      "source": [
        "## Mount Notebook to Google Colab Drive"
      ]
    },
    {
      "cell_type": "code",
      "metadata": {
        "id": "9VraP7JTaqBP",
        "colab": {
          "base_uri": "https://localhost:8080/"
        },
        "outputId": "14f69894-77d7-4544-985f-ce396b5d1c25"
      },
      "source": [
        "from google.colab import drive\n",
        "drive.mount('/content/drive')"
      ],
      "execution_count": 2,
      "outputs": [
        {
          "output_type": "stream",
          "text": [
            "Mounted at /content/drive\n"
          ],
          "name": "stdout"
        }
      ]
    },
    {
      "cell_type": "markdown",
      "metadata": {
        "id": "pNVuKkMuaufv"
      },
      "source": [
        "## Change Directory"
      ]
    },
    {
      "cell_type": "code",
      "metadata": {
        "id": "dBcBdPdjapwl",
        "colab": {
          "base_uri": "https://localhost:8080/"
        },
        "outputId": "ad49d3ff-0235-411f-f651-255e141a8588"
      },
      "source": [
        "cd /content/drive/MyDrive/Deep_Learning_Assignment_May_2021/Deep_Learning_Assignment"
      ],
      "execution_count": 3,
      "outputs": [
        {
          "output_type": "stream",
          "text": [
            "/content/drive/MyDrive/Deep_Learning_Assignment_May_2021/Deep_Learning_Assignment\n"
          ],
          "name": "stdout"
        }
      ]
    },
    {
      "cell_type": "markdown",
      "metadata": {
        "id": "xABULw_tbIZx"
      },
      "source": [
        "## Load Libraries"
      ]
    },
    {
      "cell_type": "code",
      "metadata": {
        "id": "a379duUmbME2"
      },
      "source": [
        "import os\n",
        "import math\n",
        "import matplotlib\n",
        "import numpy as np\n",
        "import pandas as pd\n",
        "import torch.nn as nn\n",
        "import seaborn as sns\n",
        "import torch, torchvision\n",
        "import torch.optim as optim\n",
        "import torch.nn.functional as F\n",
        "import matplotlib.pyplot as plt\n",
        "import torchvision.models as models\n",
        "import torch.utils.data as data_utils\n",
        "\n",
        "from PIL import Image, ImageOps\n",
        "from torchsummary import summary\n",
        "from torchvision import transforms, utils\n",
        "from torch.utils.data import Dataset, DataLoader\n",
        "from sklearn.metrics import classification_report, confusion_matrix"
      ],
      "execution_count": 4,
      "outputs": []
    },
    {
      "cell_type": "markdown",
      "metadata": {
        "id": "JdTNzG70VbSF"
      },
      "source": [
        "## Create Dataset Classes\n",
        "This is to transform any dataset we import into a class that can be processed by our model\n"
      ]
    },
    {
      "cell_type": "markdown",
      "metadata": {
        "id": "Vhw6GdLjb9Xl"
      },
      "source": [
        "### 1. Fashion MNIST Dataset"
      ]
    },
    {
      "cell_type": "code",
      "metadata": {
        "id": "kCthiKoIcDFk"
      },
      "source": [
        "###############################\n",
        "# code by Lee Hao Jie  #\n",
        "###############################\n",
        "class FashionMNIST(Dataset):\n",
        "    \n",
        "    def __init__(self, root = \".\", train = True, download=False, transform=None, num_samples = None):\n",
        "        self.classes = ['T-shirt/top', 'Trouser', 'Pullover', 'Dress', 'Coat', 'Sandal', 'Shirt', 'Sneaker', 'Bag', 'Ankle boot']\n",
        "        self.num_classes = len(self.classes)            \n",
        "        self.__dataset = torchvision.datasets.FashionMNIST(root=root, train=train, download=download, transform=transform)\n",
        "        self.__num_samples = min(num_samples, len(self.__dataset)) if num_samples is not None else len(self.__dataset)\n",
        "                       \n",
        "    def __len__(self):\n",
        "        return self.__num_samples\n",
        "    \n",
        "    def __getitem__(self, idx):            \n",
        "        return self.__dataset[idx]"
      ],
      "execution_count": 5,
      "outputs": []
    },
    {
      "cell_type": "markdown",
      "metadata": {
        "id": "yAfwYegQuK4w"
      },
      "source": [
        "### 2. Fashion Product Small Dataset"
      ]
    },
    {
      "cell_type": "code",
      "metadata": {
        "id": "_SSDMJ90uNLT"
      },
      "source": [
        "###############################\n",
        "# code by Tan Xi En  #\n",
        "###############################\n",
        "# We try to work on other fashion dataset but\n",
        "# it take too long for collab to process the dataset\n",
        "\n",
        "class FashionProductSmallDataset(Dataset):\n",
        "    def __init__(self, csv_name, image_path, transform=None):\n",
        "        df = pd.read_csv(csv_name)\n",
        "        self.data = []\n",
        "        self.labels = []\n",
        "        self.classes = sorted(df.articleType.unique())\n",
        "        self.transform = transform\n",
        "\n",
        "        for class_id, cls in enumerate(self.classes):\n",
        "            cls_folder = os.path.join(image_path, cls)\n",
        "            for img_name in os.listdir(cls_folder):\n",
        "                self.data.append(os.path.join(cls_folder, img_name))\n",
        "                self.labels.append(class_id)\n",
        "\n",
        "    def __len__(self):\n",
        "        return len(self.data)\n",
        "    \n",
        "    def __getitem__(self, idx):\n",
        "        image = Image.open(self.data[idx])\n",
        "        if self.transform is not None:\n",
        "            image = self.transform(image)\n",
        "        label = self.labels[idx]\n",
        "        return image, label"
      ],
      "execution_count": 6,
      "outputs": []
    },
    {
      "cell_type": "markdown",
      "metadata": {
        "id": "cJV8EjTkumus"
      },
      "source": [
        "## Fetch Dataset"
      ]
    },
    {
      "cell_type": "code",
      "metadata": {
        "id": "fRoFERXDui8E",
        "colab": {
          "base_uri": "https://localhost:8080/"
        },
        "outputId": "bf470b0f-857e-4c91-e6ff-3719545e2f21"
      },
      "source": [
        "dataset = FashionMNIST(root=\".\", download= True)"
      ],
      "execution_count": 7,
      "outputs": [
        {
          "output_type": "stream",
          "text": [
            "/usr/local/lib/python3.7/dist-packages/torchvision/datasets/mnist.py:498: UserWarning: The given NumPy array is not writeable, and PyTorch does not support non-writeable tensors. This means you can write to the underlying (supposedly non-writeable) NumPy array using the tensor. You may want to copy the array to protect its data or make it writeable before converting it to a tensor. This type of warning will be suppressed for the rest of this program. (Triggered internally at  /pytorch/torch/csrc/utils/tensor_numpy.cpp:180.)\n",
            "  return torch.from_numpy(parsed.astype(m[2], copy=False)).view(*s)\n"
          ],
          "name": "stderr"
        }
      ]
    },
    {
      "cell_type": "markdown",
      "metadata": {
        "id": "CONb7SLFxboa"
      },
      "source": [
        "## Original Image"
      ]
    },
    {
      "cell_type": "code",
      "metadata": {
        "id": "oDAinoxbxgUQ"
      },
      "source": [
        "def show_image(img):\n",
        "    plt.imshow (img, cmap = matplotlib.cm.gray, interpolation = 'nearest')"
      ],
      "execution_count": 8,
      "outputs": []
    },
    {
      "cell_type": "code",
      "metadata": {
        "id": "Ztr9vgdtxjbR",
        "colab": {
          "base_uri": "https://localhost:8080/",
          "height": 284
        },
        "outputId": "a42d3014-7837-4e83-c27c-2cb0b6a51409"
      },
      "source": [
        "idx = 10\n",
        "img, label = dataset[idx]\n",
        "\n",
        "show_image(img)\n",
        "print(img.size)"
      ],
      "execution_count": 9,
      "outputs": [
        {
          "output_type": "stream",
          "text": [
            "(28, 28)\n"
          ],
          "name": "stdout"
        },
        {
          "output_type": "display_data",
          "data": {
            "image/png": "[encoded data removed]",
            "text/plain": [
              "<Figure size 432x288 with 1 Axes>"
            ]
          },
          "metadata": {
            "needs_background": "light"
          }
        }
      ]
    },
    {
      "cell_type": "markdown",
      "metadata": {
        "id": "2KL0PIYWwcc_"
      },
      "source": [
        "## Transformation Pipeline\n",
        "* Resize image from (28,28) to Standard Image Size (32, 32)\n",
        "* Convert Tensor Pil Image to Tensor\n",
        "* Normalize Image to Tensor Float\n",
        "* _Data Augmentation (Extra): Random Crop_\n",
        "* _Data Augmentation (Extra): Random Horizontal Flip_\n"
      ]
    },
    {
      "cell_type": "code",
      "metadata": {
        "id": "gQLqrvQ8HjHI"
      },
      "source": [
        "###############################\n",
        "# code by Lee Hao Jie  #\n",
        "###############################\n",
        "\n",
        "fashion_MNIST_transform= transforms.Compose([ \n",
        "    transforms.Resize(32),       \n",
        "    transforms.ToTensor(),\n",
        "    transforms.Normalize((0.5,), (1.0,))\n",
        "])"
      ],
      "execution_count": 10,
      "outputs": []
    },
    {
      "cell_type": "code",
      "metadata": {
        "id": "LeOM569TvPSx"
      },
      "source": [
        "###############################\n",
        "# code by Tan Xi En  #\n",
        "###############################\n",
        "\n",
        "fashion_product_small_transform = transforms.Compose([\n",
        "    transforms.Lambda(lambda img: ImageOps.grayscale(img)),                                              \n",
        "    transforms.Resize(32),\n",
        "    transforms.RandomCrop(28),                            \n",
        "    transforms.ToTensor(),\n",
        "    transforms.Normalize((0.5,), (1.0,))\n",
        "])"
      ],
      "execution_count": 11,
      "outputs": []
    },
    {
      "cell_type": "markdown",
      "metadata": {
        "id": "bLml6MTUkM6p"
      },
      "source": [
        "## Load Dataset, Split Dataset, Batch Loader"
      ]
    },
    {
      "cell_type": "markdown",
      "metadata": {
        "id": "8eZ97TD0vxh8"
      },
      "source": [
        "### Fashion MNIST Dataset"
      ]
    },
    {
      "cell_type": "code",
      "metadata": {
        "id": "mmGhPPBw4YSk"
      },
      "source": [
        "###############################\n",
        "# code by Lee Hao Jie  #\n",
        "###############################\n",
        "\n",
        "## Split dataset into trainset and test set\n",
        "\n",
        "trainset = FashionMNIST(root=\".\",train=True, download= True, transform = fashion_MNIST_transform)\n",
        "testset = FashionMNIST(root=\".\",train=False, download= True, transform = fashion_MNIST_transform)\n",
        "\n",
        "## BatchLoader\n",
        "trainloader = DataLoader(trainset, batch_size = 20, shuffle = True, num_workers = 2)\n",
        "testloader = DataLoader(testset, batch_size = 20, shuffle = True, num_workers = 2)"
      ],
      "execution_count": 12,
      "outputs": []
    },
    {
      "cell_type": "markdown",
      "metadata": {
        "id": "mnzNDOqcmlk0"
      },
      "source": [
        "### Fashion Product Small Dataset"
      ]
    },
    {
      "cell_type": "code",
      "metadata": {
        "id": "t1nLPjbomoki"
      },
      "source": [
        "###############################\n",
        "# code by Tan Xi En  #\n",
        "###############################\n",
        "\n",
        "# csv_name = \"./fashion_product_small_img/fashion_image_small.csv\"\n",
        "# image_path = \"./fashion_product_small_img/kaggle_fashion_small/\"\n",
        "# dataset = FashionProductSmallDataset(csv_name, image_path, transform = fashion_product_small_transform)\n",
        "\n",
        "# ## Split Dataset into Train Set and Testing Set\n",
        "# x = math.ceil(len(dataset) * 0.8)\n",
        "# y = len(dataset) - x\n",
        "# trainset, testset = torch.utils.data.random_split(dataset, [x, y])\n",
        "\n",
        "# ## BatchLoader\n",
        "# trainloader = DataLoader(trainset, batch_size = 4, shuffle = True, num_workers = 2)\n",
        "# testloader = DataLoader(testset, batch_size = 4, shuffle = True, num_workers = 2)"
      ],
      "execution_count": 13,
      "outputs": []
    },
    {
      "cell_type": "markdown",
      "metadata": {
        "id": "fwj4Ef6uyEyf"
      },
      "source": [
        "## Global Variables"
      ]
    },
    {
      "cell_type": "code",
      "metadata": {
        "id": "0zWByYmbZHN2"
      },
      "source": [
        "###############################\n",
        "# code by Lee Hao Jie  #\n",
        "###############################\n",
        "lr = 0.001\n",
        "momentum = 0.9\n",
        "# device = \"cuda\" if torch.cuda.is_available() else \"cpu\"\n",
        "device = \"cpu\"\n",
        "file_dir = \"Models\"\n",
        "num_of_class = len(trainset.classes)\n",
        "num_epoch = 10"
      ],
      "execution_count": 14,
      "outputs": []
    },
    {
      "cell_type": "markdown",
      "metadata": {
        "id": "DQXNJJFJ5cNn"
      },
      "source": [
        "## Train Function\n",
        "\n",
        "#### Train Pipeline:\n",
        "\n",
        "* Optimizer => Used to update parameters after forward-backward Propagation\n",
        "* Loss Function => Used to update the direction of the gradient\n",
        "* The following train Model uses Gradient Descent algorithm. The gradient descent algorithm has the following pipeline.\n",
        "  * Forward Propagation\n",
        "  * Update Gradient to backwards\n",
        "  * Backward Propagation\n",
        "* For each epoch, the training loss and the test accuracy is recorded and stored for analysis purpose.\n",
        "\n",
        "The save Function Records:\n",
        "* Model Parameters\n",
        "* Optimizer Parameters\n",
        "* Last Epoch\n",
        "* Train Loss for Each Epoch\n",
        "* Test Accuracy for Each Epoch"
      ]
    },
    {
      "cell_type": "code",
      "metadata": {
        "id": "B5GcNXrD8SOI"
      },
      "source": [
        "##################################################\n",
        "# code by Lee Hao Jie and Tan Xi En  #\n",
        "##################################################\n",
        "# This train function will save model based on file_dir and file_name\n",
        "# determine by user and save the train loss and test accuracy in .pt file \n",
        "\n",
        "def train(model, trainloader, testloader, optimizer, file_dir, file_name, device, num_epoch=25, loss_iter=250, verbose=True):\n",
        "\n",
        "    history_train_loss, history_train_accuracy = [], []\n",
        "    loss_iterations = int(np.ceil(len(trainloader)/loss_iter))\n",
        "\n",
        "    # set to training mode\n",
        "    model.train()\n",
        "\n",
        "    # train the network\n",
        "    for e in range(num_epoch):\n",
        "        running_loss, running_count, train_loss = 0.0, 0.0, 0\n",
        "        for i, (inputs, labels) in enumerate(trainloader):\n",
        "            optimizer.zero_grad()\n",
        "\n",
        "            inputs = inputs.to(device)\n",
        "            labels = labels.to(device)\n",
        "\n",
        "            outs = model(inputs)\n",
        "            loss = F.cross_entropy(outs, labels)\n",
        "            loss.backward()\n",
        "            optimizer.step()\n",
        "\n",
        "            running_loss += loss.item()\n",
        "            running_count += 1\n",
        "            train_loss = 0\n",
        "\n",
        "            if i % loss_iterations == loss_iterations - 1 or i == len(trainloader) - 1:\n",
        "                train_loss = running_loss / running_count\n",
        "                running_loss, running_count = 0.0, 0.0\n",
        "                if verbose:\n",
        "                    print(f'[Epoch {e+1:2d}/{num_epoch:d} Iter {i+1:5d}/{len(trainloader)}]: train_loss = {train_loss:.4f}')\n",
        "\n",
        "        # Train Loss for Each Epoch\n",
        "        history_train_loss.append(train_loss)\n",
        "\n",
        "        # Train Accuracy for Each Epoch\n",
        "        running_corrects = 0\n",
        "        for inputs, targets in testloader:\n",
        "\n",
        "            # transfer to the GPU\n",
        "            inputs = inputs.to(device)\n",
        "            targets = targets.to(device)\n",
        "\n",
        "            # disable gradient computation\n",
        "            with torch.no_grad():\n",
        "                outputs = model(inputs)\n",
        "                _, predicted = torch.max(outputs, 1)\n",
        "                running_corrects += (targets == predicted).double().sum()\n",
        "\n",
        "        history_train_accuracy.append(\n",
        "            running_corrects/len(testloader.dataset)*100.0)\n",
        "\n",
        "        # save the model(done by Tan Xi En)\n",
        "        checkpoint_file = f'./{file_dir}/{file_name}.pt'\n",
        "        torch.save({\n",
        "          \"epoch\": num_epoch,\n",
        "          \"model_state_dict\": model.state_dict(),\n",
        "          \"optimizer_state_dict\": optimizer.state_dict(),\n",
        "          \"history_train_loss\": history_train_loss,\n",
        "          \"history_train_accuracy\": history_train_accuracy\n",
        "        }, checkpoint_file)\n"
      ],
      "execution_count": 15,
      "outputs": []
    },
    {
      "cell_type": "markdown",
      "metadata": {
        "id": "6PI0kirDHbfm"
      },
      "source": [
        "## Evaluate Model Performance"
      ]
    },
    {
      "cell_type": "code",
      "metadata": {
        "id": "rXk44bLkHfjf"
      },
      "source": [
        "###############################\n",
        "# code by Lee Hao Jie  #\n",
        "###############################\n",
        "\n",
        "def evaluate(model, testloader, device):\n",
        "\n",
        "    # set to evaluation mode\n",
        "    model.eval()\n",
        "\n",
        "    # running_correct\n",
        "    running_corrects = 0\n",
        "\n",
        "    # Repeat for all batch data in the test set\n",
        "    for inputs, targets in testloader:\n",
        "\n",
        "        # transfer to the GPU\n",
        "        inputs = inputs.to(device)\n",
        "        targets = targets.to(device)\n",
        "\n",
        "        # # disable gradient computation\n",
        "        with torch.no_grad():\n",
        "            outputs = model(inputs)\n",
        "            _, predicted = torch.max(outputs, 1)\n",
        "            running_corrects += (targets == predicted).double().sum()\n",
        "\n",
        "    return 100*running_corrects/len(testloader.dataset)"
      ],
      "execution_count": 16,
      "outputs": []
    },
    {
      "cell_type": "markdown",
      "metadata": {
        "id": "4K0oscT0Wz7E"
      },
      "source": [
        "## 3. LeNet Model (Done by Yikanin Yit)\n",
        "\n",
        "![LeNet Model](https://drive.google.com/uc?id=19rKcKXQ2S6k7xbMWFumWCYnYyRbcGskH)"
      ]
    },
    {
      "cell_type": "code",
      "metadata": {
        "id": "dB7rW31AsjA1"
      },
      "source": [
        "###############################\n",
        "# code by Yikanin Yit  #\n",
        "###############################\n",
        "\n",
        "class LeNet5(nn.Module):\n",
        "  def __init__(self):\n",
        "    super().__init__()\n",
        "\n",
        "    # define layers\n",
        "    self.conv1 = nn.Conv2d(in_channels=1, out_channels=6, kernel_size=5,stride=1)\n",
        "    self.pool1 = nn.AvgPool2d(2,2)\n",
        "    self.conv2 = nn.Conv2d(in_channels=6, out_channels=16, kernel_size=5,stride=1)\n",
        "    self.pool2 = nn.AvgPool2d(2,2)\n",
        "\n",
        "    self.fc1 = nn.Linear(in_features=400, out_features=120)\n",
        "    self.fc2 = nn.Linear(in_features=120, out_features=84)\n",
        "    self.out = nn.Linear(in_features=84, out_features=10)\n",
        "\n",
        "  # define forward function\n",
        "  def forward(self, t):\n",
        "    # conv 1\n",
        "    t = torch.tanh(self.conv1(t))\n",
        "    t = torch.tanh(self.pool1(t))\n",
        "\n",
        "    # conv 2\n",
        "    t = torch.tanh(self.conv2(t))\n",
        "    t = torch.tanh(self.pool2(t))\n",
        "\n",
        "    # fc1\n",
        "    t = t.view(-1,400)\n",
        "    t = torch.tanh(self.fc1(t))\n",
        "\n",
        "    # fc2\n",
        "    t = torch.tanh(self.fc2(t))\n",
        "    \n",
        "    # output\n",
        "    t = self.out(t)\n",
        "    # don't need softmax here since we'll use cross-entropy as activation.\n",
        "\n",
        "    return t"
      ],
      "execution_count": 17,
      "outputs": []
    },
    {
      "cell_type": "markdown",
      "metadata": {
        "id": "pSDM0lXg5r-Y"
      },
      "source": [
        "## 4. Squeeze Excitation (SE) ResNet Model (Done by Lee Hao Jie)\n",
        "\n",
        "![Squeeze Excitation (SE) ResNet Model](https://drive.google.com/uc?id=1jKqW1JX9ErqomwZkFSIMNhbZoshL25On)\n",
        "\n",
        "Source Link: https://github.com/moskomule/senet.pytorch/blob/master/senet/se_module.py\n"
      ]
    },
    {
      "cell_type": "code",
      "metadata": {
        "id": "wQTZam41qHSH"
      },
      "source": [
        "###############################\n",
        "# code by Lee Hao Jie  #\n",
        "###############################\n",
        "\n",
        "def conv_block(in_c,out_c,k=3,s=1):\n",
        "    #3x3 use stride 1 or 7x7 use stride 3\n",
        "    if k==3:\n",
        "      p=1\n",
        "    elif k==5:\n",
        "      p=2\n",
        "    else:\n",
        "      p=0\n",
        "\n",
        "    block = nn.Sequential(\n",
        "        nn.Conv2d(in_channels = in_c, out_channels = out_c, kernel_size = k, stride = s, padding = p),\n",
        "        nn.BatchNorm2d(out_c)\n",
        "    )\n",
        "    return block"
      ],
      "execution_count": 18,
      "outputs": []
    },
    {
      "cell_type": "code",
      "metadata": {
        "id": "ObWwcP5M5hgL"
      },
      "source": [
        "###############################\n",
        "# code by Lee Hao Jie. Adapted From https://github.com/moskomule/senet.pytorch/blob/master/senet/se_module.py #\n",
        "###############################\n",
        "\n",
        "class SELayer(nn.Module):\n",
        "    def __init__(self, channel, reduction=16):\n",
        "        super(SELayer, self).__init__()\n",
        "        self.fc = nn.Sequential(\n",
        "            nn.Linear(channel, channel // reduction, bias=False),\n",
        "            nn.ReLU(inplace=True),\n",
        "            nn.Linear(channel // reduction, channel, bias=False),\n",
        "            nn.Sigmoid()\n",
        "        )\n",
        "\n",
        "    def forward(self, x):\n",
        "        y = F.adaptive_avg_pool2d(x,1).view(x.size()[0], x.size()[1])\n",
        "        y = self.fc(y).view(x.size()[0], x.size()[1], 1, 1)\n",
        "        return x * y.expand_as(x)"
      ],
      "execution_count": 19,
      "outputs": []
    },
    {
      "cell_type": "code",
      "metadata": {
        "id": "rp0GpAtUzCNP"
      },
      "source": [
        "###############################\n",
        "# code by Lee Hao Jie  #\n",
        "###############################\n",
        "\n",
        "class Block(nn.Module):\n",
        "\n",
        "    def __init__(self, in_c, out_c, downsample=None):\n",
        "        super(Block, self).__init__()\n",
        "        self.downsmaple = downsample\n",
        "        if downsample is None:\n",
        "          kernels=[3,3]\n",
        "          self.conv1 = nn.ModuleList(conv_block(in_c, out_c, k) for k in kernels)\n",
        "          self.se1 = SELayer(out_c,16)\n",
        "          self.conv2 = nn.ModuleList(conv_block(out_c, out_c, k) for k in kernels)\n",
        "          self.se2 = SELayer(out_c,16)\n",
        "        else:\n",
        "          kernels=[3,3]\n",
        "          self.convs2_1=conv_block(in_c, out_c,1,2)\n",
        "          self.convs2_2=conv_block(in_c, out_c, kernels[0],2)\n",
        "          self.conv1 = nn.ModuleList(conv_block(out_c, out_c, k) for k in kernels[1:])\n",
        "          self.se1 = SELayer(out_c,16)\n",
        "          self.conv2 = nn.ModuleList(conv_block(out_c, out_c, k) for k in kernels)\n",
        "          self.se2 = SELayer(out_c,16)\n",
        "       \n",
        "\n",
        "    def forward(self, x):\n",
        "        if self.downsmaple is None:\n",
        "          residual = x\n",
        "        else:\n",
        "          residual = self.convs2_1(x)\n",
        "          x=self.convs2_2(x)\n",
        "        \n",
        "        for conv in self.conv1 :\n",
        "          x = F.relu(conv(x))\n",
        "        x = self.se1(x)\n",
        "        x += residual\n",
        "        x = F.relu(x)\n",
        "\n",
        "        residual = x\n",
        "        for conv in self.conv2 :\n",
        "          x = F.relu(conv(x))\n",
        "        x = self.se2(x)\n",
        "        x += residual\n",
        "        x = F.relu(x)\n",
        "\n",
        "        return x"
      ],
      "execution_count": 20,
      "outputs": []
    },
    {
      "cell_type": "code",
      "metadata": {
        "id": "bQjDibzm5962"
      },
      "source": [
        "###############################\n",
        "# code by Lee Hao Jie  #\n",
        "###############################\n",
        "\n",
        "class SEResnet(nn.Module):\n",
        "    def __init__(self, num_of_class=10):\n",
        "        super().__init__()\n",
        "        self.stem=conv_block(1,64,5,2)\n",
        "        self.block1=Block(64,64)\n",
        "        self.block2=Block(64,128,downsample=True)\n",
        "        self.block3=Block(128,256,downsample=True)\n",
        "        self.fc=nn.Linear(256,num_of_class)\n",
        "    def forward(self, x):\n",
        "        x=F.relu(self.stem(x))\n",
        "        x=self.block1(x)\n",
        "        x=self.block2(x)\n",
        "        x=self.block3(x)\n",
        "        x=F.adaptive_avg_pool2d(x,1)\n",
        "        x=x.view(x.size(0),-1)\n",
        "        x=self.fc(x)\n",
        "        return x\n"
      ],
      "execution_count": 21,
      "outputs": []
    },
    {
      "cell_type": "markdown",
      "metadata": {
        "id": "7VY8z7KIAYwJ"
      },
      "source": [
        "## 5. CNN + BN + Skip Connection Model (Done by Tan Xi En)\n",
        "\n",
        "![CNN + BN + Residual Skip Connection Model](https://drive.google.com/uc?id=1gWl9-rUJlzAcGFaq1nndNRr3X7yLto52)\n",
        "\n",
        "Notes: `k`: number of filters, `f`: filter or kernel size, `s`: stride, `p`: padding, `o`: output shape"
      ]
    },
    {
      "cell_type": "code",
      "metadata": {
        "id": "g8H46ixIovk7"
      },
      "source": [
        "###############################\n",
        "# code by Tan Xi En  #\n",
        "###############################\n",
        "\n",
        "def build_block_cnn(in_channels, out_channels):\n",
        "  block = nn.Sequential(\n",
        "    nn.Conv2d(in_channels = in_channels, out_channels = out_channels, kernel_size = 3, stride = 1, padding = 1),\n",
        "    nn.ReLU()\n",
        "  )\n",
        "  return block"
      ],
      "execution_count": 22,
      "outputs": []
    },
    {
      "cell_type": "code",
      "metadata": {
        "id": "8I-VznUgAcw0"
      },
      "source": [
        "###############################\n",
        "# code by Tan Xi En  #\n",
        "###############################\n",
        "\n",
        "class cnn_model3(nn.Module):\n",
        "    def __init__(self, num_of_class):\n",
        "        super().__init__()\n",
        "\n",
        "        channel_size = [1, 32, 32]\n",
        "        layer_size = [32 * 8 * 8, 128, num_of_class]\n",
        "        p = 0.25\n",
        "\n",
        "        # define blocks\n",
        "        self.conv_block = nn.ModuleList(\n",
        "            build_block_cnn(in_channel, out_channel) for(in_channel, out_channel) in zip(channel_size[0:-1], channel_size[1:])\n",
        "        )\n",
        "\n",
        "        # define Fully Connected Layers\n",
        "        self.fc = nn.ModuleList(\n",
        "            nn.Linear(in_channel, out_channel) for(in_channel, out_channel) in zip(layer_size[0:-1], layer_size[1:])\n",
        "        )\n",
        "\n",
        "        # Define Dropout\n",
        "        self.dropout = nn.ModuleList(\n",
        "            nn.Dropout(p) for i in range(len(layer_size) - 2)\n",
        "        )\n",
        "\n",
        "        # Define Batch Normalization\n",
        "        self.bn = nn.ModuleList(\n",
        "            nn.BatchNorm2d(i) for i in channel_size[:-1]\n",
        "        )\n",
        "\n",
        "    def forward(self, x):\n",
        "        residual = self.bn[0](x)\n",
        "        tmp = self.conv_block[0](residual)\n",
        "        x = F.max_pool2d(tmp, kernel_size=2, stride=2, padding=0)\n",
        "\n",
        "        residual = self.bn[1](x)\n",
        "        tmp = self.conv_block[1](residual)\n",
        "        x = F.max_pool2d(tmp + residual, kernel_size=2, stride=2, padding=0)\n",
        "\n",
        "        x = x.view(x.size(0), -1)\n",
        "\n",
        "        for (dropout, fc) in zip(self.dropout, self.fc[:-1]):\n",
        "            x = dropout(torch.relu(fc(x)))\n",
        "\n",
        "        x = torch.relu(self.fc[1](x))\n",
        "\n",
        "        return x\n",
        "\n"
      ],
      "execution_count": 23,
      "outputs": []
    },
    {
      "cell_type": "markdown",
      "metadata": {
        "id": "zwh4hmO673aO"
      },
      "source": [
        "# Model Result Analysis"
      ]
    },
    {
      "cell_type": "markdown",
      "metadata": {
        "id": "mc9QwEIgk2vI"
      },
      "source": [
        "## Get Y_True and Y_pred\n",
        "\n",
        "This is to generate classification report, confusion matrix. For Result Analysis Purposes"
      ]
    },
    {
      "cell_type": "code",
      "metadata": {
        "id": "JeRcqokQk5UW"
      },
      "source": [
        "###############################\n",
        "# code by Tan Xi En  #\n",
        "###############################\n",
        "\n",
        "def get_true_pred(model, testloader, device):\n",
        "    y_true, y_pred = [], []\n",
        "\n",
        "    model.eval()\n",
        "\n",
        "    for inputs, targets in testloader:\n",
        "        inputs = inputs.to(device)\n",
        "        targets = targets.to(device)\n",
        "\n",
        "        with torch.no_grad():\n",
        "            scores = model(inputs)\n",
        "            _, preds = torch.max(scores, 1)\n",
        "            y_true += targets.numpy().tolist()\n",
        "            y_pred += preds.numpy().tolist()\n",
        "\n",
        "    return y_true, y_pred"
      ],
      "execution_count": 24,
      "outputs": []
    },
    {
      "cell_type": "markdown",
      "metadata": {
        "id": "oFA3T_bdJ0-k"
      },
      "source": [
        "## Load Model From Checkpoint\n",
        "\n",
        "The series of function here loads:\n",
        "* Models Paramters\n",
        "* Optimizer Parameters\n",
        "* Train Loss for Each Epoch\n",
        "* Test Accuracy for Each Epoch"
      ]
    },
    {
      "cell_type": "code",
      "metadata": {
        "id": "4xUZySuPJ95G"
      },
      "source": [
        "###############################\n",
        "# code by Tan Xi En  #\n",
        "###############################\n",
        "\n",
        "def load_model_optim(file_dir, file_name, model, optimizer, device):\n",
        "    checkpoint = torch.load(f'./{file_dir}/{file_name}.pt', map_location=torch.device(device))\n",
        "    model.load_state_dict(checkpoint['model_state_dict'])\n",
        "    optimizer.load_state_dict(checkpoint['optimizer_state_dict'])\n",
        "    return model, optimizer"
      ],
      "execution_count": 25,
      "outputs": []
    },
    {
      "cell_type": "markdown",
      "metadata": {
        "id": "z5rNZ1bohzY9"
      },
      "source": [
        "### Load Train Loss and Test Accuracy"
      ]
    },
    {
      "cell_type": "code",
      "metadata": {
        "id": "4GzEE2QXh9Yk"
      },
      "source": [
        "###############################\n",
        "# code by Tan Xi En  #\n",
        "###############################\n",
        "\n",
        "def load_model_loss(file_dir, file_name, device):\n",
        "    checkpoint = torch.load(f'./{file_dir}/{file_name}.pt', map_location=torch.device(device))\n",
        "    return checkpoint[\"history_train_loss\"]"
      ],
      "execution_count": 26,
      "outputs": []
    },
    {
      "cell_type": "code",
      "metadata": {
        "id": "nhFB01DeiYp5"
      },
      "source": [
        "###############################\n",
        "# code by Tan Xi En  #\n",
        "###############################\n",
        "\n",
        "def load_model_acc(file_dir, file_name, device):\n",
        "    checkpoint = torch.load(f'./{file_dir}/{file_name}.pt', map_location=torch.device(device))\n",
        "    return checkpoint[\"history_train_accuracy\"]"
      ],
      "execution_count": 27,
      "outputs": []
    },
    {
      "cell_type": "markdown",
      "metadata": {
        "id": "wHenj0ucMuJq"
      },
      "source": [
        "## LeNet Model Analysis (Done by Yikanin Yit)"
      ]
    },
    {
      "cell_type": "code",
      "metadata": {
        "id": "YVp7b4OZJ3mY"
      },
      "source": [
        "###############################\n",
        "# code by Yikanin Yit  #\n",
        "###############################\n",
        "\n",
        "# Load only CNN Model I\n",
        "model1 = LeNet5()\n",
        "optimizer1 = optim.SGD(model1.parameters(), lr = lr, momentum = momentum)\n",
        "model1, _ = load_model_optim(file_dir, \"Model_1\", model1, optimizer1, device)"
      ],
      "execution_count": 28,
      "outputs": []
    },
    {
      "cell_type": "code",
      "metadata": {
        "colab": {
          "base_uri": "https://localhost:8080/"
        },
        "id": "Zr_ucEFT_Fn0",
        "outputId": "5ae729b1-22a4-434d-ed0e-05e24dc6985e"
      },
      "source": [
        "###############################\n",
        "# code by Yikanin Yit  #\n",
        "###############################\n",
        "\n",
        "summary(model1, (1, 32, 32), device = \"cpu\")"
      ],
      "execution_count": 29,
      "outputs": [
        {
          "output_type": "stream",
          "text": [
            "----------------------------------------------------------------\n",
            "        Layer (type)               Output Shape         Param #\n",
            "================================================================\n",
            "            Conv2d-1            [-1, 6, 28, 28]             156\n",
            "         AvgPool2d-2            [-1, 6, 14, 14]               0\n",
            "            Conv2d-3           [-1, 16, 10, 10]           2,416\n",
            "         AvgPool2d-4             [-1, 16, 5, 5]               0\n",
            "            Linear-5                  [-1, 120]          48,120\n",
            "            Linear-6                   [-1, 84]          10,164\n",
            "            Linear-7                   [-1, 10]             850\n",
            "================================================================\n",
            "Total params: 61,706\n",
            "Trainable params: 61,706\n",
            "Non-trainable params: 0\n",
            "----------------------------------------------------------------\n",
            "Input size (MB): 0.00\n",
            "Forward/backward pass size (MB): 0.06\n",
            "Params size (MB): 0.24\n",
            "Estimated Total Size (MB): 0.30\n",
            "----------------------------------------------------------------\n"
          ],
          "name": "stdout"
        }
      ]
    },
    {
      "cell_type": "code",
      "metadata": {
        "id": "J0JUrLEVMFbI",
        "colab": {
          "base_uri": "https://localhost:8080/"
        },
        "outputId": "cc055286-e18f-4135-9727-5b319ac295a4"
      },
      "source": [
        "###############################\n",
        "# code by Yikanin Yit  #\n",
        "###############################\n",
        "\n",
        "acc_score = evaluate(model1, testloader, device)\n",
        "print(f'Accuracy = {acc_score}%')"
      ],
      "execution_count": 30,
      "outputs": [
        {
          "output_type": "stream",
          "text": [
            "Accuracy = 88.53%\n"
          ],
          "name": "stdout"
        }
      ]
    },
    {
      "cell_type": "markdown",
      "metadata": {
        "id": "YxS1tZ82l0jN"
      },
      "source": [
        "#### Get Y_True and Y_pred for LeNet Model"
      ]
    },
    {
      "cell_type": "code",
      "metadata": {
        "id": "v9rQcjZwl27b"
      },
      "source": [
        "###############################\n",
        "# code by Yakanin Yit  #\n",
        "###############################\n",
        "\n",
        "y_true, y_pred = get_true_pred(model1, testloader, device)"
      ],
      "execution_count": 31,
      "outputs": []
    },
    {
      "cell_type": "markdown",
      "metadata": {
        "id": "iUjluv2LidhQ"
      },
      "source": [
        "#### Classification Report for LeNet Model"
      ]
    },
    {
      "cell_type": "code",
      "metadata": {
        "id": "ZRSHmimXl-5Y",
        "colab": {
          "base_uri": "https://localhost:8080/",
          "height": 457
        },
        "outputId": "1710fc0c-8fa4-4e02-db7b-f3f623a305c3"
      },
      "source": [
        "###############################\n",
        "# code by Lee Hao Jie  #\n",
        "###############################\n",
        "\n",
        "clf_report_1 = pd.DataFrame(classification_report(y_true, y_pred, target_names = testset.classes, output_dict = True)).transpose()\n",
        "clf_report_1"
      ],
      "execution_count": 32,
      "outputs": [
        {
          "output_type": "execute_result",
          "data": {
            "text/html": [
              "<div>\n",
              "<style scoped>\n",
              "    .dataframe tbody tr th:only-of-type {\n",
              "        vertical-align: middle;\n",
              "    }\n",
              "\n",
              "    .dataframe tbody tr th {\n",
              "        vertical-align: top;\n",
              "    }\n",
              "\n",
              "    .dataframe thead th {\n",
              "        text-align: right;\n",
              "    }\n",
              "</style>\n",
              "<table border=\"1\" class=\"dataframe\">\n",
              "  <thead>\n",
              "    <tr style=\"text-align: right;\">\n",
              "      <th></th>\n",
              "      <th>precision</th>\n",
              "      <th>recall</th>\n",
              "      <th>f1-score</th>\n",
              "      <th>support</th>\n",
              "    </tr>\n",
              "  </thead>\n",
              "  <tbody>\n",
              "    <tr>\n",
              "      <th>T-shirt/top</th>\n",
              "      <td>0.859763</td>\n",
              "      <td>0.7970</td>\n",
              "      <td>0.827193</td>\n",
              "      <td>1000.0000</td>\n",
              "    </tr>\n",
              "    <tr>\n",
              "      <th>Trouser</th>\n",
              "      <td>0.994856</td>\n",
              "      <td>0.9670</td>\n",
              "      <td>0.980730</td>\n",
              "      <td>1000.0000</td>\n",
              "    </tr>\n",
              "    <tr>\n",
              "      <th>Pullover</th>\n",
              "      <td>0.876761</td>\n",
              "      <td>0.7470</td>\n",
              "      <td>0.806695</td>\n",
              "      <td>1000.0000</td>\n",
              "    </tr>\n",
              "    <tr>\n",
              "      <th>Dress</th>\n",
              "      <td>0.854898</td>\n",
              "      <td>0.9250</td>\n",
              "      <td>0.888569</td>\n",
              "      <td>1000.0000</td>\n",
              "    </tr>\n",
              "    <tr>\n",
              "      <th>Coat</th>\n",
              "      <td>0.805118</td>\n",
              "      <td>0.8180</td>\n",
              "      <td>0.811508</td>\n",
              "      <td>1000.0000</td>\n",
              "    </tr>\n",
              "    <tr>\n",
              "      <th>Sandal</th>\n",
              "      <td>0.982546</td>\n",
              "      <td>0.9570</td>\n",
              "      <td>0.969605</td>\n",
              "      <td>1000.0000</td>\n",
              "    </tr>\n",
              "    <tr>\n",
              "      <th>Shirt</th>\n",
              "      <td>0.665175</td>\n",
              "      <td>0.7430</td>\n",
              "      <td>0.701937</td>\n",
              "      <td>1000.0000</td>\n",
              "    </tr>\n",
              "    <tr>\n",
              "      <th>Sneaker</th>\n",
              "      <td>0.950050</td>\n",
              "      <td>0.9510</td>\n",
              "      <td>0.950525</td>\n",
              "      <td>1000.0000</td>\n",
              "    </tr>\n",
              "    <tr>\n",
              "      <th>Bag</th>\n",
              "      <td>0.947776</td>\n",
              "      <td>0.9800</td>\n",
              "      <td>0.963618</td>\n",
              "      <td>1000.0000</td>\n",
              "    </tr>\n",
              "    <tr>\n",
              "      <th>Ankle boot</th>\n",
              "      <td>0.944390</td>\n",
              "      <td>0.9680</td>\n",
              "      <td>0.956049</td>\n",
              "      <td>1000.0000</td>\n",
              "    </tr>\n",
              "    <tr>\n",
              "      <th>accuracy</th>\n",
              "      <td>0.885300</td>\n",
              "      <td>0.8853</td>\n",
              "      <td>0.885300</td>\n",
              "      <td>0.8853</td>\n",
              "    </tr>\n",
              "    <tr>\n",
              "      <th>macro avg</th>\n",
              "      <td>0.888133</td>\n",
              "      <td>0.8853</td>\n",
              "      <td>0.885643</td>\n",
              "      <td>10000.0000</td>\n",
              "    </tr>\n",
              "    <tr>\n",
              "      <th>weighted avg</th>\n",
              "      <td>0.888133</td>\n",
              "      <td>0.8853</td>\n",
              "      <td>0.885643</td>\n",
              "      <td>10000.0000</td>\n",
              "    </tr>\n",
              "  </tbody>\n",
              "</table>\n",
              "</div>"
            ],
            "text/plain": [
              "              precision  recall  f1-score     support\n",
              "T-shirt/top    0.859763  0.7970  0.827193   1000.0000\n",
              "Trouser        0.994856  0.9670  0.980730   1000.0000\n",
              "Pullover       0.876761  0.7470  0.806695   1000.0000\n",
              "Dress          0.854898  0.9250  0.888569   1000.0000\n",
              "Coat           0.805118  0.8180  0.811508   1000.0000\n",
              "Sandal         0.982546  0.9570  0.969605   1000.0000\n",
              "Shirt          0.665175  0.7430  0.701937   1000.0000\n",
              "Sneaker        0.950050  0.9510  0.950525   1000.0000\n",
              "Bag            0.947776  0.9800  0.963618   1000.0000\n",
              "Ankle boot     0.944390  0.9680  0.956049   1000.0000\n",
              "accuracy       0.885300  0.8853  0.885300      0.8853\n",
              "macro avg      0.888133  0.8853  0.885643  10000.0000\n",
              "weighted avg   0.888133  0.8853  0.885643  10000.0000"
            ]
          },
          "metadata": {},
          "execution_count": 32
        }
      ]
    },
    {
      "cell_type": "markdown",
      "metadata": {
        "id": "N1s56haEifiI"
      },
      "source": [
        "#### Confusion Matrix for LeNet Model"
      ]
    },
    {
      "cell_type": "code",
      "metadata": {
        "id": "Y4CFUlvEmc58",
        "colab": {
          "base_uri": "https://localhost:8080/",
          "height": 700
        },
        "outputId": "3e3303ee-0b4d-45f9-d850-4799a75e98fe"
      },
      "source": [
        "###############################\n",
        "# code by Lee Hao Jie  #\n",
        "###############################\n",
        "\n",
        "confusion_matrix_df = pd.DataFrame(confusion_matrix(y_true, y_pred), index = testset.classes, columns = testset.classes)\n",
        "fig = plt.figure(figsize=(12,12))\n",
        "sns.heatmap(confusion_matrix_df,annot=True, fmt='g')\n",
        "plt.show()"
      ],
      "execution_count": 33,
      "outputs": [
        {
          "output_type": "display_data",
          "data": {
            "image/png": "[encoded data removed]",
            "text/plain": [
              "<Figure size 864x864 with 2 Axes>"
            ]
          },
          "metadata": {
            "needs_background": "light"
          }
        }
      ]
    },
    {
      "cell_type": "markdown",
      "metadata": {
        "id": "e7_iz-k3MWf2"
      },
      "source": [
        "## Squeeze Excitation (SE) ResNet Model (Done by Lee Hao Jie)"
      ]
    },
    {
      "cell_type": "code",
      "metadata": {
        "id": "sISh1Mm5M8G9"
      },
      "source": [
        "###############################\n",
        "# code by Lee Hao Jie  #\n",
        "###############################\n",
        "\n",
        "model2 = SEResnet(num_of_class)\n",
        "optimizer2 = optim.SGD(model2.parameters(), lr = lr, momentum = momentum)\n",
        "model2, _ = load_model_optim(file_dir, \"Model_2\", model2, optimizer2, device)"
      ],
      "execution_count": 34,
      "outputs": []
    },
    {
      "cell_type": "code",
      "metadata": {
        "colab": {
          "base_uri": "https://localhost:8080/"
        },
        "id": "VSvGljC8_Jx-",
        "outputId": "33fbbf12-d318-4404-b358-68627e8d515b"
      },
      "source": [
        "###############################\n",
        "# code by Lee Hao Jie  #\n",
        "###############################\n",
        "\n",
        "summary(model2, (1, 32, 32), device = \"cpu\")"
      ],
      "execution_count": 35,
      "outputs": [
        {
          "output_type": "stream",
          "text": [
            "----------------------------------------------------------------\n",
            "        Layer (type)               Output Shape         Param #\n",
            "================================================================\n",
            "            Conv2d-1           [-1, 64, 16, 16]           1,664\n",
            "       BatchNorm2d-2           [-1, 64, 16, 16]             128\n",
            "            Conv2d-3           [-1, 64, 16, 16]          36,928\n",
            "       BatchNorm2d-4           [-1, 64, 16, 16]             128\n",
            "            Conv2d-5           [-1, 64, 16, 16]          36,928\n",
            "       BatchNorm2d-6           [-1, 64, 16, 16]             128\n",
            "            Linear-7                    [-1, 4]             256\n",
            "              ReLU-8                    [-1, 4]               0\n",
            "            Linear-9                   [-1, 64]             256\n",
            "          Sigmoid-10                   [-1, 64]               0\n",
            "          SELayer-11           [-1, 64, 16, 16]               0\n",
            "           Conv2d-12           [-1, 64, 16, 16]          36,928\n",
            "      BatchNorm2d-13           [-1, 64, 16, 16]             128\n",
            "           Conv2d-14           [-1, 64, 16, 16]          36,928\n",
            "      BatchNorm2d-15           [-1, 64, 16, 16]             128\n",
            "           Linear-16                    [-1, 4]             256\n",
            "             ReLU-17                    [-1, 4]               0\n",
            "           Linear-18                   [-1, 64]             256\n",
            "          Sigmoid-19                   [-1, 64]               0\n",
            "          SELayer-20           [-1, 64, 16, 16]               0\n",
            "            Block-21           [-1, 64, 16, 16]               0\n",
            "           Conv2d-22            [-1, 128, 8, 8]           8,320\n",
            "      BatchNorm2d-23            [-1, 128, 8, 8]             256\n",
            "           Conv2d-24            [-1, 128, 8, 8]          73,856\n",
            "      BatchNorm2d-25            [-1, 128, 8, 8]             256\n",
            "           Conv2d-26            [-1, 128, 8, 8]         147,584\n",
            "      BatchNorm2d-27            [-1, 128, 8, 8]             256\n",
            "           Linear-28                    [-1, 8]           1,024\n",
            "             ReLU-29                    [-1, 8]               0\n",
            "           Linear-30                  [-1, 128]           1,024\n",
            "          Sigmoid-31                  [-1, 128]               0\n",
            "          SELayer-32            [-1, 128, 8, 8]               0\n",
            "           Conv2d-33            [-1, 128, 8, 8]         147,584\n",
            "      BatchNorm2d-34            [-1, 128, 8, 8]             256\n",
            "           Conv2d-35            [-1, 128, 8, 8]         147,584\n",
            "      BatchNorm2d-36            [-1, 128, 8, 8]             256\n",
            "           Linear-37                    [-1, 8]           1,024\n",
            "             ReLU-38                    [-1, 8]               0\n",
            "           Linear-39                  [-1, 128]           1,024\n",
            "          Sigmoid-40                  [-1, 128]               0\n",
            "          SELayer-41            [-1, 128, 8, 8]               0\n",
            "            Block-42            [-1, 128, 8, 8]               0\n",
            "           Conv2d-43            [-1, 256, 4, 4]          33,024\n",
            "      BatchNorm2d-44            [-1, 256, 4, 4]             512\n",
            "           Conv2d-45            [-1, 256, 4, 4]         295,168\n",
            "      BatchNorm2d-46            [-1, 256, 4, 4]             512\n",
            "           Conv2d-47            [-1, 256, 4, 4]         590,080\n",
            "      BatchNorm2d-48            [-1, 256, 4, 4]             512\n",
            "           Linear-49                   [-1, 16]           4,096\n",
            "             ReLU-50                   [-1, 16]               0\n",
            "           Linear-51                  [-1, 256]           4,096\n",
            "          Sigmoid-52                  [-1, 256]               0\n",
            "          SELayer-53            [-1, 256, 4, 4]               0\n",
            "           Conv2d-54            [-1, 256, 4, 4]         590,080\n",
            "      BatchNorm2d-55            [-1, 256, 4, 4]             512\n",
            "           Conv2d-56            [-1, 256, 4, 4]         590,080\n",
            "      BatchNorm2d-57            [-1, 256, 4, 4]             512\n",
            "           Linear-58                   [-1, 16]           4,096\n",
            "             ReLU-59                   [-1, 16]               0\n",
            "           Linear-60                  [-1, 256]           4,096\n",
            "          Sigmoid-61                  [-1, 256]               0\n",
            "          SELayer-62            [-1, 256, 4, 4]               0\n",
            "            Block-63            [-1, 256, 4, 4]               0\n",
            "           Linear-64                   [-1, 10]           2,570\n",
            "================================================================\n",
            "Total params: 2,801,290\n",
            "Trainable params: 2,801,290\n",
            "Non-trainable params: 0\n",
            "----------------------------------------------------------------\n",
            "Input size (MB): 0.00\n",
            "Forward/backward pass size (MB): 2.86\n",
            "Params size (MB): 10.69\n",
            "Estimated Total Size (MB): 13.55\n",
            "----------------------------------------------------------------\n"
          ],
          "name": "stdout"
        }
      ]
    },
    {
      "cell_type": "code",
      "metadata": {
        "id": "yKbil0RQoRcC",
        "colab": {
          "base_uri": "https://localhost:8080/"
        },
        "outputId": "25f3d645-8c7f-4106-bc6c-e8cddf34a16e"
      },
      "source": [
        "###############################\n",
        "# code by Lee Hao Jie  #\n",
        "###############################\n",
        "\n",
        "acc_score = evaluate(model2, testloader, device)\n",
        "print(f'Accuracy = {acc_score:.2f}%')"
      ],
      "execution_count": 36,
      "outputs": [
        {
          "output_type": "stream",
          "text": [
            "Accuracy = 91.16%\n"
          ],
          "name": "stdout"
        }
      ]
    },
    {
      "cell_type": "markdown",
      "metadata": {
        "id": "jcIhhc6xnAHo"
      },
      "source": [
        "#### Get Y True and Y Pred for Squeeze Excitation (SE) ResNet Model"
      ]
    },
    {
      "cell_type": "code",
      "metadata": {
        "id": "VF9ZUKw-nPkl"
      },
      "source": [
        "###############################\n",
        "# code by Lee Hao Jie  #\n",
        "###############################\n",
        "\n",
        "y_true, y_pred = get_true_pred(model2, testloader, device)"
      ],
      "execution_count": 37,
      "outputs": []
    },
    {
      "cell_type": "markdown",
      "metadata": {
        "id": "mWOJjsyYnHSs"
      },
      "source": [
        "#### Classification Report for Squeeze Excitation (SE) ResNet Model"
      ]
    },
    {
      "cell_type": "code",
      "metadata": {
        "id": "DjQnzrdUnQ1F",
        "colab": {
          "base_uri": "https://localhost:8080/",
          "height": 457
        },
        "outputId": "f81649a5-d490-4510-868c-c997254ae336"
      },
      "source": [
        "###############################\n",
        "# code by Lee Hao Jie  #\n",
        "###############################\n",
        "\n",
        "clf_report_2 = pd.DataFrame(classification_report(y_true, y_pred, target_names = testset.classes, output_dict = True)).transpose()\n",
        "clf_report_2"
      ],
      "execution_count": 38,
      "outputs": [
        {
          "output_type": "execute_result",
          "data": {
            "text/html": [
              "<div>\n",
              "<style scoped>\n",
              "    .dataframe tbody tr th:only-of-type {\n",
              "        vertical-align: middle;\n",
              "    }\n",
              "\n",
              "    .dataframe tbody tr th {\n",
              "        vertical-align: top;\n",
              "    }\n",
              "\n",
              "    .dataframe thead th {\n",
              "        text-align: right;\n",
              "    }\n",
              "</style>\n",
              "<table border=\"1\" class=\"dataframe\">\n",
              "  <thead>\n",
              "    <tr style=\"text-align: right;\">\n",
              "      <th></th>\n",
              "      <th>precision</th>\n",
              "      <th>recall</th>\n",
              "      <th>f1-score</th>\n",
              "      <th>support</th>\n",
              "    </tr>\n",
              "  </thead>\n",
              "  <tbody>\n",
              "    <tr>\n",
              "      <th>T-shirt/top</th>\n",
              "      <td>0.846229</td>\n",
              "      <td>0.8640</td>\n",
              "      <td>0.855022</td>\n",
              "      <td>1000.0000</td>\n",
              "    </tr>\n",
              "    <tr>\n",
              "      <th>Trouser</th>\n",
              "      <td>0.990991</td>\n",
              "      <td>0.9900</td>\n",
              "      <td>0.990495</td>\n",
              "      <td>1000.0000</td>\n",
              "    </tr>\n",
              "    <tr>\n",
              "      <th>Pullover</th>\n",
              "      <td>0.912262</td>\n",
              "      <td>0.8630</td>\n",
              "      <td>0.886948</td>\n",
              "      <td>1000.0000</td>\n",
              "    </tr>\n",
              "    <tr>\n",
              "      <th>Dress</th>\n",
              "      <td>0.924431</td>\n",
              "      <td>0.8930</td>\n",
              "      <td>0.908444</td>\n",
              "      <td>1000.0000</td>\n",
              "    </tr>\n",
              "    <tr>\n",
              "      <th>Coat</th>\n",
              "      <td>0.842697</td>\n",
              "      <td>0.9000</td>\n",
              "      <td>0.870406</td>\n",
              "      <td>1000.0000</td>\n",
              "    </tr>\n",
              "    <tr>\n",
              "      <th>Sandal</th>\n",
              "      <td>0.919444</td>\n",
              "      <td>0.9930</td>\n",
              "      <td>0.954808</td>\n",
              "      <td>1000.0000</td>\n",
              "    </tr>\n",
              "    <tr>\n",
              "      <th>Shirt</th>\n",
              "      <td>0.790526</td>\n",
              "      <td>0.7510</td>\n",
              "      <td>0.770256</td>\n",
              "      <td>1000.0000</td>\n",
              "    </tr>\n",
              "    <tr>\n",
              "      <th>Sneaker</th>\n",
              "      <td>0.977468</td>\n",
              "      <td>0.9110</td>\n",
              "      <td>0.943064</td>\n",
              "      <td>1000.0000</td>\n",
              "    </tr>\n",
              "    <tr>\n",
              "      <th>Bag</th>\n",
              "      <td>0.954413</td>\n",
              "      <td>0.9840</td>\n",
              "      <td>0.968981</td>\n",
              "      <td>1000.0000</td>\n",
              "    </tr>\n",
              "    <tr>\n",
              "      <th>Ankle boot</th>\n",
              "      <td>0.960278</td>\n",
              "      <td>0.9670</td>\n",
              "      <td>0.963627</td>\n",
              "      <td>1000.0000</td>\n",
              "    </tr>\n",
              "    <tr>\n",
              "      <th>accuracy</th>\n",
              "      <td>0.911600</td>\n",
              "      <td>0.9116</td>\n",
              "      <td>0.911600</td>\n",
              "      <td>0.9116</td>\n",
              "    </tr>\n",
              "    <tr>\n",
              "      <th>macro avg</th>\n",
              "      <td>0.911874</td>\n",
              "      <td>0.9116</td>\n",
              "      <td>0.911205</td>\n",
              "      <td>10000.0000</td>\n",
              "    </tr>\n",
              "    <tr>\n",
              "      <th>weighted avg</th>\n",
              "      <td>0.911874</td>\n",
              "      <td>0.9116</td>\n",
              "      <td>0.911205</td>\n",
              "      <td>10000.0000</td>\n",
              "    </tr>\n",
              "  </tbody>\n",
              "</table>\n",
              "</div>"
            ],
            "text/plain": [
              "              precision  recall  f1-score     support\n",
              "T-shirt/top    0.846229  0.8640  0.855022   1000.0000\n",
              "Trouser        0.990991  0.9900  0.990495   1000.0000\n",
              "Pullover       0.912262  0.8630  0.886948   1000.0000\n",
              "Dress          0.924431  0.8930  0.908444   1000.0000\n",
              "Coat           0.842697  0.9000  0.870406   1000.0000\n",
              "Sandal         0.919444  0.9930  0.954808   1000.0000\n",
              "Shirt          0.790526  0.7510  0.770256   1000.0000\n",
              "Sneaker        0.977468  0.9110  0.943064   1000.0000\n",
              "Bag            0.954413  0.9840  0.968981   1000.0000\n",
              "Ankle boot     0.960278  0.9670  0.963627   1000.0000\n",
              "accuracy       0.911600  0.9116  0.911600      0.9116\n",
              "macro avg      0.911874  0.9116  0.911205  10000.0000\n",
              "weighted avg   0.911874  0.9116  0.911205  10000.0000"
            ]
          },
          "metadata": {},
          "execution_count": 38
        }
      ]
    },
    {
      "cell_type": "markdown",
      "metadata": {
        "id": "2mJUG1SJnC5a"
      },
      "source": [
        "#### Confusion Matrix for Squeeze Excitation (SE) ResNet Model"
      ]
    },
    {
      "cell_type": "code",
      "metadata": {
        "id": "1bBL9_qWnREF",
        "colab": {
          "base_uri": "https://localhost:8080/",
          "height": 700
        },
        "outputId": "5f1d8598-e3ee-4d74-be99-6edb50faee81"
      },
      "source": [
        "###############################\n",
        "# code by Lee Hao Jie  #\n",
        "###############################\n",
        "\n",
        "confusion_matrix_df = pd.DataFrame(confusion_matrix(y_true, y_pred), index = testset.classes, columns = testset.classes)\n",
        "fig = plt.figure(figsize=(12,12))\n",
        "sns.heatmap(confusion_matrix_df,annot=True, fmt='g')\n",
        "plt.show()"
      ],
      "execution_count": 39,
      "outputs": [
        {
          "output_type": "display_data",
          "data": {
            "image/png": "[encoded data removed]",
            "text/plain": [
              "<Figure size 864x864 with 2 Axes>"
            ]
          },
          "metadata": {
            "needs_background": "light"
          }
        }
      ]
    },
    {
      "cell_type": "markdown",
      "metadata": {
        "id": "1zRBtVNXMxo_"
      },
      "source": [
        "## CNN + BN + Skip Connection Model (Done By Tan Xi En)\n"
      ]
    },
    {
      "cell_type": "code",
      "metadata": {
        "id": "h0p0t_9TM0IU"
      },
      "source": [
        "###############################\n",
        "# code by Tan Xi En  #\n",
        "###############################\n",
        "\n",
        "model3 = cnn_model3(num_of_class)\n",
        "optimizer3 = optim.SGD(model3.parameters(), lr = lr, momentum = momentum)\n",
        "model3, _ = load_model_optim(file_dir, \"Model_3\", model3, optimizer3, device)"
      ],
      "execution_count": 40,
      "outputs": []
    },
    {
      "cell_type": "code",
      "metadata": {
        "colab": {
          "base_uri": "https://localhost:8080/"
        },
        "id": "_mmVnOMf_OfS",
        "outputId": "297d3320-0082-45b5-af16-87a22b48c156"
      },
      "source": [
        "###############################\n",
        "# code by Tan Xi En  #\n",
        "###############################\n",
        "\n",
        "summary(model3, (1, 32, 32), device = \"cpu\")"
      ],
      "execution_count": 41,
      "outputs": [
        {
          "output_type": "stream",
          "text": [
            "----------------------------------------------------------------\n",
            "        Layer (type)               Output Shape         Param #\n",
            "================================================================\n",
            "       BatchNorm2d-1            [-1, 1, 32, 32]               2\n",
            "            Conv2d-2           [-1, 32, 32, 32]             320\n",
            "              ReLU-3           [-1, 32, 32, 32]               0\n",
            "       BatchNorm2d-4           [-1, 32, 16, 16]              64\n",
            "            Conv2d-5           [-1, 32, 16, 16]           9,248\n",
            "              ReLU-6           [-1, 32, 16, 16]               0\n",
            "            Linear-7                  [-1, 128]         262,272\n",
            "           Dropout-8                  [-1, 128]               0\n",
            "            Linear-9                   [-1, 10]           1,290\n",
            "================================================================\n",
            "Total params: 273,196\n",
            "Trainable params: 273,196\n",
            "Non-trainable params: 0\n",
            "----------------------------------------------------------------\n",
            "Input size (MB): 0.00\n",
            "Forward/backward pass size (MB): 0.70\n",
            "Params size (MB): 1.04\n",
            "Estimated Total Size (MB): 1.74\n",
            "----------------------------------------------------------------\n"
          ],
          "name": "stdout"
        },
        {
          "output_type": "stream",
          "text": [
            "/usr/local/lib/python3.7/dist-packages/torch/nn/functional.py:718: UserWarning: Named tensors and all their associated APIs are an experimental feature and subject to change. Please do not use them for anything important until they are released as stable. (Triggered internally at  /pytorch/c10/core/TensorImpl.h:1156.)\n",
            "  return torch.max_pool2d(input, kernel_size, stride, padding, dilation, ceil_mode)\n"
          ],
          "name": "stderr"
        }
      ]
    },
    {
      "cell_type": "code",
      "metadata": {
        "id": "sJIrf_5JoNi8",
        "colab": {
          "base_uri": "https://localhost:8080/"
        },
        "outputId": "d1bcce54-387a-41e2-b16f-7c1e08727ea3"
      },
      "source": [
        "###############################\n",
        "# code by Tan Xi En  #\n",
        "###############################\n",
        "\n",
        "acc_score = evaluate(model3, testloader, device)\n",
        "print(f'Accuracy = {acc_score:.2f}%')"
      ],
      "execution_count": 42,
      "outputs": [
        {
          "output_type": "stream",
          "text": [
            "Accuracy = 88.67%\n"
          ],
          "name": "stdout"
        }
      ]
    },
    {
      "cell_type": "markdown",
      "metadata": {
        "id": "j7saqPaynZZO"
      },
      "source": [
        "#### Get Y True and Y Pred for CNN + BN + Skip Connection Model"
      ]
    },
    {
      "cell_type": "code",
      "metadata": {
        "id": "WhEWzXden7rW"
      },
      "source": [
        "###############################\n",
        "# code by Tan Xi En  #\n",
        "###############################\n",
        "\n",
        "y_true, y_pred = get_true_pred(model3, testloader, device)"
      ],
      "execution_count": 43,
      "outputs": []
    },
    {
      "cell_type": "markdown",
      "metadata": {
        "id": "J2JNnkF4nc8s"
      },
      "source": [
        "#### Get Classification Report for CNN + BN + Skip Connection Model"
      ]
    },
    {
      "cell_type": "code",
      "metadata": {
        "id": "qxQvGVs8n-J-",
        "colab": {
          "base_uri": "https://localhost:8080/",
          "height": 457
        },
        "outputId": "c5b85b22-269f-4401-dbbb-592e980796d9"
      },
      "source": [
        "###############################\n",
        "# code by Lee Hao Jie  #\n",
        "###############################\n",
        "\n",
        "clf_report_3 = pd.DataFrame(classification_report(y_true, y_pred, target_names = testset.classes, output_dict = True)).transpose()\n",
        "clf_report_3"
      ],
      "execution_count": 44,
      "outputs": [
        {
          "output_type": "execute_result",
          "data": {
            "text/html": [
              "<div>\n",
              "<style scoped>\n",
              "    .dataframe tbody tr th:only-of-type {\n",
              "        vertical-align: middle;\n",
              "    }\n",
              "\n",
              "    .dataframe tbody tr th {\n",
              "        vertical-align: top;\n",
              "    }\n",
              "\n",
              "    .dataframe thead th {\n",
              "        text-align: right;\n",
              "    }\n",
              "</style>\n",
              "<table border=\"1\" class=\"dataframe\">\n",
              "  <thead>\n",
              "    <tr style=\"text-align: right;\">\n",
              "      <th></th>\n",
              "      <th>precision</th>\n",
              "      <th>recall</th>\n",
              "      <th>f1-score</th>\n",
              "      <th>support</th>\n",
              "    </tr>\n",
              "  </thead>\n",
              "  <tbody>\n",
              "    <tr>\n",
              "      <th>T-shirt/top</th>\n",
              "      <td>0.788530</td>\n",
              "      <td>0.8800</td>\n",
              "      <td>0.831758</td>\n",
              "      <td>1000.0000</td>\n",
              "    </tr>\n",
              "    <tr>\n",
              "      <th>Trouser</th>\n",
              "      <td>0.991878</td>\n",
              "      <td>0.9770</td>\n",
              "      <td>0.984383</td>\n",
              "      <td>1000.0000</td>\n",
              "    </tr>\n",
              "    <tr>\n",
              "      <th>Pullover</th>\n",
              "      <td>0.789520</td>\n",
              "      <td>0.8890</td>\n",
              "      <td>0.836312</td>\n",
              "      <td>1000.0000</td>\n",
              "    </tr>\n",
              "    <tr>\n",
              "      <th>Dress</th>\n",
              "      <td>0.893167</td>\n",
              "      <td>0.9280</td>\n",
              "      <td>0.910250</td>\n",
              "      <td>1000.0000</td>\n",
              "    </tr>\n",
              "    <tr>\n",
              "      <th>Coat</th>\n",
              "      <td>0.931034</td>\n",
              "      <td>0.6750</td>\n",
              "      <td>0.782609</td>\n",
              "      <td>1000.0000</td>\n",
              "    </tr>\n",
              "    <tr>\n",
              "      <th>Sandal</th>\n",
              "      <td>0.895964</td>\n",
              "      <td>0.9990</td>\n",
              "      <td>0.944681</td>\n",
              "      <td>1000.0000</td>\n",
              "    </tr>\n",
              "    <tr>\n",
              "      <th>Shirt</th>\n",
              "      <td>0.715158</td>\n",
              "      <td>0.7030</td>\n",
              "      <td>0.709027</td>\n",
              "      <td>1000.0000</td>\n",
              "    </tr>\n",
              "    <tr>\n",
              "      <th>Sneaker</th>\n",
              "      <td>0.980571</td>\n",
              "      <td>0.8580</td>\n",
              "      <td>0.915200</td>\n",
              "      <td>1000.0000</td>\n",
              "    </tr>\n",
              "    <tr>\n",
              "      <th>Bag</th>\n",
              "      <td>0.974181</td>\n",
              "      <td>0.9810</td>\n",
              "      <td>0.977578</td>\n",
              "      <td>1000.0000</td>\n",
              "    </tr>\n",
              "    <tr>\n",
              "      <th>Ankle boot</th>\n",
              "      <td>0.949466</td>\n",
              "      <td>0.9770</td>\n",
              "      <td>0.963036</td>\n",
              "      <td>1000.0000</td>\n",
              "    </tr>\n",
              "    <tr>\n",
              "      <th>accuracy</th>\n",
              "      <td>0.886700</td>\n",
              "      <td>0.8867</td>\n",
              "      <td>0.886700</td>\n",
              "      <td>0.8867</td>\n",
              "    </tr>\n",
              "    <tr>\n",
              "      <th>macro avg</th>\n",
              "      <td>0.890947</td>\n",
              "      <td>0.8867</td>\n",
              "      <td>0.885483</td>\n",
              "      <td>10000.0000</td>\n",
              "    </tr>\n",
              "    <tr>\n",
              "      <th>weighted avg</th>\n",
              "      <td>0.890947</td>\n",
              "      <td>0.8867</td>\n",
              "      <td>0.885483</td>\n",
              "      <td>10000.0000</td>\n",
              "    </tr>\n",
              "  </tbody>\n",
              "</table>\n",
              "</div>"
            ],
            "text/plain": [
              "              precision  recall  f1-score     support\n",
              "T-shirt/top    0.788530  0.8800  0.831758   1000.0000\n",
              "Trouser        0.991878  0.9770  0.984383   1000.0000\n",
              "Pullover       0.789520  0.8890  0.836312   1000.0000\n",
              "Dress          0.893167  0.9280  0.910250   1000.0000\n",
              "Coat           0.931034  0.6750  0.782609   1000.0000\n",
              "Sandal         0.895964  0.9990  0.944681   1000.0000\n",
              "Shirt          0.715158  0.7030  0.709027   1000.0000\n",
              "Sneaker        0.980571  0.8580  0.915200   1000.0000\n",
              "Bag            0.974181  0.9810  0.977578   1000.0000\n",
              "Ankle boot     0.949466  0.9770  0.963036   1000.0000\n",
              "accuracy       0.886700  0.8867  0.886700      0.8867\n",
              "macro avg      0.890947  0.8867  0.885483  10000.0000\n",
              "weighted avg   0.890947  0.8867  0.885483  10000.0000"
            ]
          },
          "metadata": {},
          "execution_count": 44
        }
      ]
    },
    {
      "cell_type": "markdown",
      "metadata": {
        "id": "wBhhxStyn5l0"
      },
      "source": [
        "#### Confusion Matrix for CNN + BN + Skip Connection Model"
      ]
    },
    {
      "cell_type": "code",
      "metadata": {
        "id": "2n9rUT_1qBdF",
        "colab": {
          "base_uri": "https://localhost:8080/",
          "height": 700
        },
        "outputId": "0fe0e284-f48c-4ebe-e5dc-abbb06f255f7"
      },
      "source": [
        "###############################\n",
        "# code by Lee Hao Jie  #\n",
        "###############################\n",
        "\n",
        "confusion_matrix_df = pd.DataFrame(confusion_matrix(y_true, y_pred), index = testset.classes, columns = testset.classes)\n",
        "fig = plt.figure(figsize=(12,12))\n",
        "sns.heatmap(confusion_matrix_df,annot=True, fmt='g')\n",
        "plt.show()"
      ],
      "execution_count": 45,
      "outputs": [
        {
          "output_type": "display_data",
          "data": {
            "image/png": "[encoded data removed]",
            "text/plain": [
              "<Figure size 864x864 with 2 Axes>"
            ]
          },
          "metadata": {
            "needs_background": "light"
          }
        }
      ]
    },
    {
      "cell_type": "markdown",
      "metadata": {
        "id": "etICk6ezhmnJ"
      },
      "source": [
        "## Train Loss and Test Accuracy vs Epoch"
      ]
    },
    {
      "cell_type": "code",
      "metadata": {
        "id": "DVxs8mI5i_hz"
      },
      "source": [
        "###############################\n",
        "# code by Tan Xi En  #\n",
        "###############################\n",
        "\n",
        "def train_test_graph(df, x_label, y_label, title):\n",
        "    for val in df.columns:\n",
        "        plt.plot(df.index, val, data=df, label = val)\n",
        "    plt.legend(bbox_to_anchor=(1.0, 1.05))\n",
        "    plt.xlabel(x_label)\n",
        "    plt.ylabel(y_label)\n",
        "    plt.title(title)\n",
        "    plt.show()"
      ],
      "execution_count": 46,
      "outputs": []
    },
    {
      "cell_type": "markdown",
      "metadata": {
        "id": "re5xlE-soui2"
      },
      "source": [
        "### Train Loss vs Epoch"
      ]
    },
    {
      "cell_type": "code",
      "metadata": {
        "id": "Bdz35siTiw06"
      },
      "source": [
        "###############################\n",
        "# code by Tan Xi En  #\n",
        "###############################\n",
        "\n",
        "model_name_arr = [\"LeNet Model\", \"SEResNet Model \", \"CNN2 + BN + Skip Model\"]\n",
        "file_name_arr = [\"Model_1\", \"Model_2\", \"Model_3\"]\n",
        "train_loss_dict = {\n",
        "    model_name:load_model_loss(file_dir, file_name, device) for model_name, file_name in zip(model_name_arr, file_name_arr)\n",
        "}\n",
        "length = len(load_model_loss(file_dir, file_name_arr[0], device))\n",
        "df = pd.DataFrame(train_loss_dict, index = range(1, length + 1))"
      ],
      "execution_count": 47,
      "outputs": []
    },
    {
      "cell_type": "code",
      "metadata": {
        "id": "kXEUmUg7jY34",
        "colab": {
          "base_uri": "https://localhost:8080/",
          "height": 295
        },
        "outputId": "dd845f51-beca-4089-ed66-f34bcc74ea6a"
      },
      "source": [
        "###############################\n",
        "# code by Tan Xi En  #\n",
        "###############################\n",
        "\n",
        "train_test_graph(df, \"Epochs\", \"Training Cross-Entropy Loss\", \"Training Loss vs Epoch\")"
      ],
      "execution_count": 48,
      "outputs": [
        {
          "output_type": "display_data",
          "data": {
            "image/png": "[encoded data removed]",
            "text/plain": [
              "<Figure size 432x288 with 1 Axes>"
            ]
          },
          "metadata": {
            "needs_background": "light"
          }
        }
      ]
    },
    {
      "cell_type": "markdown",
      "metadata": {
        "id": "HIrY0C-VitjX"
      },
      "source": [
        "### Test Accuracy vs Epoch"
      ]
    },
    {
      "cell_type": "code",
      "metadata": {
        "id": "iwVTN9vbkcJG"
      },
      "source": [
        "###############################\n",
        "# code by Tan Xi En  #\n",
        "###############################\n",
        "\n",
        "model_name_arr = [\"LeNet Model\", \"SEResNet Model\", \"CNN2 + BN + Skip Model\"]\n",
        "file_name_arr = [\"Model_1\", \"Model_2\", \"Model_3\"]\n",
        "train_acc_dict = {\n",
        "    model_name:load_model_acc(file_dir, file_name, device) for model_name, file_name in zip(model_name_arr, file_name_arr)\n",
        "}\n",
        "length = len(load_model_acc(file_dir, file_name_arr[0], device))\n",
        "df = pd.DataFrame(train_acc_dict, index = range(1, length + 1))"
      ],
      "execution_count": 49,
      "outputs": []
    },
    {
      "cell_type": "code",
      "metadata": {
        "id": "2eDmpJ9TkjBv",
        "colab": {
          "base_uri": "https://localhost:8080/",
          "height": 295
        },
        "outputId": "8acff886-11f2-4b26-d064-499e97446d17"
      },
      "source": [
        "###############################\n",
        "# code by Tan Xi En  #\n",
        "###############################\n",
        "\n",
        "train_test_graph(df, \"Epochs\", \"Test Accuracy\", \"Test Accuracy vs Epoch\")"
      ],
      "execution_count": 50,
      "outputs": [
        {
          "output_type": "display_data",
          "data": {
            "image/png": "[encoded data removed]",
            "text/plain": [
              "<Figure size 432x288 with 1 Axes>"
            ]
          },
          "metadata": {
            "needs_background": "light"
          }
        }
      ]
    },
    {
      "cell_type": "markdown",
      "metadata": {
        "id": "lL1nDQUiQr5L"
      },
      "source": [
        "## Performance of Each Model （Done by Yikanin Yit）\n",
        "* Precision\n",
        "* Recall\n",
        "* F1 Score\n",
        "* Accuracy"
      ]
    },
    {
      "cell_type": "code",
      "metadata": {
        "id": "aPxSJOgFvzZB"
      },
      "source": [
        "###############################\n",
        "# code by Yikanin Yit  #\n",
        "###############################\n",
        "\n",
        "def pfr_graph(df, x_label, y_label, title):\n",
        "    df.plot.bar()\n",
        "    plt.legend(bbox_to_anchor=(1, 1.05))\n",
        "    plt.xlabel(x_label)\n",
        "    plt.ylabel(y_label)\n",
        "    plt.title(title)\n",
        "    plt.show()"
      ],
      "execution_count": 51,
      "outputs": []
    },
    {
      "cell_type": "code",
      "metadata": {
        "id": "2Q2L855gwIyT"
      },
      "source": [
        "###############################\n",
        "# code by Yikanin Yit  #\n",
        "###############################\n",
        "\n",
        "def get_df_type(model_name, clf_report1, clf_report2,clf_report3, col_name):\n",
        "    df = pd.DataFrame()\n",
        "    df[model_name[0]] = clf_report1[col_name][:-3]\n",
        "    df[model_name[1]] = clf_report2[col_name][:-3]\n",
        "    df[model_name[2]] = clf_report3[col_name][:-3]\n",
        "    \n",
        "    # Replace NA value with 0\n",
        "    df.fillna(0, inplace=True)\n",
        "    return df"
      ],
      "execution_count": 52,
      "outputs": []
    },
    {
      "cell_type": "markdown",
      "metadata": {
        "id": "Z4QNKtULv3jU"
      },
      "source": [
        "### Precision Graph"
      ]
    },
    {
      "cell_type": "code",
      "metadata": {
        "id": "BsdmilmfwHi-",
        "colab": {
          "base_uri": "https://localhost:8080/",
          "height": 339
        },
        "outputId": "a37c6f90-32d3-4021-f543-dc3f3e11fd90"
      },
      "source": [
        "###############################\n",
        "# code by Yikanin Yit  #\n",
        "###############################\n",
        "\n",
        "model_name = [\"LeNet Model\", \"SeResNet Model\", \"CNN2 + BN + Skip Model\"]\n",
        "df = get_df_type(model_name, clf_report_1, clf_report_2,clf_report_3, \"precision\")\n",
        "pfr_graph(df, \"Fashion Article Types\", \"Score\", \"Precision Comparison\")"
      ],
      "execution_count": 53,
      "outputs": [
        {
          "output_type": "display_data",
          "data": {
            "image/png": "[encoded data removed]",
            "text/plain": [
              "<Figure size 432x288 with 1 Axes>"
            ]
          },
          "metadata": {
            "needs_background": "light"
          }
        }
      ]
    },
    {
      "cell_type": "markdown",
      "metadata": {
        "id": "b8RHmHBsv_xh"
      },
      "source": [
        "### Recall Graph"
      ]
    },
    {
      "cell_type": "code",
      "metadata": {
        "id": "ZItT7dQDwR0E",
        "colab": {
          "base_uri": "https://localhost:8080/",
          "height": 339
        },
        "outputId": "d1e8f923-f0bb-43ae-f26b-b1b257e88607"
      },
      "source": [
        "###############################\n",
        "# code by Yikanin Yit  #\n",
        "###############################\n",
        "\n",
        "model_name = [\"LeNet Model\", \"SeResNet Model\", \"CNN2 + BN + Skip Model\"]\n",
        "df = get_df_type(model_name, clf_report_1, clf_report_2,clf_report_3, \"recall\")\n",
        "pfr_graph(df, \"Fashion Article Types\", \"Score\", \"Recall Comparison\")"
      ],
      "execution_count": 54,
      "outputs": [
        {
          "output_type": "display_data",
          "data": {
            "image/png": "[encoded data removed]",
            "text/plain": [
              "<Figure size 432x288 with 1 Axes>"
            ]
          },
          "metadata": {
            "needs_background": "light"
          }
        }
      ]
    },
    {
      "cell_type": "markdown",
      "metadata": {
        "id": "rXA8gkymwBZi"
      },
      "source": [
        "### F1-Score Graph"
      ]
    },
    {
      "cell_type": "code",
      "metadata": {
        "id": "3CTHGONIwFG-",
        "colab": {
          "base_uri": "https://localhost:8080/",
          "height": 339
        },
        "outputId": "e6742f9f-1278-4c29-d40d-ad68479e3562"
      },
      "source": [
        "###############################\n",
        "# code by Yikanin Yit  #\n",
        "###############################\n",
        "\n",
        "model_name = [\"LeNet Model\", \"SeResNet Model\", \"CNN2 + BN + Skip Model\"]\n",
        "df = get_df_type(model_name, clf_report_1, clf_report_2,clf_report_3, \"f1-score\")\n",
        "pfr_graph(df, \"Fashion Article Types\", \"Score\", \"F1 Score Comparison\")"
      ],
      "execution_count": 55,
      "outputs": [
        {
          "output_type": "display_data",
          "data": {
            "image/png": "[encoded data removed]",
            "text/plain": [
              "<Figure size 432x288 with 1 Axes>"
            ]
          },
          "metadata": {
            "needs_background": "light"
          }
        }
      ]
    },
    {
      "cell_type": "markdown",
      "metadata": {
        "id": "Q-0JLofSwfeT"
      },
      "source": [
        "### Accuracy Score Comparison"
      ]
    },
    {
      "cell_type": "code",
      "metadata": {
        "id": "J8LWskUFwm6q"
      },
      "source": [
        "###############################\n",
        "# code by Yikanin Yit  #\n",
        "###############################\n",
        "\n",
        "acc_score_arr = []\n",
        "acc_score_arr.append(evaluate(model1, testloader, device))\n",
        "acc_score_arr.append(evaluate(model2, testloader, device))\n",
        "acc_score_arr.append(evaluate(model3, testloader, device))"
      ],
      "execution_count": 56,
      "outputs": []
    },
    {
      "cell_type": "code",
      "metadata": {
        "id": "JDldarqDw0uQ"
      },
      "source": [
        "###############################\n",
        "# code by Yikanin Yit  #\n",
        "###############################\n",
        "\n",
        "def acc_graph(model_name_arr ,acc_score_arr, x_label, y_label, title):\n",
        "    acc_dict = {\n",
        "        model_name: acc_score for model_name, acc_score in zip(model_name_arr, acc_score_arr)\n",
        "    }\n",
        "    df = pd.Series(acc_dict)\n",
        "    fig, ax = plt.subplots(figsize=(12, 2))\n",
        "    for ind, val in enumerate(df):\n",
        "        ax.barh(ind, val, 0.5, label=df.index[ind])\n",
        "        ax.text(val,ind,f\"{val:.1f}%\")\n",
        "    plt.yticks(np.arange(len(df)),df.index)\n",
        "    plt.legend(bbox_to_anchor=(1, 1.05))\n",
        "    plt.xlabel(x_label)\n",
        "    plt.ylabel(y_label)\n",
        "    plt.title(title)\n",
        "    plt.show()"
      ],
      "execution_count": 57,
      "outputs": []
    },
    {
      "cell_type": "code",
      "metadata": {
        "id": "ICCbzt6pxfvc",
        "colab": {
          "base_uri": "https://localhost:8080/",
          "height": 187
        },
        "outputId": "e9b1b215-b4be-44a9-f132-c8356c1501af"
      },
      "source": [
        "###############################\n",
        "# code by Yikanin Yit  #\n",
        "###############################\n",
        "\n",
        "model_name_arr = [\"LeNet Model\", \"SeResNet Model\", \"CNN2 + BN + Skip Model\"]\n",
        "acc_graph(model_name_arr, acc_score_arr, \"Accuracy Score\", \"Types of Model\", \"Accuracy Score Comparison\")"
      ],
      "execution_count": 58,
      "outputs": [
        {
          "output_type": "display_data",
          "data": {
            "image/png": "[encoded data removed]",
            "text/plain": [
              "<Figure size 864x144 with 1 Axes>"
            ]
          },
          "metadata": {
            "needs_background": "light"
          }
        }
      ]
    }
  ]
}