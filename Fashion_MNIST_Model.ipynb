{
  "nbformat": 4,
  "nbformat_minor": 0,
  "metadata": {
    "colab": {
      "name": "Fashion_MNIST_Model.ipynb",
      "provenance": [],
      "collapsed_sections": []
    },
    "kernelspec": {
      "name": "python3",
      "display_name": "Python 3"
    },
    "language_info": {
      "name": "python"
    },
    "accelerator": "GPU"
  },
  "cells": [
    {
      "cell_type": "markdown",
      "metadata": {
        "id": "7eBIr8b5aqwG"
      },
      "source": [
        "## Mount Notebook to Google Colab Drive"
      ]
    },
    {
      "cell_type": "code",
      "metadata": {
        "id": "9VraP7JTaqBP",
        "colab": {
          "base_uri": "https://localhost:8080/"
        },
        "outputId": "978418ec-1114-4634-d4e9-a46f93a74d30"
      },
      "source": [
        "from google.colab import drive\n",
        "drive.mount('/content/drive')"
      ],
      "execution_count": null,
      "outputs": [
        {
          "output_type": "stream",
          "text": [
            "Mounted at /content/drive\n"
          ],
          "name": "stdout"
        }
      ]
    },
    {
      "cell_type": "markdown",
      "metadata": {
        "id": "pNVuKkMuaufv"
      },
      "source": [
        "## Change Directory"
      ]
    },
    {
      "cell_type": "code",
      "metadata": {
        "id": "dBcBdPdjapwl",
        "colab": {
          "base_uri": "https://localhost:8080/"
        },
        "outputId": "6edd4f8e-dd1d-41d4-f73c-1da75122c473"
      },
      "source": [
        "cd /content/drive/MyDrive/Deep_Learning_Assignment_May_2021/Deep_Learning_Assignment"
      ],
      "execution_count": null,
      "outputs": [
        {
          "output_type": "stream",
          "text": [
            "/content/drive/MyDrive/Deep_Learning_Assignment_May_2021/Deep_Learning_Assignment\n"
          ],
          "name": "stdout"
        }
      ]
    },
    {
      "cell_type": "markdown",
      "metadata": {
        "id": "xABULw_tbIZx"
      },
      "source": [
        "## Load Libraries"
      ]
    },
    {
      "cell_type": "code",
      "metadata": {
        "id": "a379duUmbME2"
      },
      "source": [
        "import os\n",
        "import math\n",
        "import matplotlib\n",
        "import numpy as np\n",
        "import pandas as pd\n",
        "import torch.nn as nn\n",
        "import seaborn as sns\n",
        "import torch, torchvision\n",
        "import torch.optim as optim\n",
        "import torch.nn.functional as F\n",
        "import matplotlib.pyplot as plt\n",
        "import torchvision.models as models\n",
        "import torch.utils.data as data_utils\n",
        "\n",
        "from PIL import Image, ImageOps\n",
        "from torchsummary import summary\n",
        "from torchvision import transforms, utils\n",
        "from torch.utils.data import Dataset, DataLoader\n",
        "from sklearn.metrics import classification_report, confusion_matrix"
      ],
      "execution_count": null,
      "outputs": []
    },
    {
      "cell_type": "markdown",
      "metadata": {
        "id": "JdTNzG70VbSF"
      },
      "source": [
        "## Create Dataset Classes\n",
        "This is to transform any dataset we import into a class that can be processed by our model\n"
      ]
    },
    {
      "cell_type": "markdown",
      "metadata": {
        "id": "Vhw6GdLjb9Xl"
      },
      "source": [
        "### 1. Fashion MNIST Dataset"
      ]
    },
    {
      "cell_type": "code",
      "metadata": {
        "id": "kCthiKoIcDFk"
      },
      "source": [
        "###############################\n",
        "# code by Lee Hao Jie  #\n",
        "###############################\n",
        "class FashionMNIST(Dataset):\n",
        "    \n",
        "    def __init__(self, root = \".\", train = True, download=False, transform=None, num_samples = None):\n",
        "        self.classes = ['T-shirt/top', 'Trouser', 'Pullover', 'Dress', 'Coat', 'Sandal', 'Shirt', 'Sneaker', 'Bag', 'Ankle boot']\n",
        "        self.num_classes = len(self.classes)            \n",
        "        self.__dataset = torchvision.datasets.FashionMNIST(root=root, train=train, download=download, transform=transform)\n",
        "        self.__num_samples = min(num_samples, len(self.__dataset)) if num_samples is not None else len(self.__dataset)\n",
        "                       \n",
        "    def __len__(self):\n",
        "        return self.__num_samples\n",
        "    \n",
        "    def __getitem__(self, idx):            \n",
        "        return self.__dataset[idx]"
      ],
      "execution_count": null,
      "outputs": []
    },
    {
      "cell_type": "markdown",
      "metadata": {
        "id": "yAfwYegQuK4w"
      },
      "source": [
        "### 2. Fashion Product Small Dataset"
      ]
    },
    {
      "cell_type": "code",
      "metadata": {
        "id": "_SSDMJ90uNLT"
      },
      "source": [
        "###############################\n",
        "# code by Tan Xi En  #\n",
        "###############################\n",
        "# We try to work on other fashion dataset but\n",
        "# it take too long for collab to process the dataset\n",
        "\n",
        "class FashionProductSmallDataset(Dataset):\n",
        "    def __init__(self, csv_name, image_path, transform=None):\n",
        "        df = pd.read_csv(csv_name)\n",
        "        self.data = []\n",
        "        self.labels = []\n",
        "        self.classes = sorted(df.articleType.unique())\n",
        "        self.transform = transform\n",
        "\n",
        "        for class_id, cls in enumerate(self.classes):\n",
        "            cls_folder = os.path.join(image_path, cls)\n",
        "            for img_name in os.listdir(cls_folder):\n",
        "                self.data.append(os.path.join(cls_folder, img_name))\n",
        "                self.labels.append(class_id)\n",
        "\n",
        "    def __len__(self):\n",
        "        return len(self.data)\n",
        "    \n",
        "    def __getitem__(self, idx):\n",
        "        image = Image.open(self.data[idx])\n",
        "        if self.transform is not None:\n",
        "            image = self.transform(image)\n",
        "        label = self.labels[idx]\n",
        "        return image, label"
      ],
      "execution_count": null,
      "outputs": []
    },
    {
      "cell_type": "markdown",
      "metadata": {
        "id": "cJV8EjTkumus"
      },
      "source": [
        "## Fetch Dataset"
      ]
    },
    {
      "cell_type": "code",
      "metadata": {
        "id": "fRoFERXDui8E",
        "colab": {
          "base_uri": "https://localhost:8080/"
        },
        "outputId": "020eef1b-1f41-4955-f8d7-d456032868f4"
      },
      "source": [
        "dataset = FashionMNIST(root=\".\", download= True)"
      ],
      "execution_count": null,
      "outputs": [
        {
          "output_type": "stream",
          "text": [
            "/usr/local/lib/python3.7/dist-packages/torchvision/datasets/mnist.py:498: UserWarning: The given NumPy array is not writeable, and PyTorch does not support non-writeable tensors. This means you can write to the underlying (supposedly non-writeable) NumPy array using the tensor. You may want to copy the array to protect its data or make it writeable before converting it to a tensor. This type of warning will be suppressed for the rest of this program. (Triggered internally at  /pytorch/torch/csrc/utils/tensor_numpy.cpp:180.)\n",
            "  return torch.from_numpy(parsed.astype(m[2], copy=False)).view(*s)\n"
          ],
          "name": "stderr"
        }
      ]
    },
    {
      "cell_type": "markdown",
      "metadata": {
        "id": "CONb7SLFxboa"
      },
      "source": [
        "## Original Image"
      ]
    },
    {
      "cell_type": "code",
      "metadata": {
        "id": "oDAinoxbxgUQ"
      },
      "source": [
        "def show_image(img):\n",
        "    plt.imshow (img, cmap = matplotlib.cm.gray, interpolation = 'nearest')"
      ],
      "execution_count": null,
      "outputs": []
    },
    {
      "cell_type": "code",
      "metadata": {
        "id": "Ztr9vgdtxjbR",
        "colab": {
          "base_uri": "https://localhost:8080/",
          "height": 282
        },
        "outputId": "ddd505e2-0788-4ad0-9f14-d13430236403"
      },
      "source": [
        "idx = 10\n",
        "img, label = dataset[idx]\n",
        "\n",
        "show_image(img)\n",
        "print(img.size)"
      ],
      "execution_count": null,
      "outputs": [
        {
          "output_type": "stream",
          "text": [
            "(28, 28)\n"
          ],
          "name": "stdout"
        },
        {
          "output_type": "display_data",
          "data": {
            "image/png": "[encoded data removed]",
            "text/plain": [
              "<Figure size 432x288 with 1 Axes>"
            ]
          },
          "metadata": {
            "needs_background": "light"
          }
        }
      ]
    },
    {
      "cell_type": "markdown",
      "metadata": {
        "id": "2KL0PIYWwcc_"
      },
      "source": [
        "## Transformation Pipeline\n",
        "* Resize image from (28,28) to Standard Image Size (32, 32)\n",
        "* Convert Tensor Pil Image to Tensor\n",
        "* Normalize Image to Tensor Float\n",
        "* _Data Augmentation (Extra): Random Crop_\n",
        "* _Data Augmentation (Extra): Random Horizontal Flip_\n"
      ]
    },
    {
      "cell_type": "code",
      "metadata": {
        "id": "gQLqrvQ8HjHI"
      },
      "source": [
        "###############################\n",
        "# code by Lee Hao Jie  #\n",
        "###############################\n",
        "\n",
        "fashion_MNIST_transform= transforms.Compose([ \n",
        "    transforms.Resize(32),       \n",
        "    transforms.ToTensor(),\n",
        "    transforms.Normalize((0.5,), (1.0,))\n",
        "])"
      ],
      "execution_count": null,
      "outputs": []
    },
    {
      "cell_type": "code",
      "metadata": {
        "id": "LeOM569TvPSx"
      },
      "source": [
        "###############################\n",
        "# code by Tan Xi En  #\n",
        "###############################\n",
        "\n",
        "fashion_product_small_transform = transforms.Compose([\n",
        "    transforms.Lambda(lambda img: ImageOps.grayscale(img)),                                              \n",
        "    transforms.Resize(32),\n",
        "    transforms.RandomCrop(28),                            \n",
        "    transforms.ToTensor(),\n",
        "    transforms.Normalize((0.5,), (1.0,))\n",
        "])"
      ],
      "execution_count": null,
      "outputs": []
    },
    {
      "cell_type": "markdown",
      "metadata": {
        "id": "bLml6MTUkM6p"
      },
      "source": [
        "## Load Dataset, Split Dataset, Batch Loader"
      ]
    },
    {
      "cell_type": "markdown",
      "metadata": {
        "id": "8eZ97TD0vxh8"
      },
      "source": [
        "### Fashion MNIST Dataset"
      ]
    },
    {
      "cell_type": "code",
      "metadata": {
        "id": "mmGhPPBw4YSk"
      },
      "source": [
        "###############################\n",
        "# code by Lee Hao Jie  #\n",
        "###############################\n",
        "\n",
        "## Split dataset into trainset and test set\n",
        "\n",
        "trainset = FashionMNIST(root=\".\",train=True, download= True, transform = fashion_MNIST_transform)\n",
        "testset = FashionMNIST(root=\".\",train=False, download= True, transform = fashion_MNIST_transform)\n",
        "\n",
        "## BatchLoader\n",
        "trainloader = DataLoader(trainset, batch_size = 20, shuffle = True, num_workers = 2)\n",
        "testloader = DataLoader(testset, batch_size = 20, shuffle = True, num_workers = 2)"
      ],
      "execution_count": null,
      "outputs": []
    },
    {
      "cell_type": "markdown",
      "metadata": {
        "id": "mnzNDOqcmlk0"
      },
      "source": [
        "### Fashion Product Small Dataset"
      ]
    },
    {
      "cell_type": "code",
      "metadata": {
        "id": "t1nLPjbomoki"
      },
      "source": [
        "###############################\n",
        "# code by Tan Xi En  #\n",
        "###############################\n",
        "\n",
        "# csv_name = \"./fashion_product_small_img/fashion_image_small.csv\"\n",
        "# image_path = \"./fashion_product_small_img/kaggle_fashion_small/\"\n",
        "# dataset = FashionProductSmallDataset(csv_name, image_path, transform = fashion_product_small_transform)\n",
        "\n",
        "# ## Split Dataset into Train Set and Testing Set\n",
        "# x = math.ceil(len(dataset) * 0.8)\n",
        "# y = len(dataset) - x\n",
        "# trainset, testset = torch.utils.data.random_split(dataset, [x, y])\n",
        "\n",
        "# ## BatchLoader\n",
        "# trainloader = DataLoader(trainset, batch_size = 4, shuffle = True, num_workers = 2)\n",
        "# testloader = DataLoader(testset, batch_size = 4, shuffle = True, num_workers = 2)"
      ],
      "execution_count": null,
      "outputs": []
    },
    {
      "cell_type": "markdown",
      "metadata": {
        "id": "fwj4Ef6uyEyf"
      },
      "source": [
        "## Global Variables"
      ]
    },
    {
      "cell_type": "code",
      "metadata": {
        "id": "0zWByYmbZHN2"
      },
      "source": [
        "###############################\n",
        "# code by Lee Hao Jie  #\n",
        "###############################\n",
        "lr = 0.001\n",
        "momentum = 0.9\n",
        "# device = \"cuda\" if torch.cuda.is_available() else \"cpu\"\n",
        "device = \"cpu\"\n",
        "file_dir = \"Models\"\n",
        "num_of_class = len(trainset.classes)\n",
        "num_epoch = 10"
      ],
      "execution_count": null,
      "outputs": []
    },
    {
      "cell_type": "markdown",
      "metadata": {
        "id": "DQXNJJFJ5cNn"
      },
      "source": [
        "## Train Function\n",
        "\n",
        "#### Train Pipeline:\n",
        "\n",
        "* Optimizer => Used to update parameters after forward-backward Propagation\n",
        "* Loss Function => Used to update the direction of the gradient\n",
        "* The following train Model uses Gradient Descent algorithm. The gradient descent algorithm has the following pipeline.\n",
        "  * Forward Propagation\n",
        "  * Update Gradient to backwards\n",
        "  * Backward Propagation\n",
        "* For each epoch, the training loss and the test accuracy is recorded and stored for analysis purpose.\n",
        "\n",
        "The save Function Records:\n",
        "* Model Parameters\n",
        "* Optimizer Parameters\n",
        "* Last Epoch\n",
        "* Train Loss for Each Epoch\n",
        "* Test Accuracy for Each Epoch"
      ]
    },
    {
      "cell_type": "code",
      "metadata": {
        "id": "B5GcNXrD8SOI"
      },
      "source": [
        "##################################################\n",
        "# code by Lee Hao Jie and Tan Xi En  #\n",
        "##################################################\n",
        "# This train function will save model based on file_dir and file_name\n",
        "# determine by user and save the train loss and test accuracy in .pt file \n",
        "\n",
        "def train(model, trainloader, testloader, optimizer, file_dir, file_name, device, num_epoch=25, loss_iter=250, verbose=True):\n",
        "\n",
        "    history_train_loss, history_train_accuracy = [], []\n",
        "    loss_iterations = int(np.ceil(len(trainloader)/loss_iter))\n",
        "\n",
        "    # set to training mode\n",
        "    model.train()\n",
        "\n",
        "    # train the network\n",
        "    for e in range(num_epoch):\n",
        "        running_loss, running_count, train_loss = 0.0, 0.0, 0\n",
        "        for i, (inputs, labels) in enumerate(trainloader):\n",
        "            optimizer.zero_grad()\n",
        "\n",
        "            inputs = inputs.to(device)\n",
        "            labels = labels.to(device)\n",
        "\n",
        "            outs = model(inputs)\n",
        "            loss = F.cross_entropy(outs, labels)\n",
        "            loss.backward()\n",
        "            optimizer.step()\n",
        "\n",
        "            running_loss += loss.item()\n",
        "            running_count += 1\n",
        "            train_loss = 0\n",
        "\n",
        "            if i % loss_iterations == loss_iterations - 1 or i == len(trainloader) - 1:\n",
        "                train_loss = running_loss / running_count\n",
        "                running_loss, running_count = 0.0, 0.0\n",
        "                if verbose:\n",
        "                    print(f'[Epoch {e+1:2d}/{num_epoch:d} Iter {i+1:5d}/{len(trainloader)}]: train_loss = {train_loss:.4f}')\n",
        "\n",
        "        # Train Loss for Each Epoch\n",
        "        history_train_loss.append(train_loss)\n",
        "\n",
        "        # Train Accuracy for Each Epoch\n",
        "        running_corrects = 0\n",
        "        for inputs, targets in testloader:\n",
        "\n",
        "            # transfer to the GPU\n",
        "            inputs = inputs.to(device)\n",
        "            targets = targets.to(device)\n",
        "\n",
        "            # disable gradient computation\n",
        "            with torch.no_grad():\n",
        "                outputs = model(inputs)\n",
        "                _, predicted = torch.max(outputs, 1)\n",
        "                running_corrects += (targets == predicted).double().sum()\n",
        "\n",
        "        history_train_accuracy.append(\n",
        "            running_corrects/len(testloader.dataset)*100.0)\n",
        "\n",
        "        # save the model(done by Tan Xi En)\n",
        "        checkpoint_file = f'./{file_dir}/{file_name}.pt'\n",
        "        torch.save({\n",
        "          \"epoch\": num_epoch,\n",
        "          \"model_state_dict\": model.state_dict(),\n",
        "          \"optimizer_state_dict\": optimizer.state_dict(),\n",
        "          \"history_train_loss\": history_train_loss,\n",
        "          \"history_train_accuracy\": history_train_accuracy\n",
        "        }, checkpoint_file)\n"
      ],
      "execution_count": null,
      "outputs": []
    },
    {
      "cell_type": "markdown",
      "metadata": {
        "id": "6PI0kirDHbfm"
      },
      "source": [
        "## Evaluate Model Performance"
      ]
    },
    {
      "cell_type": "code",
      "metadata": {
        "id": "rXk44bLkHfjf"
      },
      "source": [
        "###############################\n",
        "# code by Lee Hao Jie  #\n",
        "###############################\n",
        "\n",
        "def evaluate(model, testloader, device):\n",
        "\n",
        "    # set to evaluation mode\n",
        "    model.eval()\n",
        "\n",
        "    # running_correct\n",
        "    running_corrects = 0\n",
        "\n",
        "    # Repeat for all batch data in the test set\n",
        "    for inputs, targets in testloader:\n",
        "\n",
        "        # transfer to the GPU\n",
        "        inputs = inputs.to(device)\n",
        "        targets = targets.to(device)\n",
        "\n",
        "        # # disable gradient computation\n",
        "        with torch.no_grad():\n",
        "            outputs = model(inputs)\n",
        "            _, predicted = torch.max(outputs, 1)\n",
        "            running_corrects += (targets == predicted).double().sum()\n",
        "\n",
        "    return 100*running_corrects/len(testloader.dataset)"
      ],
      "execution_count": null,
      "outputs": []
    },
    {
      "cell_type": "markdown",
      "metadata": {
        "id": "4K0oscT0Wz7E"
      },
      "source": [
        "## 3. LeNet Model (Done by Yikanin Yit)\n",
        "\n",
        "![LeNet Model](https://drive.google.com/uc?id=19rKcKXQ2S6k7xbMWFumWCYnYyRbcGskH)"
      ]
    },
    {
      "cell_type": "code",
      "metadata": {
        "id": "dB7rW31AsjA1"
      },
      "source": [
        "###############################\n",
        "# code by Yikanin Yit  #\n",
        "###############################\n",
        "\n",
        "class LeNet5(nn.Module):\n",
        "  def __init__(self):\n",
        "    super().__init__()\n",
        "\n",
        "    # define layers\n",
        "    self.conv1 = nn.Conv2d(in_channels=1, out_channels=6, kernel_size=5,stride=1)\n",
        "    self.pool1 = nn.AvgPool2d(2,2)\n",
        "    self.conv2 = nn.Conv2d(in_channels=6, out_channels=16, kernel_size=5,stride=1)\n",
        "    self.pool2 = nn.AvgPool2d(2,2)\n",
        "\n",
        "    self.fc1 = nn.Linear(in_features=400, out_features=120)\n",
        "    self.fc2 = nn.Linear(in_features=120, out_features=84)\n",
        "    self.out = nn.Linear(in_features=84, out_features=10)\n",
        "\n",
        "  # define forward function\n",
        "  def forward(self, t):\n",
        "    # conv 1\n",
        "    t = torch.tanh(self.conv1(t))\n",
        "    t = torch.tanh(self.pool1(t))\n",
        "\n",
        "    # conv 2\n",
        "    t = torch.tanh(self.conv2(t))\n",
        "    t = torch.tanh(self.pool2(t))\n",
        "\n",
        "    # fc1\n",
        "    t = t.view(-1,400)\n",
        "    t = torch.tanh(self.fc1(t))\n",
        "\n",
        "    # fc2\n",
        "    t = torch.tanh(self.fc2(t))\n",
        "    \n",
        "    # output\n",
        "    t = self.out(t)\n",
        "    # don't need softmax here since we'll use cross-entropy as activation.\n",
        "\n",
        "    return t"
      ],
      "execution_count": null,
      "outputs": []
    },
    {
      "cell_type": "code",
      "metadata": {
        "id": "ZxZYVJKyiLHm",
        "colab": {
          "base_uri": "https://localhost:8080/"
        },
        "outputId": "27693fd3-68a2-4033-fe8c-0f83590fc56b"
      },
      "source": [
        "###############################\n",
        "# code by Yikanin Yit  #\n",
        "###############################\n",
        "\n",
        "model1 = LeNet5()\n",
        "print(model1)"
      ],
      "execution_count": null,
      "outputs": [
        {
          "output_type": "stream",
          "text": [
            "LeNet5(\n",
            "  (conv1): Conv2d(1, 6, kernel_size=(5, 5), stride=(1, 1))\n",
            "  (pool1): AvgPool2d(kernel_size=2, stride=2, padding=0)\n",
            "  (conv2): Conv2d(6, 16, kernel_size=(5, 5), stride=(1, 1))\n",
            "  (pool2): AvgPool2d(kernel_size=2, stride=2, padding=0)\n",
            "  (fc1): Linear(in_features=400, out_features=120, bias=True)\n",
            "  (fc2): Linear(in_features=120, out_features=84, bias=True)\n",
            "  (out): Linear(in_features=84, out_features=10, bias=True)\n",
            ")\n"
          ],
          "name": "stdout"
        }
      ]
    },
    {
      "cell_type": "code",
      "metadata": {
        "id": "ymIvdIk9yIWn",
        "colab": {
          "base_uri": "https://localhost:8080/"
        },
        "outputId": "2859e5a2-e0b1-4427-aea0-9bf582b7e8a9"
      },
      "source": [
        "###############################\n",
        "# code by Yikanin Yit  #\n",
        "###############################\n",
        "\n",
        "summary(model1, (1, 32, 32), device = \"cpu\")"
      ],
      "execution_count": null,
      "outputs": [
        {
          "output_type": "stream",
          "text": [
            "----------------------------------------------------------------\n",
            "        Layer (type)               Output Shape         Param #\n",
            "================================================================\n",
            "            Conv2d-1            [-1, 6, 28, 28]             156\n",
            "         AvgPool2d-2            [-1, 6, 14, 14]               0\n",
            "            Conv2d-3           [-1, 16, 10, 10]           2,416\n",
            "         AvgPool2d-4             [-1, 16, 5, 5]               0\n",
            "            Linear-5                  [-1, 120]          48,120\n",
            "            Linear-6                   [-1, 84]          10,164\n",
            "            Linear-7                   [-1, 10]             850\n",
            "================================================================\n",
            "Total params: 61,706\n",
            "Trainable params: 61,706\n",
            "Non-trainable params: 0\n",
            "----------------------------------------------------------------\n",
            "Input size (MB): 0.00\n",
            "Forward/backward pass size (MB): 0.06\n",
            "Params size (MB): 0.24\n",
            "Estimated Total Size (MB): 0.30\n",
            "----------------------------------------------------------------\n"
          ],
          "name": "stdout"
        }
      ]
    },
    {
      "cell_type": "code",
      "metadata": {
        "id": "7l3FqfB1pqos",
        "colab": {
          "base_uri": "https://localhost:8080/"
        },
        "outputId": "a851e931-0afc-479f-e539-4e438498776d"
      },
      "source": [
        "###############################\n",
        "# code by Yikanin Yit  #\n",
        "###############################\n",
        "\n",
        "#train this take around an half hour\n",
        "model1 = model1.to(device)\n",
        "optimizer1 = optim.SGD(model1.parameters(), lr=0.001, momentum=0.9)\n",
        "\n",
        "file_name = \"Model_1\"\n",
        "train(model1, trainloader, testloader, optimizer1, file_dir, file_name, device, num_epoch = 25, loss_iter = 10, verbose = True)"
      ],
      "execution_count": null,
      "outputs": [
        {
          "output_type": "stream",
          "text": [
            "[Epoch  1/25 Iter   300/3000]: train_loss = 2.2242\n",
            "[Epoch  1/25 Iter   600/3000]: train_loss = 1.6008\n",
            "[Epoch  1/25 Iter   900/3000]: train_loss = 1.1960\n",
            "[Epoch  1/25 Iter  1200/3000]: train_loss = 1.0166\n",
            "[Epoch  1/25 Iter  1500/3000]: train_loss = 0.8946\n",
            "[Epoch  1/25 Iter  1800/3000]: train_loss = 0.8049\n",
            "[Epoch  1/25 Iter  2100/3000]: train_loss = 0.7632\n",
            "[Epoch  1/25 Iter  2400/3000]: train_loss = 0.7348\n",
            "[Epoch  1/25 Iter  2700/3000]: train_loss = 0.7028\n",
            "[Epoch  1/25 Iter  3000/3000]: train_loss = 0.6709\n",
            "[Epoch  2/25 Iter   300/3000]: train_loss = 0.6327\n",
            "[Epoch  2/25 Iter   600/3000]: train_loss = 0.6597\n",
            "[Epoch  2/25 Iter   900/3000]: train_loss = 0.6239\n",
            "[Epoch  2/25 Iter  1200/3000]: train_loss = 0.6059\n",
            "[Epoch  2/25 Iter  1500/3000]: train_loss = 0.5914\n",
            "[Epoch  2/25 Iter  1800/3000]: train_loss = 0.5708\n",
            "[Epoch  2/25 Iter  2100/3000]: train_loss = 0.5627\n",
            "[Epoch  2/25 Iter  2400/3000]: train_loss = 0.5730\n",
            "[Epoch  2/25 Iter  2700/3000]: train_loss = 0.5704\n",
            "[Epoch  2/25 Iter  3000/3000]: train_loss = 0.5499\n",
            "[Epoch  3/25 Iter   300/3000]: train_loss = 0.5400\n",
            "[Epoch  3/25 Iter   600/3000]: train_loss = 0.5272\n",
            "[Epoch  3/25 Iter   900/3000]: train_loss = 0.5134\n",
            "[Epoch  3/25 Iter  1200/3000]: train_loss = 0.5194\n",
            "[Epoch  3/25 Iter  1500/3000]: train_loss = 0.5076\n",
            "[Epoch  3/25 Iter  1800/3000]: train_loss = 0.5178\n",
            "[Epoch  3/25 Iter  2100/3000]: train_loss = 0.4894\n",
            "[Epoch  3/25 Iter  2400/3000]: train_loss = 0.4956\n",
            "[Epoch  3/25 Iter  2700/3000]: train_loss = 0.4846\n",
            "[Epoch  3/25 Iter  3000/3000]: train_loss = 0.4991\n",
            "[Epoch  4/25 Iter   300/3000]: train_loss = 0.4864\n",
            "[Epoch  4/25 Iter   600/3000]: train_loss = 0.4835\n",
            "[Epoch  4/25 Iter   900/3000]: train_loss = 0.4623\n",
            "[Epoch  4/25 Iter  1200/3000]: train_loss = 0.4775\n",
            "[Epoch  4/25 Iter  1500/3000]: train_loss = 0.4648\n",
            "[Epoch  4/25 Iter  1800/3000]: train_loss = 0.4722\n",
            "[Epoch  4/25 Iter  2100/3000]: train_loss = 0.4553\n",
            "[Epoch  4/25 Iter  2400/3000]: train_loss = 0.4575\n",
            "[Epoch  4/25 Iter  2700/3000]: train_loss = 0.4343\n",
            "[Epoch  4/25 Iter  3000/3000]: train_loss = 0.4271\n",
            "[Epoch  5/25 Iter   300/3000]: train_loss = 0.4457\n",
            "[Epoch  5/25 Iter   600/3000]: train_loss = 0.4488\n",
            "[Epoch  5/25 Iter   900/3000]: train_loss = 0.4547\n",
            "[Epoch  5/25 Iter  1200/3000]: train_loss = 0.4276\n",
            "[Epoch  5/25 Iter  1500/3000]: train_loss = 0.4358\n",
            "[Epoch  5/25 Iter  1800/3000]: train_loss = 0.4150\n",
            "[Epoch  5/25 Iter  2100/3000]: train_loss = 0.4255\n",
            "[Epoch  5/25 Iter  2400/3000]: train_loss = 0.4192\n",
            "[Epoch  5/25 Iter  2700/3000]: train_loss = 0.4110\n",
            "[Epoch  5/25 Iter  3000/3000]: train_loss = 0.4201\n",
            "[Epoch  6/25 Iter   300/3000]: train_loss = 0.4203\n",
            "[Epoch  6/25 Iter   600/3000]: train_loss = 0.4270\n",
            "[Epoch  6/25 Iter   900/3000]: train_loss = 0.4086\n",
            "[Epoch  6/25 Iter  1200/3000]: train_loss = 0.4022\n",
            "[Epoch  6/25 Iter  1500/3000]: train_loss = 0.4214\n",
            "[Epoch  6/25 Iter  1800/3000]: train_loss = 0.4133\n",
            "[Epoch  6/25 Iter  2100/3000]: train_loss = 0.3971\n",
            "[Epoch  6/25 Iter  2400/3000]: train_loss = 0.3974\n",
            "[Epoch  6/25 Iter  2700/3000]: train_loss = 0.3909\n",
            "[Epoch  6/25 Iter  3000/3000]: train_loss = 0.3965\n",
            "[Epoch  7/25 Iter   300/3000]: train_loss = 0.4028\n",
            "[Epoch  7/25 Iter   600/3000]: train_loss = 0.3896\n",
            "[Epoch  7/25 Iter   900/3000]: train_loss = 0.4078\n",
            "[Epoch  7/25 Iter  1200/3000]: train_loss = 0.3895\n",
            "[Epoch  7/25 Iter  1500/3000]: train_loss = 0.3803\n",
            "[Epoch  7/25 Iter  1800/3000]: train_loss = 0.3865\n",
            "[Epoch  7/25 Iter  2100/3000]: train_loss = 0.3842\n",
            "[Epoch  7/25 Iter  2400/3000]: train_loss = 0.3783\n",
            "[Epoch  7/25 Iter  2700/3000]: train_loss = 0.3899\n",
            "[Epoch  7/25 Iter  3000/3000]: train_loss = 0.3716\n",
            "[Epoch  8/25 Iter   300/3000]: train_loss = 0.3620\n",
            "[Epoch  8/25 Iter   600/3000]: train_loss = 0.3920\n",
            "[Epoch  8/25 Iter   900/3000]: train_loss = 0.3821\n",
            "[Epoch  8/25 Iter  1200/3000]: train_loss = 0.3704\n",
            "[Epoch  8/25 Iter  1500/3000]: train_loss = 0.3669\n",
            "[Epoch  8/25 Iter  1800/3000]: train_loss = 0.3670\n",
            "[Epoch  8/25 Iter  2100/3000]: train_loss = 0.3643\n",
            "[Epoch  8/25 Iter  2400/3000]: train_loss = 0.3720\n",
            "[Epoch  8/25 Iter  2700/3000]: train_loss = 0.3722\n",
            "[Epoch  8/25 Iter  3000/3000]: train_loss = 0.3776\n",
            "[Epoch  9/25 Iter   300/3000]: train_loss = 0.3802\n",
            "[Epoch  9/25 Iter   600/3000]: train_loss = 0.3578\n",
            "[Epoch  9/25 Iter   900/3000]: train_loss = 0.3529\n",
            "[Epoch  9/25 Iter  1200/3000]: train_loss = 0.3657\n",
            "[Epoch  9/25 Iter  1500/3000]: train_loss = 0.3518\n",
            "[Epoch  9/25 Iter  1800/3000]: train_loss = 0.3602\n",
            "[Epoch  9/25 Iter  2100/3000]: train_loss = 0.3654\n",
            "[Epoch  9/25 Iter  2400/3000]: train_loss = 0.3680\n",
            "[Epoch  9/25 Iter  2700/3000]: train_loss = 0.3495\n",
            "[Epoch  9/25 Iter  3000/3000]: train_loss = 0.3426\n",
            "[Epoch 10/25 Iter   300/3000]: train_loss = 0.3554\n",
            "[Epoch 10/25 Iter   600/3000]: train_loss = 0.3466\n",
            "[Epoch 10/25 Iter   900/3000]: train_loss = 0.3455\n",
            "[Epoch 10/25 Iter  1200/3000]: train_loss = 0.3580\n",
            "[Epoch 10/25 Iter  1500/3000]: train_loss = 0.3502\n",
            "[Epoch 10/25 Iter  1800/3000]: train_loss = 0.3424\n",
            "[Epoch 10/25 Iter  2100/3000]: train_loss = 0.3274\n",
            "[Epoch 10/25 Iter  2400/3000]: train_loss = 0.3483\n",
            "[Epoch 10/25 Iter  2700/3000]: train_loss = 0.3578\n",
            "[Epoch 10/25 Iter  3000/3000]: train_loss = 0.3539\n",
            "[Epoch 11/25 Iter   300/3000]: train_loss = 0.3348\n",
            "[Epoch 11/25 Iter   600/3000]: train_loss = 0.3439\n",
            "[Epoch 11/25 Iter   900/3000]: train_loss = 0.3538\n",
            "[Epoch 11/25 Iter  1200/3000]: train_loss = 0.3395\n",
            "[Epoch 11/25 Iter  1500/3000]: train_loss = 0.3113\n",
            "[Epoch 11/25 Iter  1800/3000]: train_loss = 0.3566\n",
            "[Epoch 11/25 Iter  2100/3000]: train_loss = 0.3293\n",
            "[Epoch 11/25 Iter  2400/3000]: train_loss = 0.3408\n",
            "[Epoch 11/25 Iter  2700/3000]: train_loss = 0.3263\n",
            "[Epoch 11/25 Iter  3000/3000]: train_loss = 0.3501\n",
            "[Epoch 12/25 Iter   300/3000]: train_loss = 0.3308\n",
            "[Epoch 12/25 Iter   600/3000]: train_loss = 0.3450\n",
            "[Epoch 12/25 Iter   900/3000]: train_loss = 0.3396\n",
            "[Epoch 12/25 Iter  1200/3000]: train_loss = 0.3149\n",
            "[Epoch 12/25 Iter  1500/3000]: train_loss = 0.3359\n",
            "[Epoch 12/25 Iter  1800/3000]: train_loss = 0.3348\n",
            "[Epoch 12/25 Iter  2100/3000]: train_loss = 0.3204\n",
            "[Epoch 12/25 Iter  2400/3000]: train_loss = 0.3096\n",
            "[Epoch 12/25 Iter  2700/3000]: train_loss = 0.3324\n",
            "[Epoch 12/25 Iter  3000/3000]: train_loss = 0.3318\n",
            "[Epoch 13/25 Iter   300/3000]: train_loss = 0.3039\n",
            "[Epoch 13/25 Iter   600/3000]: train_loss = 0.3274\n",
            "[Epoch 13/25 Iter   900/3000]: train_loss = 0.3314\n",
            "[Epoch 13/25 Iter  1200/3000]: train_loss = 0.3319\n",
            "[Epoch 13/25 Iter  1500/3000]: train_loss = 0.3368\n",
            "[Epoch 13/25 Iter  1800/3000]: train_loss = 0.3074\n",
            "[Epoch 13/25 Iter  2100/3000]: train_loss = 0.2968\n",
            "[Epoch 13/25 Iter  2400/3000]: train_loss = 0.3174\n",
            "[Epoch 13/25 Iter  2700/3000]: train_loss = 0.3361\n",
            "[Epoch 13/25 Iter  3000/3000]: train_loss = 0.3308\n",
            "[Epoch 14/25 Iter   300/3000]: train_loss = 0.3173\n",
            "[Epoch 14/25 Iter   600/3000]: train_loss = 0.3153\n",
            "[Epoch 14/25 Iter   900/3000]: train_loss = 0.2983\n",
            "[Epoch 14/25 Iter  1200/3000]: train_loss = 0.3145\n",
            "[Epoch 14/25 Iter  1500/3000]: train_loss = 0.3122\n",
            "[Epoch 14/25 Iter  1800/3000]: train_loss = 0.2984\n",
            "[Epoch 14/25 Iter  2100/3000]: train_loss = 0.3297\n",
            "[Epoch 14/25 Iter  2400/3000]: train_loss = 0.3264\n",
            "[Epoch 14/25 Iter  2700/3000]: train_loss = 0.3196\n",
            "[Epoch 14/25 Iter  3000/3000]: train_loss = 0.3261\n",
            "[Epoch 15/25 Iter   300/3000]: train_loss = 0.3129\n",
            "[Epoch 15/25 Iter   600/3000]: train_loss = 0.3113\n",
            "[Epoch 15/25 Iter   900/3000]: train_loss = 0.3158\n",
            "[Epoch 15/25 Iter  1200/3000]: train_loss = 0.3036\n",
            "[Epoch 15/25 Iter  1500/3000]: train_loss = 0.3079\n",
            "[Epoch 15/25 Iter  1800/3000]: train_loss = 0.3185\n",
            "[Epoch 15/25 Iter  2100/3000]: train_loss = 0.3097\n",
            "[Epoch 15/25 Iter  2400/3000]: train_loss = 0.3045\n",
            "[Epoch 15/25 Iter  2700/3000]: train_loss = 0.2910\n",
            "[Epoch 15/25 Iter  3000/3000]: train_loss = 0.3074\n",
            "[Epoch 16/25 Iter   300/3000]: train_loss = 0.3075\n",
            "[Epoch 16/25 Iter   600/3000]: train_loss = 0.3211\n",
            "[Epoch 16/25 Iter   900/3000]: train_loss = 0.3074\n",
            "[Epoch 16/25 Iter  1200/3000]: train_loss = 0.2892\n",
            "[Epoch 16/25 Iter  1500/3000]: train_loss = 0.3104\n",
            "[Epoch 16/25 Iter  1800/3000]: train_loss = 0.2943\n",
            "[Epoch 16/25 Iter  2100/3000]: train_loss = 0.2937\n",
            "[Epoch 16/25 Iter  2400/3000]: train_loss = 0.2945\n",
            "[Epoch 16/25 Iter  2700/3000]: train_loss = 0.3056\n",
            "[Epoch 16/25 Iter  3000/3000]: train_loss = 0.2949\n",
            "[Epoch 17/25 Iter   300/3000]: train_loss = 0.2938\n",
            "[Epoch 17/25 Iter   600/3000]: train_loss = 0.2925\n",
            "[Epoch 17/25 Iter   900/3000]: train_loss = 0.3004\n",
            "[Epoch 17/25 Iter  1200/3000]: train_loss = 0.2808\n",
            "[Epoch 17/25 Iter  1500/3000]: train_loss = 0.2930\n",
            "[Epoch 17/25 Iter  1800/3000]: train_loss = 0.2857\n",
            "[Epoch 17/25 Iter  2100/3000]: train_loss = 0.3063\n",
            "[Epoch 17/25 Iter  2400/3000]: train_loss = 0.3041\n",
            "[Epoch 17/25 Iter  2700/3000]: train_loss = 0.3131\n",
            "[Epoch 17/25 Iter  3000/3000]: train_loss = 0.3080\n",
            "[Epoch 18/25 Iter   300/3000]: train_loss = 0.2982\n",
            "[Epoch 18/25 Iter   600/3000]: train_loss = 0.2925\n",
            "[Epoch 18/25 Iter   900/3000]: train_loss = 0.2870\n",
            "[Epoch 18/25 Iter  1200/3000]: train_loss = 0.2788\n",
            "[Epoch 18/25 Iter  1500/3000]: train_loss = 0.2856\n",
            "[Epoch 18/25 Iter  1800/3000]: train_loss = 0.3010\n",
            "[Epoch 18/25 Iter  2100/3000]: train_loss = 0.2939\n",
            "[Epoch 18/25 Iter  2400/3000]: train_loss = 0.2964\n",
            "[Epoch 18/25 Iter  2700/3000]: train_loss = 0.2934\n",
            "[Epoch 18/25 Iter  3000/3000]: train_loss = 0.2849\n",
            "[Epoch 19/25 Iter   300/3000]: train_loss = 0.2739\n",
            "[Epoch 19/25 Iter   600/3000]: train_loss = 0.2804\n",
            "[Epoch 19/25 Iter   900/3000]: train_loss = 0.2920\n",
            "[Epoch 19/25 Iter  1200/3000]: train_loss = 0.3014\n",
            "[Epoch 19/25 Iter  1500/3000]: train_loss = 0.2713\n",
            "[Epoch 19/25 Iter  1800/3000]: train_loss = 0.2878\n",
            "[Epoch 19/25 Iter  2100/3000]: train_loss = 0.2860\n",
            "[Epoch 19/25 Iter  2400/3000]: train_loss = 0.2932\n",
            "[Epoch 19/25 Iter  2700/3000]: train_loss = 0.2888\n",
            "[Epoch 19/25 Iter  3000/3000]: train_loss = 0.2831\n",
            "[Epoch 20/25 Iter   300/3000]: train_loss = 0.2766\n",
            "[Epoch 20/25 Iter   600/3000]: train_loss = 0.2646\n",
            "[Epoch 20/25 Iter   900/3000]: train_loss = 0.2827\n",
            "[Epoch 20/25 Iter  1200/3000]: train_loss = 0.2821\n",
            "[Epoch 20/25 Iter  1500/3000]: train_loss = 0.2880\n",
            "[Epoch 20/25 Iter  1800/3000]: train_loss = 0.2836\n",
            "[Epoch 20/25 Iter  2100/3000]: train_loss = 0.2836\n",
            "[Epoch 20/25 Iter  2400/3000]: train_loss = 0.2955\n",
            "[Epoch 20/25 Iter  2700/3000]: train_loss = 0.2765\n",
            "[Epoch 20/25 Iter  3000/3000]: train_loss = 0.2772\n",
            "[Epoch 21/25 Iter   300/3000]: train_loss = 0.2793\n",
            "[Epoch 21/25 Iter   600/3000]: train_loss = 0.2893\n",
            "[Epoch 21/25 Iter   900/3000]: train_loss = 0.2707\n",
            "[Epoch 21/25 Iter  1200/3000]: train_loss = 0.2758\n",
            "[Epoch 21/25 Iter  1500/3000]: train_loss = 0.2884\n",
            "[Epoch 21/25 Iter  1800/3000]: train_loss = 0.2696\n",
            "[Epoch 21/25 Iter  2100/3000]: train_loss = 0.2738\n",
            "[Epoch 21/25 Iter  2400/3000]: train_loss = 0.2749\n",
            "[Epoch 21/25 Iter  2700/3000]: train_loss = 0.2789\n",
            "[Epoch 21/25 Iter  3000/3000]: train_loss = 0.2718\n",
            "[Epoch 22/25 Iter   300/3000]: train_loss = 0.2689\n",
            "[Epoch 22/25 Iter   600/3000]: train_loss = 0.2568\n",
            "[Epoch 22/25 Iter   900/3000]: train_loss = 0.2772\n",
            "[Epoch 22/25 Iter  1200/3000]: train_loss = 0.2680\n",
            "[Epoch 22/25 Iter  1500/3000]: train_loss = 0.2698\n",
            "[Epoch 22/25 Iter  1800/3000]: train_loss = 0.2852\n",
            "[Epoch 22/25 Iter  2100/3000]: train_loss = 0.2720\n",
            "[Epoch 22/25 Iter  2400/3000]: train_loss = 0.2754\n",
            "[Epoch 22/25 Iter  2700/3000]: train_loss = 0.2774\n",
            "[Epoch 22/25 Iter  3000/3000]: train_loss = 0.2750\n",
            "[Epoch 23/25 Iter   300/3000]: train_loss = 0.2713\n",
            "[Epoch 23/25 Iter   600/3000]: train_loss = 0.2708\n",
            "[Epoch 23/25 Iter   900/3000]: train_loss = 0.2666\n",
            "[Epoch 23/25 Iter  1200/3000]: train_loss = 0.2615\n",
            "[Epoch 23/25 Iter  1500/3000]: train_loss = 0.2710\n",
            "[Epoch 23/25 Iter  1800/3000]: train_loss = 0.2802\n",
            "[Epoch 23/25 Iter  2100/3000]: train_loss = 0.2669\n",
            "[Epoch 23/25 Iter  2400/3000]: train_loss = 0.2711\n",
            "[Epoch 23/25 Iter  2700/3000]: train_loss = 0.2570\n",
            "[Epoch 23/25 Iter  3000/3000]: train_loss = 0.2629\n",
            "[Epoch 24/25 Iter   300/3000]: train_loss = 0.2536\n",
            "[Epoch 24/25 Iter   600/3000]: train_loss = 0.2624\n",
            "[Epoch 24/25 Iter   900/3000]: train_loss = 0.2722\n",
            "[Epoch 24/25 Iter  1200/3000]: train_loss = 0.2582\n",
            "[Epoch 24/25 Iter  1500/3000]: train_loss = 0.2579\n",
            "[Epoch 24/25 Iter  1800/3000]: train_loss = 0.2663\n",
            "[Epoch 24/25 Iter  2100/3000]: train_loss = 0.2674\n",
            "[Epoch 24/25 Iter  2400/3000]: train_loss = 0.2620\n",
            "[Epoch 24/25 Iter  2700/3000]: train_loss = 0.2657\n",
            "[Epoch 24/25 Iter  3000/3000]: train_loss = 0.2683\n",
            "[Epoch 25/25 Iter   300/3000]: train_loss = 0.2510\n",
            "[Epoch 25/25 Iter   600/3000]: train_loss = 0.2633\n",
            "[Epoch 25/25 Iter   900/3000]: train_loss = 0.2756\n",
            "[Epoch 25/25 Iter  1200/3000]: train_loss = 0.2628\n",
            "[Epoch 25/25 Iter  1500/3000]: train_loss = 0.2473\n",
            "[Epoch 25/25 Iter  1800/3000]: train_loss = 0.2590\n",
            "[Epoch 25/25 Iter  2100/3000]: train_loss = 0.2709\n",
            "[Epoch 25/25 Iter  2400/3000]: train_loss = 0.2570\n",
            "[Epoch 25/25 Iter  2700/3000]: train_loss = 0.2625\n",
            "[Epoch 25/25 Iter  3000/3000]: train_loss = 0.2421\n"
          ],
          "name": "stdout"
        }
      ]
    },
    {
      "cell_type": "code",
      "metadata": {
        "id": "P5SCKLgwprty",
        "colab": {
          "base_uri": "https://localhost:8080/"
        },
        "outputId": "f83ecbef-82ef-4d9e-81ca-79276e4f6229"
      },
      "source": [
        "###############################\n",
        "# code by Yikanin Yit  #\n",
        "###############################\n",
        "\n",
        "acc_score = evaluate(model1, testloader, device)\n",
        "print(f'Accuracy = {acc_score:.2f}%')"
      ],
      "execution_count": null,
      "outputs": [
        {
          "output_type": "stream",
          "text": [
            "Accuracy = 88.53%\n"
          ],
          "name": "stdout"
        }
      ]
    },
    {
      "cell_type": "markdown",
      "metadata": {
        "id": "pSDM0lXg5r-Y"
      },
      "source": [
        "## 4. Squeeze Excitation (SE) ResNet Model (Done by Lee Hao Jie)\n",
        "\n",
        "![Squeeze Excitation (SE) ResNet Model](https://drive.google.com/uc?id=1jKqW1JX9ErqomwZkFSIMNhbZoshL25On)\n",
        "\n",
        "Source Link: https://github.com/moskomule/senet.pytorch/blob/master/senet/se_module.py\n"
      ]
    },
    {
      "cell_type": "code",
      "metadata": {
        "id": "wQTZam41qHSH"
      },
      "source": [
        "###############################\n",
        "# code by Lee Hao Jie  #\n",
        "###############################\n",
        "\n",
        "def conv_block(in_c,out_c,k=3,s=1):\n",
        "    #3x3 use stride 1 or 7x7 use stride 3\n",
        "    if k==3:\n",
        "      p=1\n",
        "    elif k==5:\n",
        "      p=2\n",
        "    else:\n",
        "      p=0\n",
        "\n",
        "    block = nn.Sequential(\n",
        "        nn.Conv2d(in_channels = in_c, out_channels = out_c, kernel_size = k, stride = s, padding = p),\n",
        "        nn.BatchNorm2d(out_c)\n",
        "    )\n",
        "    return block"
      ],
      "execution_count": null,
      "outputs": []
    },
    {
      "cell_type": "code",
      "metadata": {
        "id": "ObWwcP5M5hgL"
      },
      "source": [
        "###############################\n",
        "# code by Lee Hao Jie. Adapted From https://github.com/moskomule/senet.pytorch/blob/master/senet/se_module.py #\n",
        "###############################\n",
        "\n",
        "class SELayer(nn.Module):\n",
        "    def __init__(self, channel, reduction=16):\n",
        "        super(SELayer, self).__init__()\n",
        "        self.fc = nn.Sequential(\n",
        "            nn.Linear(channel, channel // reduction, bias=False),\n",
        "            nn.ReLU(inplace=True),\n",
        "            nn.Linear(channel // reduction, channel, bias=False),\n",
        "            nn.Sigmoid()\n",
        "        )\n",
        "\n",
        "    def forward(self, x):\n",
        "        y = F.adaptive_avg_pool2d(x,1).view(x.size()[0], x.size()[1])\n",
        "        y = self.fc(y).view(x.size()[0], x.size()[1], 1, 1)\n",
        "        return x * y.expand_as(x)"
      ],
      "execution_count": null,
      "outputs": []
    },
    {
      "cell_type": "code",
      "metadata": {
        "id": "rp0GpAtUzCNP"
      },
      "source": [
        "###############################\n",
        "# code by Lee Hao Jie  #\n",
        "###############################\n",
        "\n",
        "class Block(nn.Module):\n",
        "\n",
        "    def __init__(self, in_c, out_c, downsample=None):\n",
        "        super(Block, self).__init__()\n",
        "        self.downsmaple = downsample\n",
        "        if downsample is None:\n",
        "          kernels=[3,3]\n",
        "          self.conv1 = nn.ModuleList(conv_block(in_c, out_c, k) for k in kernels)\n",
        "          self.se1 = SELayer(out_c,16)\n",
        "          self.conv2 = nn.ModuleList(conv_block(out_c, out_c, k) for k in kernels)\n",
        "          self.se2 = SELayer(out_c,16)\n",
        "        else:\n",
        "          kernels=[3,3]\n",
        "          self.convs2_1=conv_block(in_c, out_c,1,2)\n",
        "          self.convs2_2=conv_block(in_c, out_c, kernels[0],2)\n",
        "          self.conv1 = nn.ModuleList(conv_block(out_c, out_c, k) for k in kernels[1:])\n",
        "          self.se1 = SELayer(out_c,16)\n",
        "          self.conv2 = nn.ModuleList(conv_block(out_c, out_c, k) for k in kernels)\n",
        "          self.se2 = SELayer(out_c,16)\n",
        "       \n",
        "\n",
        "    def forward(self, x):\n",
        "        if self.downsmaple is None:\n",
        "          residual = x\n",
        "        else:\n",
        "          residual = self.convs2_1(x)\n",
        "          x=self.convs2_2(x)\n",
        "        \n",
        "        for conv in self.conv1 :\n",
        "          x = F.relu(conv(x))\n",
        "        x = self.se1(x)\n",
        "        x += residual\n",
        "        x = F.relu(x)\n",
        "\n",
        "        residual = x\n",
        "        for conv in self.conv2 :\n",
        "          x = F.relu(conv(x))\n",
        "        x = self.se2(x)\n",
        "        x += residual\n",
        "        x = F.relu(x)\n",
        "\n",
        "        return x"
      ],
      "execution_count": null,
      "outputs": []
    },
    {
      "cell_type": "code",
      "metadata": {
        "id": "bQjDibzm5962"
      },
      "source": [
        "###############################\n",
        "# code by Lee Hao Jie  #\n",
        "###############################\n",
        "\n",
        "class SEResnet(nn.Module):\n",
        "    def __init__(self, num_of_class=10):\n",
        "        super().__init__()\n",
        "        self.stem=conv_block(1,64,5,2)\n",
        "        self.block1=Block(64,64)\n",
        "        self.block2=Block(64,128,downsample=True)\n",
        "        self.block3=Block(128,256,downsample=True)\n",
        "        self.fc=nn.Linear(256,num_of_class)\n",
        "    def forward(self, x):\n",
        "        x=F.relu(self.stem(x))\n",
        "        x=self.block1(x)\n",
        "        x=self.block2(x)\n",
        "        x=self.block3(x)\n",
        "        x=F.adaptive_avg_pool2d(x,1)\n",
        "        x=x.view(x.size(0),-1)\n",
        "        x=self.fc(x)\n",
        "        return x\n"
      ],
      "execution_count": null,
      "outputs": []
    },
    {
      "cell_type": "code",
      "metadata": {
        "id": "xW6_Lz9Q6xO4",
        "colab": {
          "base_uri": "https://localhost:8080/"
        },
        "outputId": "893df622-85ac-41f8-be7a-c17fd0cd48cc"
      },
      "source": [
        "###############################\n",
        "# code by Lee Hao Jie  #\n",
        "###############################\n",
        "\n",
        "model2 = SEResnet()\n",
        "x=torch.rand(4,1, 32, 32)\n",
        "out=model2(x)\n",
        "print(out.shape)"
      ],
      "execution_count": null,
      "outputs": [
        {
          "output_type": "stream",
          "text": [
            "torch.Size([4, 10])\n"
          ],
          "name": "stdout"
        }
      ]
    },
    {
      "cell_type": "code",
      "metadata": {
        "id": "Sk7jkYSa2tbA",
        "colab": {
          "base_uri": "https://localhost:8080/"
        },
        "outputId": "73d4bb8e-4837-4c9d-9c47-f6244928b761"
      },
      "source": [
        "###############################\n",
        "# code by Lee Hao Jie  #\n",
        "###############################\n",
        "\n",
        "print(model2)"
      ],
      "execution_count": null,
      "outputs": [
        {
          "output_type": "stream",
          "text": [
            "SEResnet(\n",
            "  (stem): Sequential(\n",
            "    (0): Conv2d(1, 64, kernel_size=(5, 5), stride=(2, 2), padding=(2, 2))\n",
            "    (1): BatchNorm2d(64, eps=1e-05, momentum=0.1, affine=True, track_running_stats=True)\n",
            "  )\n",
            "  (block1): Block(\n",
            "    (conv1): ModuleList(\n",
            "      (0): Sequential(\n",
            "        (0): Conv2d(64, 64, kernel_size=(3, 3), stride=(1, 1), padding=(1, 1))\n",
            "        (1): BatchNorm2d(64, eps=1e-05, momentum=0.1, affine=True, track_running_stats=True)\n",
            "      )\n",
            "      (1): Sequential(\n",
            "        (0): Conv2d(64, 64, kernel_size=(3, 3), stride=(1, 1), padding=(1, 1))\n",
            "        (1): BatchNorm2d(64, eps=1e-05, momentum=0.1, affine=True, track_running_stats=True)\n",
            "      )\n",
            "    )\n",
            "    (se1): SELayer(\n",
            "      (fc): Sequential(\n",
            "        (0): Linear(in_features=64, out_features=4, bias=False)\n",
            "        (1): ReLU(inplace=True)\n",
            "        (2): Linear(in_features=4, out_features=64, bias=False)\n",
            "        (3): Sigmoid()\n",
            "      )\n",
            "    )\n",
            "    (conv2): ModuleList(\n",
            "      (0): Sequential(\n",
            "        (0): Conv2d(64, 64, kernel_size=(3, 3), stride=(1, 1), padding=(1, 1))\n",
            "        (1): BatchNorm2d(64, eps=1e-05, momentum=0.1, affine=True, track_running_stats=True)\n",
            "      )\n",
            "      (1): Sequential(\n",
            "        (0): Conv2d(64, 64, kernel_size=(3, 3), stride=(1, 1), padding=(1, 1))\n",
            "        (1): BatchNorm2d(64, eps=1e-05, momentum=0.1, affine=True, track_running_stats=True)\n",
            "      )\n",
            "    )\n",
            "    (se2): SELayer(\n",
            "      (fc): Sequential(\n",
            "        (0): Linear(in_features=64, out_features=4, bias=False)\n",
            "        (1): ReLU(inplace=True)\n",
            "        (2): Linear(in_features=4, out_features=64, bias=False)\n",
            "        (3): Sigmoid()\n",
            "      )\n",
            "    )\n",
            "  )\n",
            "  (block2): Block(\n",
            "    (convs2_1): Sequential(\n",
            "      (0): Conv2d(64, 128, kernel_size=(1, 1), stride=(2, 2))\n",
            "      (1): BatchNorm2d(128, eps=1e-05, momentum=0.1, affine=True, track_running_stats=True)\n",
            "    )\n",
            "    (convs2_2): Sequential(\n",
            "      (0): Conv2d(64, 128, kernel_size=(3, 3), stride=(2, 2), padding=(1, 1))\n",
            "      (1): BatchNorm2d(128, eps=1e-05, momentum=0.1, affine=True, track_running_stats=True)\n",
            "    )\n",
            "    (conv1): ModuleList(\n",
            "      (0): Sequential(\n",
            "        (0): Conv2d(128, 128, kernel_size=(3, 3), stride=(1, 1), padding=(1, 1))\n",
            "        (1): BatchNorm2d(128, eps=1e-05, momentum=0.1, affine=True, track_running_stats=True)\n",
            "      )\n",
            "    )\n",
            "    (se1): SELayer(\n",
            "      (fc): Sequential(\n",
            "        (0): Linear(in_features=128, out_features=8, bias=False)\n",
            "        (1): ReLU(inplace=True)\n",
            "        (2): Linear(in_features=8, out_features=128, bias=False)\n",
            "        (3): Sigmoid()\n",
            "      )\n",
            "    )\n",
            "    (conv2): ModuleList(\n",
            "      (0): Sequential(\n",
            "        (0): Conv2d(128, 128, kernel_size=(3, 3), stride=(1, 1), padding=(1, 1))\n",
            "        (1): BatchNorm2d(128, eps=1e-05, momentum=0.1, affine=True, track_running_stats=True)\n",
            "      )\n",
            "      (1): Sequential(\n",
            "        (0): Conv2d(128, 128, kernel_size=(3, 3), stride=(1, 1), padding=(1, 1))\n",
            "        (1): BatchNorm2d(128, eps=1e-05, momentum=0.1, affine=True, track_running_stats=True)\n",
            "      )\n",
            "    )\n",
            "    (se2): SELayer(\n",
            "      (fc): Sequential(\n",
            "        (0): Linear(in_features=128, out_features=8, bias=False)\n",
            "        (1): ReLU(inplace=True)\n",
            "        (2): Linear(in_features=8, out_features=128, bias=False)\n",
            "        (3): Sigmoid()\n",
            "      )\n",
            "    )\n",
            "  )\n",
            "  (block3): Block(\n",
            "    (convs2_1): Sequential(\n",
            "      (0): Conv2d(128, 256, kernel_size=(1, 1), stride=(2, 2))\n",
            "      (1): BatchNorm2d(256, eps=1e-05, momentum=0.1, affine=True, track_running_stats=True)\n",
            "    )\n",
            "    (convs2_2): Sequential(\n",
            "      (0): Conv2d(128, 256, kernel_size=(3, 3), stride=(2, 2), padding=(1, 1))\n",
            "      (1): BatchNorm2d(256, eps=1e-05, momentum=0.1, affine=True, track_running_stats=True)\n",
            "    )\n",
            "    (conv1): ModuleList(\n",
            "      (0): Sequential(\n",
            "        (0): Conv2d(256, 256, kernel_size=(3, 3), stride=(1, 1), padding=(1, 1))\n",
            "        (1): BatchNorm2d(256, eps=1e-05, momentum=0.1, affine=True, track_running_stats=True)\n",
            "      )\n",
            "    )\n",
            "    (se1): SELayer(\n",
            "      (fc): Sequential(\n",
            "        (0): Linear(in_features=256, out_features=16, bias=False)\n",
            "        (1): ReLU(inplace=True)\n",
            "        (2): Linear(in_features=16, out_features=256, bias=False)\n",
            "        (3): Sigmoid()\n",
            "      )\n",
            "    )\n",
            "    (conv2): ModuleList(\n",
            "      (0): Sequential(\n",
            "        (0): Conv2d(256, 256, kernel_size=(3, 3), stride=(1, 1), padding=(1, 1))\n",
            "        (1): BatchNorm2d(256, eps=1e-05, momentum=0.1, affine=True, track_running_stats=True)\n",
            "      )\n",
            "      (1): Sequential(\n",
            "        (0): Conv2d(256, 256, kernel_size=(3, 3), stride=(1, 1), padding=(1, 1))\n",
            "        (1): BatchNorm2d(256, eps=1e-05, momentum=0.1, affine=True, track_running_stats=True)\n",
            "      )\n",
            "    )\n",
            "    (se2): SELayer(\n",
            "      (fc): Sequential(\n",
            "        (0): Linear(in_features=256, out_features=16, bias=False)\n",
            "        (1): ReLU(inplace=True)\n",
            "        (2): Linear(in_features=16, out_features=256, bias=False)\n",
            "        (3): Sigmoid()\n",
            "      )\n",
            "    )\n",
            "  )\n",
            "  (fc): Linear(in_features=256, out_features=10, bias=True)\n",
            ")\n"
          ],
          "name": "stdout"
        }
      ]
    },
    {
      "cell_type": "code",
      "metadata": {
        "id": "gG7uYDnR6zwx",
        "colab": {
          "base_uri": "https://localhost:8080/"
        },
        "outputId": "e1ee1eae-3601-40d4-b18d-f3844327c55f"
      },
      "source": [
        "###############################\n",
        "# code by Lee Hao Jie  #\n",
        "###############################\n",
        "\n",
        "summary(model2, (1, 32, 32), device = \"cpu\")"
      ],
      "execution_count": null,
      "outputs": [
        {
          "output_type": "stream",
          "text": [
            "----------------------------------------------------------------\n",
            "        Layer (type)               Output Shape         Param #\n",
            "================================================================\n",
            "            Conv2d-1           [-1, 64, 16, 16]           1,664\n",
            "       BatchNorm2d-2           [-1, 64, 16, 16]             128\n",
            "            Conv2d-3           [-1, 64, 16, 16]          36,928\n",
            "       BatchNorm2d-4           [-1, 64, 16, 16]             128\n",
            "            Conv2d-5           [-1, 64, 16, 16]          36,928\n",
            "       BatchNorm2d-6           [-1, 64, 16, 16]             128\n",
            "            Linear-7                    [-1, 4]             256\n",
            "              ReLU-8                    [-1, 4]               0\n",
            "            Linear-9                   [-1, 64]             256\n",
            "          Sigmoid-10                   [-1, 64]               0\n",
            "          SELayer-11           [-1, 64, 16, 16]               0\n",
            "           Conv2d-12           [-1, 64, 16, 16]          36,928\n",
            "      BatchNorm2d-13           [-1, 64, 16, 16]             128\n",
            "           Conv2d-14           [-1, 64, 16, 16]          36,928\n",
            "      BatchNorm2d-15           [-1, 64, 16, 16]             128\n",
            "           Linear-16                    [-1, 4]             256\n",
            "             ReLU-17                    [-1, 4]               0\n",
            "           Linear-18                   [-1, 64]             256\n",
            "          Sigmoid-19                   [-1, 64]               0\n",
            "          SELayer-20           [-1, 64, 16, 16]               0\n",
            "            Block-21           [-1, 64, 16, 16]               0\n",
            "           Conv2d-22            [-1, 128, 8, 8]           8,320\n",
            "      BatchNorm2d-23            [-1, 128, 8, 8]             256\n",
            "           Conv2d-24            [-1, 128, 8, 8]          73,856\n",
            "      BatchNorm2d-25            [-1, 128, 8, 8]             256\n",
            "           Conv2d-26            [-1, 128, 8, 8]         147,584\n",
            "      BatchNorm2d-27            [-1, 128, 8, 8]             256\n",
            "           Linear-28                    [-1, 8]           1,024\n",
            "             ReLU-29                    [-1, 8]               0\n",
            "           Linear-30                  [-1, 128]           1,024\n",
            "          Sigmoid-31                  [-1, 128]               0\n",
            "          SELayer-32            [-1, 128, 8, 8]               0\n",
            "           Conv2d-33            [-1, 128, 8, 8]         147,584\n",
            "      BatchNorm2d-34            [-1, 128, 8, 8]             256\n",
            "           Conv2d-35            [-1, 128, 8, 8]         147,584\n",
            "      BatchNorm2d-36            [-1, 128, 8, 8]             256\n",
            "           Linear-37                    [-1, 8]           1,024\n",
            "             ReLU-38                    [-1, 8]               0\n",
            "           Linear-39                  [-1, 128]           1,024\n",
            "          Sigmoid-40                  [-1, 128]               0\n",
            "          SELayer-41            [-1, 128, 8, 8]               0\n",
            "            Block-42            [-1, 128, 8, 8]               0\n",
            "           Conv2d-43            [-1, 256, 4, 4]          33,024\n",
            "      BatchNorm2d-44            [-1, 256, 4, 4]             512\n",
            "           Conv2d-45            [-1, 256, 4, 4]         295,168\n",
            "      BatchNorm2d-46            [-1, 256, 4, 4]             512\n",
            "           Conv2d-47            [-1, 256, 4, 4]         590,080\n",
            "      BatchNorm2d-48            [-1, 256, 4, 4]             512\n",
            "           Linear-49                   [-1, 16]           4,096\n",
            "             ReLU-50                   [-1, 16]               0\n",
            "           Linear-51                  [-1, 256]           4,096\n",
            "          Sigmoid-52                  [-1, 256]               0\n",
            "          SELayer-53            [-1, 256, 4, 4]               0\n",
            "           Conv2d-54            [-1, 256, 4, 4]         590,080\n",
            "      BatchNorm2d-55            [-1, 256, 4, 4]             512\n",
            "           Conv2d-56            [-1, 256, 4, 4]         590,080\n",
            "      BatchNorm2d-57            [-1, 256, 4, 4]             512\n",
            "           Linear-58                   [-1, 16]           4,096\n",
            "             ReLU-59                   [-1, 16]               0\n",
            "           Linear-60                  [-1, 256]           4,096\n",
            "          Sigmoid-61                  [-1, 256]               0\n",
            "          SELayer-62            [-1, 256, 4, 4]               0\n",
            "            Block-63            [-1, 256, 4, 4]               0\n",
            "           Linear-64                   [-1, 10]           2,570\n",
            "================================================================\n",
            "Total params: 2,801,290\n",
            "Trainable params: 2,801,290\n",
            "Non-trainable params: 0\n",
            "----------------------------------------------------------------\n",
            "Input size (MB): 0.00\n",
            "Forward/backward pass size (MB): 2.86\n",
            "Params size (MB): 10.69\n",
            "Estimated Total Size (MB): 13.55\n",
            "----------------------------------------------------------------\n"
          ],
          "name": "stdout"
        }
      ]
    },
    {
      "cell_type": "code",
      "metadata": {
        "id": "_y5Epdgd62Im",
        "colab": {
          "base_uri": "https://localhost:8080/",
          "height": 1000
        },
        "outputId": "74bbc0b4-574b-423a-f8c1-df046f5cce20"
      },
      "source": [
        "###############################\n",
        "# code by Lee Hao Jie  #\n",
        "###############################\n",
        "\n",
        "#train this take around one an half hour\n",
        "model2 = SEResnet(num_of_class)\n",
        "model2 = model2.to(device)\n",
        "optimizer2 = optim.SGD(model2.parameters(), lr=0.001, momentum=0.9)\n",
        "\n",
        "file_name = \"Model_2\"\n",
        "train(model2, trainloader, testloader, optimizer2, file_dir, file_name, device, num_epoch = 25, loss_iter = 10, verbose = True)"
      ],
      "execution_count": null,
      "outputs": [
        {
          "output_type": "stream",
          "text": [
            "[Epoch  1/25 Iter   300/3000]: train_loss = 1.1385\n",
            "[Epoch  1/25 Iter   600/3000]: train_loss = 0.6253\n",
            "[Epoch  1/25 Iter   900/3000]: train_loss = 0.5144\n",
            "[Epoch  1/25 Iter  1200/3000]: train_loss = 0.4759\n",
            "[Epoch  1/25 Iter  1500/3000]: train_loss = 0.4466\n",
            "[Epoch  1/25 Iter  1800/3000]: train_loss = 0.4179\n",
            "[Epoch  1/25 Iter  2100/3000]: train_loss = 0.3863\n",
            "[Epoch  1/25 Iter  2400/3000]: train_loss = 0.3872\n",
            "[Epoch  1/25 Iter  2700/3000]: train_loss = 0.3848\n",
            "[Epoch  1/25 Iter  3000/3000]: train_loss = 0.3501\n",
            "[Epoch  2/25 Iter   300/3000]: train_loss = 0.3314\n",
            "[Epoch  2/25 Iter   600/3000]: train_loss = 0.3088\n",
            "[Epoch  2/25 Iter   900/3000]: train_loss = 0.3236\n",
            "[Epoch  2/25 Iter  1200/3000]: train_loss = 0.3335\n",
            "[Epoch  2/25 Iter  1500/3000]: train_loss = 0.3185\n",
            "[Epoch  2/25 Iter  1800/3000]: train_loss = 0.2928\n",
            "[Epoch  2/25 Iter  2100/3000]: train_loss = 0.3057\n",
            "[Epoch  2/25 Iter  2400/3000]: train_loss = 0.2856\n",
            "[Epoch  2/25 Iter  2700/3000]: train_loss = 0.3019\n",
            "[Epoch  2/25 Iter  3000/3000]: train_loss = 0.2890\n",
            "[Epoch  3/25 Iter   300/3000]: train_loss = 0.2525\n",
            "[Epoch  3/25 Iter   600/3000]: train_loss = 0.2582\n",
            "[Epoch  3/25 Iter   900/3000]: train_loss = 0.2485\n",
            "[Epoch  3/25 Iter  1200/3000]: train_loss = 0.2588\n",
            "[Epoch  3/25 Iter  1500/3000]: train_loss = 0.2581\n",
            "[Epoch  3/25 Iter  1800/3000]: train_loss = 0.2491\n",
            "[Epoch  3/25 Iter  2100/3000]: train_loss = 0.2433\n",
            "[Epoch  3/25 Iter  2400/3000]: train_loss = 0.2640\n",
            "[Epoch  3/25 Iter  2700/3000]: train_loss = 0.2486\n",
            "[Epoch  3/25 Iter  3000/3000]: train_loss = 0.2580\n",
            "[Epoch  4/25 Iter   300/3000]: train_loss = 0.2206\n",
            "[Epoch  4/25 Iter   600/3000]: train_loss = 0.2305\n",
            "[Epoch  4/25 Iter   900/3000]: train_loss = 0.2201\n",
            "[Epoch  4/25 Iter  1200/3000]: train_loss = 0.2104\n",
            "[Epoch  4/25 Iter  1500/3000]: train_loss = 0.2168\n",
            "[Epoch  4/25 Iter  1800/3000]: train_loss = 0.2112\n",
            "[Epoch  4/25 Iter  2100/3000]: train_loss = 0.2164\n",
            "[Epoch  4/25 Iter  2400/3000]: train_loss = 0.2036\n",
            "[Epoch  4/25 Iter  2700/3000]: train_loss = 0.2195\n",
            "[Epoch  4/25 Iter  3000/3000]: train_loss = 0.2261\n",
            "[Epoch  5/25 Iter   300/3000]: train_loss = 0.1764\n",
            "[Epoch  5/25 Iter   600/3000]: train_loss = 0.1772\n",
            "[Epoch  5/25 Iter   900/3000]: train_loss = 0.1968\n",
            "[Epoch  5/25 Iter  1200/3000]: train_loss = 0.1795\n"
          ],
          "name": "stdout"
        },
        {
          "output_type": "error",
          "ename": "KeyboardInterrupt",
          "evalue": "ignored",
          "traceback": [
            "\u001b[0;31m---------------------------------------------------------------------------\u001b[0m",
            "\u001b[0;31mKeyboardInterrupt\u001b[0m                         Traceback (most recent call last)",
            "\u001b[0;32m<ipython-input-35-3719cffe1854>\u001b[0m in \u001b[0;36m<module>\u001b[0;34m()\u001b[0m\n\u001b[1;32m      9\u001b[0m \u001b[0;34m\u001b[0m\u001b[0m\n\u001b[1;32m     10\u001b[0m \u001b[0mfile_name\u001b[0m \u001b[0;34m=\u001b[0m \u001b[0;34m\"Model_2\"\u001b[0m\u001b[0;34m\u001b[0m\u001b[0;34m\u001b[0m\u001b[0m\n\u001b[0;32m---> 11\u001b[0;31m \u001b[0mtrain\u001b[0m\u001b[0;34m(\u001b[0m\u001b[0mmodel2\u001b[0m\u001b[0;34m,\u001b[0m \u001b[0mtrainloader\u001b[0m\u001b[0;34m,\u001b[0m \u001b[0mtestloader\u001b[0m\u001b[0;34m,\u001b[0m \u001b[0moptimizer2\u001b[0m\u001b[0;34m,\u001b[0m \u001b[0mfile_dir\u001b[0m\u001b[0;34m,\u001b[0m \u001b[0mfile_name\u001b[0m\u001b[0;34m,\u001b[0m \u001b[0mdevice\u001b[0m\u001b[0;34m,\u001b[0m \u001b[0mnum_epoch\u001b[0m \u001b[0;34m=\u001b[0m \u001b[0;36m25\u001b[0m\u001b[0;34m,\u001b[0m \u001b[0mloss_iter\u001b[0m \u001b[0;34m=\u001b[0m \u001b[0;36m10\u001b[0m\u001b[0;34m,\u001b[0m \u001b[0mverbose\u001b[0m \u001b[0;34m=\u001b[0m \u001b[0;32mTrue\u001b[0m\u001b[0;34m)\u001b[0m\u001b[0;34m\u001b[0m\u001b[0;34m\u001b[0m\u001b[0m\n\u001b[0m",
            "\u001b[0;32m<ipython-input-21-5d0497af3ea9>\u001b[0m in \u001b[0;36mtrain\u001b[0;34m(model, trainloader, testloader, optimizer, file_dir, file_name, device, num_epoch, loss_iter, verbose)\u001b[0m\n\u001b[1;32m     24\u001b[0m             \u001b[0mouts\u001b[0m \u001b[0;34m=\u001b[0m \u001b[0mmodel\u001b[0m\u001b[0;34m(\u001b[0m\u001b[0minputs\u001b[0m\u001b[0;34m)\u001b[0m\u001b[0;34m\u001b[0m\u001b[0;34m\u001b[0m\u001b[0m\n\u001b[1;32m     25\u001b[0m             \u001b[0mloss\u001b[0m \u001b[0;34m=\u001b[0m \u001b[0mF\u001b[0m\u001b[0;34m.\u001b[0m\u001b[0mcross_entropy\u001b[0m\u001b[0;34m(\u001b[0m\u001b[0mouts\u001b[0m\u001b[0;34m,\u001b[0m \u001b[0mlabels\u001b[0m\u001b[0;34m)\u001b[0m\u001b[0;34m\u001b[0m\u001b[0;34m\u001b[0m\u001b[0m\n\u001b[0;32m---> 26\u001b[0;31m             \u001b[0mloss\u001b[0m\u001b[0;34m.\u001b[0m\u001b[0mbackward\u001b[0m\u001b[0;34m(\u001b[0m\u001b[0;34m)\u001b[0m\u001b[0;34m\u001b[0m\u001b[0;34m\u001b[0m\u001b[0m\n\u001b[0m\u001b[1;32m     27\u001b[0m             \u001b[0moptimizer\u001b[0m\u001b[0;34m.\u001b[0m\u001b[0mstep\u001b[0m\u001b[0;34m(\u001b[0m\u001b[0;34m)\u001b[0m\u001b[0;34m\u001b[0m\u001b[0;34m\u001b[0m\u001b[0m\n\u001b[1;32m     28\u001b[0m \u001b[0;34m\u001b[0m\u001b[0m\n",
            "\u001b[0;32m/usr/local/lib/python3.7/dist-packages/torch/_tensor.py\u001b[0m in \u001b[0;36mbackward\u001b[0;34m(self, gradient, retain_graph, create_graph, inputs)\u001b[0m\n\u001b[1;32m    253\u001b[0m                 \u001b[0mcreate_graph\u001b[0m\u001b[0;34m=\u001b[0m\u001b[0mcreate_graph\u001b[0m\u001b[0;34m,\u001b[0m\u001b[0;34m\u001b[0m\u001b[0;34m\u001b[0m\u001b[0m\n\u001b[1;32m    254\u001b[0m                 inputs=inputs)\n\u001b[0;32m--> 255\u001b[0;31m         \u001b[0mtorch\u001b[0m\u001b[0;34m.\u001b[0m\u001b[0mautograd\u001b[0m\u001b[0;34m.\u001b[0m\u001b[0mbackward\u001b[0m\u001b[0;34m(\u001b[0m\u001b[0mself\u001b[0m\u001b[0;34m,\u001b[0m \u001b[0mgradient\u001b[0m\u001b[0;34m,\u001b[0m \u001b[0mretain_graph\u001b[0m\u001b[0;34m,\u001b[0m \u001b[0mcreate_graph\u001b[0m\u001b[0;34m,\u001b[0m \u001b[0minputs\u001b[0m\u001b[0;34m=\u001b[0m\u001b[0minputs\u001b[0m\u001b[0;34m)\u001b[0m\u001b[0;34m\u001b[0m\u001b[0;34m\u001b[0m\u001b[0m\n\u001b[0m\u001b[1;32m    256\u001b[0m \u001b[0;34m\u001b[0m\u001b[0m\n\u001b[1;32m    257\u001b[0m     \u001b[0;32mdef\u001b[0m \u001b[0mregister_hook\u001b[0m\u001b[0;34m(\u001b[0m\u001b[0mself\u001b[0m\u001b[0;34m,\u001b[0m \u001b[0mhook\u001b[0m\u001b[0;34m)\u001b[0m\u001b[0;34m:\u001b[0m\u001b[0;34m\u001b[0m\u001b[0;34m\u001b[0m\u001b[0m\n",
            "\u001b[0;32m/usr/local/lib/python3.7/dist-packages/torch/autograd/__init__.py\u001b[0m in \u001b[0;36mbackward\u001b[0;34m(tensors, grad_tensors, retain_graph, create_graph, grad_variables, inputs)\u001b[0m\n\u001b[1;32m    147\u001b[0m     Variable._execution_engine.run_backward(\n\u001b[1;32m    148\u001b[0m         \u001b[0mtensors\u001b[0m\u001b[0;34m,\u001b[0m \u001b[0mgrad_tensors_\u001b[0m\u001b[0;34m,\u001b[0m \u001b[0mretain_graph\u001b[0m\u001b[0;34m,\u001b[0m \u001b[0mcreate_graph\u001b[0m\u001b[0;34m,\u001b[0m \u001b[0minputs\u001b[0m\u001b[0;34m,\u001b[0m\u001b[0;34m\u001b[0m\u001b[0;34m\u001b[0m\u001b[0m\n\u001b[0;32m--> 149\u001b[0;31m         allow_unreachable=True, accumulate_grad=True)  # allow_unreachable flag\n\u001b[0m\u001b[1;32m    150\u001b[0m \u001b[0;34m\u001b[0m\u001b[0m\n\u001b[1;32m    151\u001b[0m \u001b[0;34m\u001b[0m\u001b[0m\n",
            "\u001b[0;31mKeyboardInterrupt\u001b[0m: "
          ]
        }
      ]
    },
    {
      "cell_type": "code",
      "metadata": {
        "id": "8HJhsrPD653A",
        "colab": {
          "base_uri": "https://localhost:8080/"
        },
        "outputId": "9dfd980e-29cd-4b6e-cd61-fbb6486d2633"
      },
      "source": [
        "###############################\n",
        "# code by Lee Hao Jie  #\n",
        "###############################\n",
        "\n",
        "acc_score = evaluate(model2, testloader, device)\n",
        "print(f'Accuracy = {acc_score:.2f}%')"
      ],
      "execution_count": null,
      "outputs": [
        {
          "output_type": "stream",
          "text": [
            "Accuracy = 91.04%\n"
          ],
          "name": "stdout"
        }
      ]
    },
    {
      "cell_type": "markdown",
      "metadata": {
        "id": "7VY8z7KIAYwJ"
      },
      "source": [
        "## 5. CNN + BN + Skip Connection Model (Done by Tan Xi En)\n",
        "\n",
        "![CNN + BN + Residual Skip Connection Model](https://drive.google.com/uc?id=1gWl9-rUJlzAcGFaq1nndNRr3X7yLto52)\n",
        "\n",
        "Notes: `k`: number of filters, `f`: filter or kernel size, `s`: stride, `p`: padding, `o`: output shape"
      ]
    },
    {
      "cell_type": "code",
      "metadata": {
        "id": "g8H46ixIovk7"
      },
      "source": [
        "###############################\n",
        "# code by Tan Xi En  #\n",
        "###############################\n",
        "\n",
        "def build_block_cnn(in_channels, out_channels):\n",
        "  block = nn.Sequential(\n",
        "    nn.Conv2d(in_channels = in_channels, out_channels = out_channels, kernel_size = 3, stride = 1, padding = 1),\n",
        "    nn.ReLU()\n",
        "  )\n",
        "  return block"
      ],
      "execution_count": null,
      "outputs": []
    },
    {
      "cell_type": "code",
      "metadata": {
        "id": "8I-VznUgAcw0"
      },
      "source": [
        "###############################\n",
        "# code by Tan Xi En  #\n",
        "###############################\n",
        "\n",
        "class cnn_model3(nn.Module):\n",
        "    def __init__(self, num_of_class):\n",
        "        super().__init__()\n",
        "\n",
        "        channel_size = [1, 32, 32]\n",
        "        layer_size = [32 * 8 * 8, 128, num_of_class]\n",
        "        p = 0.25\n",
        "\n",
        "        # define blocks\n",
        "        self.conv_block = nn.ModuleList(\n",
        "            build_block_cnn(in_channel, out_channel) for(in_channel, out_channel) in zip(channel_size[0:-1], channel_size[1:])\n",
        "        )\n",
        "\n",
        "        # define Fully Connected Layers\n",
        "        self.fc = nn.ModuleList(\n",
        "            nn.Linear(in_channel, out_channel) for(in_channel, out_channel) in zip(layer_size[0:-1], layer_size[1:])\n",
        "        )\n",
        "\n",
        "        # Define Dropout\n",
        "        self.dropout = nn.ModuleList(\n",
        "            nn.Dropout(p) for i in range(len(layer_size) - 2)\n",
        "        )\n",
        "\n",
        "        # Define Batch Normalization\n",
        "        self.bn = nn.ModuleList(\n",
        "            nn.BatchNorm2d(i) for i in channel_size[:-1]\n",
        "        )\n",
        "\n",
        "    def forward(self, x):\n",
        "        residual = self.bn[0](x)\n",
        "        tmp = self.conv_block[0](residual)\n",
        "        x = F.max_pool2d(tmp, kernel_size=2, stride=2, padding=0)\n",
        "\n",
        "        residual = self.bn[1](x)\n",
        "        tmp = self.conv_block[1](residual)\n",
        "        x = F.max_pool2d(tmp + residual, kernel_size=2, stride=2, padding=0)\n",
        "\n",
        "        x = x.view(x.size(0), -1)\n",
        "\n",
        "        for (dropout, fc) in zip(self.dropout, self.fc[:-1]):\n",
        "            x = dropout(torch.relu(fc(x)))\n",
        "\n",
        "        x = torch.relu(self.fc[1](x))\n",
        "\n",
        "        return x\n",
        "\n"
      ],
      "execution_count": null,
      "outputs": []
    },
    {
      "cell_type": "code",
      "metadata": {
        "id": "vG1i7T3RBjcO",
        "colab": {
          "base_uri": "https://localhost:8080/"
        },
        "outputId": "3e324bfa-87c5-47ee-9c8a-c1aca6758a61"
      },
      "source": [
        "###############################\n",
        "# code by Tan Xi En  #\n",
        "###############################\n",
        "\n",
        "model3 = cnn_model3(num_of_class)\n",
        "print(model3)"
      ],
      "execution_count": null,
      "outputs": [
        {
          "output_type": "stream",
          "text": [
            "cnn_model3(\n",
            "  (conv_block): ModuleList(\n",
            "    (0): Sequential(\n",
            "      (0): Conv2d(1, 32, kernel_size=(3, 3), stride=(1, 1), padding=(1, 1))\n",
            "      (1): ReLU()\n",
            "    )\n",
            "    (1): Sequential(\n",
            "      (0): Conv2d(32, 32, kernel_size=(3, 3), stride=(1, 1), padding=(1, 1))\n",
            "      (1): ReLU()\n",
            "    )\n",
            "  )\n",
            "  (fc): ModuleList(\n",
            "    (0): Linear(in_features=2048, out_features=128, bias=True)\n",
            "    (1): Linear(in_features=128, out_features=10, bias=True)\n",
            "  )\n",
            "  (dropout): ModuleList(\n",
            "    (0): Dropout(p=0.25, inplace=False)\n",
            "  )\n",
            "  (bn): ModuleList(\n",
            "    (0): BatchNorm2d(1, eps=1e-05, momentum=0.1, affine=True, track_running_stats=True)\n",
            "    (1): BatchNorm2d(32, eps=1e-05, momentum=0.1, affine=True, track_running_stats=True)\n",
            "  )\n",
            ")\n"
          ],
          "name": "stdout"
        }
      ]
    },
    {
      "cell_type": "code",
      "metadata": {
        "id": "eoKGZvWYBmxS",
        "colab": {
          "base_uri": "https://localhost:8080/"
        },
        "outputId": "03c5f80d-ae3d-4c80-b6fb-c50642157084"
      },
      "source": [
        "###############################\n",
        "# code by Tan Xi En  #\n",
        "###############################\n",
        "\n",
        "summary(model3, (1, 32, 32), device = \"cpu\")"
      ],
      "execution_count": null,
      "outputs": [
        {
          "output_type": "stream",
          "text": [
            "----------------------------------------------------------------\n",
            "        Layer (type)               Output Shape         Param #\n",
            "================================================================\n",
            "       BatchNorm2d-1            [-1, 1, 32, 32]               2\n",
            "            Conv2d-2           [-1, 32, 32, 32]             320\n",
            "              ReLU-3           [-1, 32, 32, 32]               0\n",
            "       BatchNorm2d-4           [-1, 32, 16, 16]              64\n",
            "            Conv2d-5           [-1, 32, 16, 16]           9,248\n",
            "              ReLU-6           [-1, 32, 16, 16]               0\n",
            "            Linear-7                  [-1, 128]         262,272\n",
            "           Dropout-8                  [-1, 128]               0\n",
            "            Linear-9                   [-1, 10]           1,290\n",
            "================================================================\n",
            "Total params: 273,196\n",
            "Trainable params: 273,196\n",
            "Non-trainable params: 0\n",
            "----------------------------------------------------------------\n",
            "Input size (MB): 0.00\n",
            "Forward/backward pass size (MB): 0.70\n",
            "Params size (MB): 1.04\n",
            "Estimated Total Size (MB): 1.74\n",
            "----------------------------------------------------------------\n"
          ],
          "name": "stdout"
        },
        {
          "output_type": "stream",
          "text": [
            "/usr/local/lib/python3.7/dist-packages/torch/nn/functional.py:718: UserWarning: Named tensors and all their associated APIs are an experimental feature and subject to change. Please do not use them for anything important until they are released as stable. (Triggered internally at  /pytorch/c10/core/TensorImpl.h:1156.)\n",
            "  return torch.max_pool2d(input, kernel_size, stride, padding, dilation, ceil_mode)\n"
          ],
          "name": "stderr"
        }
      ]
    },
    {
      "cell_type": "code",
      "metadata": {
        "id": "QKDMK93FBodx",
        "colab": {
          "base_uri": "https://localhost:8080/"
        },
        "outputId": "3b9da1ad-4b52-4c91-d076-39e8c11f5efc"
      },
      "source": [
        "###############################\n",
        "# code by Tan Xi En  #\n",
        "###############################\n",
        "\n",
        "#train this take around an half hour\n",
        "model3 = cnn_model3(num_of_class)\n",
        "model3 = model3.to(device)\n",
        "optimizer3 = optim.SGD(model3.parameters(), lr=0.001, momentum=0.9)\n",
        "\n",
        "file_name = \"Model_3\"\n",
        "train(model3, trainloader, testloader, optimizer3, file_dir, file_name, device, num_epoch = 25, loss_iter = 10, verbose = True)"
      ],
      "execution_count": null,
      "outputs": [
        {
          "output_type": "stream",
          "text": [
            "[Epoch  1/25 Iter   300/3000]: train_loss = 0.8996\n",
            "[Epoch  1/25 Iter   600/3000]: train_loss = 0.5048\n",
            "[Epoch  1/25 Iter   900/3000]: train_loss = 0.4383\n",
            "[Epoch  1/25 Iter  1200/3000]: train_loss = 0.4238\n",
            "[Epoch  1/25 Iter  1500/3000]: train_loss = 0.3938\n",
            "[Epoch  1/25 Iter  1800/3000]: train_loss = 0.4004\n",
            "[Epoch  1/25 Iter  2100/3000]: train_loss = 0.3695\n",
            "[Epoch  1/25 Iter  2400/3000]: train_loss = 0.3715\n",
            "[Epoch  1/25 Iter  2700/3000]: train_loss = 0.3527\n",
            "[Epoch  1/25 Iter  3000/3000]: train_loss = 0.3509\n",
            "[Epoch  2/25 Iter   300/3000]: train_loss = 0.3246\n",
            "[Epoch  2/25 Iter   600/3000]: train_loss = 0.3240\n",
            "[Epoch  2/25 Iter   900/3000]: train_loss = 0.3169\n",
            "[Epoch  2/25 Iter  1200/3000]: train_loss = 0.3043\n",
            "[Epoch  2/25 Iter  1500/3000]: train_loss = 0.3020\n",
            "[Epoch  2/25 Iter  1800/3000]: train_loss = 0.3017\n",
            "[Epoch  2/25 Iter  2100/3000]: train_loss = 0.3076\n",
            "[Epoch  2/25 Iter  2400/3000]: train_loss = 0.3110\n",
            "[Epoch  2/25 Iter  2700/3000]: train_loss = 0.2989\n",
            "[Epoch  2/25 Iter  3000/3000]: train_loss = 0.3056\n",
            "[Epoch  3/25 Iter   300/3000]: train_loss = 0.2843\n",
            "[Epoch  3/25 Iter   600/3000]: train_loss = 0.2846\n",
            "[Epoch  3/25 Iter   900/3000]: train_loss = 0.2806\n",
            "[Epoch  3/25 Iter  1200/3000]: train_loss = 0.2736\n",
            "[Epoch  3/25 Iter  1500/3000]: train_loss = 0.2780\n",
            "[Epoch  3/25 Iter  1800/3000]: train_loss = 0.2655\n",
            "[Epoch  3/25 Iter  2100/3000]: train_loss = 0.2653\n",
            "[Epoch  3/25 Iter  2400/3000]: train_loss = 0.2756\n",
            "[Epoch  3/25 Iter  2700/3000]: train_loss = 0.2749\n",
            "[Epoch  3/25 Iter  3000/3000]: train_loss = 0.2642\n",
            "[Epoch  4/25 Iter   300/3000]: train_loss = 0.2503\n",
            "[Epoch  4/25 Iter   600/3000]: train_loss = 0.2654\n",
            "[Epoch  4/25 Iter   900/3000]: train_loss = 0.2537\n",
            "[Epoch  4/25 Iter  1200/3000]: train_loss = 0.2541\n",
            "[Epoch  4/25 Iter  1500/3000]: train_loss = 0.2566\n",
            "[Epoch  4/25 Iter  1800/3000]: train_loss = 0.2452\n",
            "[Epoch  4/25 Iter  2100/3000]: train_loss = 0.2382\n",
            "[Epoch  4/25 Iter  2400/3000]: train_loss = 0.2624\n",
            "[Epoch  4/25 Iter  2700/3000]: train_loss = 0.2407\n",
            "[Epoch  4/25 Iter  3000/3000]: train_loss = 0.2553\n",
            "[Epoch  5/25 Iter   300/3000]: train_loss = 0.2314\n",
            "[Epoch  5/25 Iter   600/3000]: train_loss = 0.2383\n",
            "[Epoch  5/25 Iter   900/3000]: train_loss = 0.2390\n",
            "[Epoch  5/25 Iter  1200/3000]: train_loss = 0.2431\n",
            "[Epoch  5/25 Iter  1500/3000]: train_loss = 0.2350\n",
            "[Epoch  5/25 Iter  1800/3000]: train_loss = 0.2211\n",
            "[Epoch  5/25 Iter  2100/3000]: train_loss = 0.2323\n",
            "[Epoch  5/25 Iter  2400/3000]: train_loss = 0.2520\n",
            "[Epoch  5/25 Iter  2700/3000]: train_loss = 0.2343\n",
            "[Epoch  5/25 Iter  3000/3000]: train_loss = 0.2296\n",
            "[Epoch  6/25 Iter   300/3000]: train_loss = 0.2089\n",
            "[Epoch  6/25 Iter   600/3000]: train_loss = 0.2013\n",
            "[Epoch  6/25 Iter   900/3000]: train_loss = 0.2256\n",
            "[Epoch  6/25 Iter  1200/3000]: train_loss = 0.2036\n",
            "[Epoch  6/25 Iter  1500/3000]: train_loss = 0.2216\n",
            "[Epoch  6/25 Iter  1800/3000]: train_loss = 0.2331\n",
            "[Epoch  6/25 Iter  2100/3000]: train_loss = 0.2284\n",
            "[Epoch  6/25 Iter  2400/3000]: train_loss = 0.2264\n",
            "[Epoch  6/25 Iter  2700/3000]: train_loss = 0.2347\n",
            "[Epoch  6/25 Iter  3000/3000]: train_loss = 0.2326\n",
            "[Epoch  7/25 Iter   300/3000]: train_loss = 0.2071\n",
            "[Epoch  7/25 Iter   600/3000]: train_loss = 0.2031\n",
            "[Epoch  7/25 Iter   900/3000]: train_loss = 0.2072\n",
            "[Epoch  7/25 Iter  1200/3000]: train_loss = 0.2206\n",
            "[Epoch  7/25 Iter  1500/3000]: train_loss = 0.1878\n",
            "[Epoch  7/25 Iter  1800/3000]: train_loss = 0.2132\n",
            "[Epoch  7/25 Iter  2100/3000]: train_loss = 0.1988\n",
            "[Epoch  7/25 Iter  2400/3000]: train_loss = 0.2220\n",
            "[Epoch  7/25 Iter  2700/3000]: train_loss = 0.2158\n",
            "[Epoch  7/25 Iter  3000/3000]: train_loss = 0.2103\n",
            "[Epoch  8/25 Iter   300/3000]: train_loss = 0.1972\n",
            "[Epoch  8/25 Iter   600/3000]: train_loss = 0.1982\n",
            "[Epoch  8/25 Iter   900/3000]: train_loss = 0.1874\n",
            "[Epoch  8/25 Iter  1200/3000]: train_loss = 0.1971\n",
            "[Epoch  8/25 Iter  1500/3000]: train_loss = 0.1948\n",
            "[Epoch  8/25 Iter  1800/3000]: train_loss = 0.2026\n",
            "[Epoch  8/25 Iter  2100/3000]: train_loss = 0.1944\n",
            "[Epoch  8/25 Iter  2400/3000]: train_loss = 0.2061\n",
            "[Epoch  8/25 Iter  2700/3000]: train_loss = 0.2023\n",
            "[Epoch  8/25 Iter  3000/3000]: train_loss = 0.2025\n",
            "[Epoch  9/25 Iter   300/3000]: train_loss = 0.1925\n",
            "[Epoch  9/25 Iter   600/3000]: train_loss = 0.1840\n",
            "[Epoch  9/25 Iter   900/3000]: train_loss = 0.1921\n",
            "[Epoch  9/25 Iter  1200/3000]: train_loss = 0.2006\n",
            "[Epoch  9/25 Iter  1500/3000]: train_loss = 0.1870\n",
            "[Epoch  9/25 Iter  1800/3000]: train_loss = 0.1823\n",
            "[Epoch  9/25 Iter  2100/3000]: train_loss = 0.1871\n",
            "[Epoch  9/25 Iter  2400/3000]: train_loss = 0.1902\n",
            "[Epoch  9/25 Iter  2700/3000]: train_loss = 0.1844\n",
            "[Epoch  9/25 Iter  3000/3000]: train_loss = 0.1894\n",
            "[Epoch 10/25 Iter   300/3000]: train_loss = 0.1816\n",
            "[Epoch 10/25 Iter   600/3000]: train_loss = 0.1723\n",
            "[Epoch 10/25 Iter   900/3000]: train_loss = 0.1846\n",
            "[Epoch 10/25 Iter  1200/3000]: train_loss = 0.1819\n",
            "[Epoch 10/25 Iter  1500/3000]: train_loss = 0.1759\n",
            "[Epoch 10/25 Iter  1800/3000]: train_loss = 0.1681\n",
            "[Epoch 10/25 Iter  2100/3000]: train_loss = 0.1836\n",
            "[Epoch 10/25 Iter  2400/3000]: train_loss = 0.1916\n",
            "[Epoch 10/25 Iter  2700/3000]: train_loss = 0.1847\n",
            "[Epoch 10/25 Iter  3000/3000]: train_loss = 0.1826\n",
            "[Epoch 11/25 Iter   300/3000]: train_loss = 0.1705\n",
            "[Epoch 11/25 Iter   600/3000]: train_loss = 0.1705\n",
            "[Epoch 11/25 Iter   900/3000]: train_loss = 0.1755\n",
            "[Epoch 11/25 Iter  1200/3000]: train_loss = 0.1701\n",
            "[Epoch 11/25 Iter  1500/3000]: train_loss = 0.1712\n",
            "[Epoch 11/25 Iter  1800/3000]: train_loss = 0.1753\n",
            "[Epoch 11/25 Iter  2100/3000]: train_loss = 0.1769\n",
            "[Epoch 11/25 Iter  2400/3000]: train_loss = 0.1634\n",
            "[Epoch 11/25 Iter  2700/3000]: train_loss = 0.1666\n",
            "[Epoch 11/25 Iter  3000/3000]: train_loss = 0.1843\n",
            "[Epoch 12/25 Iter   300/3000]: train_loss = 0.1641\n",
            "[Epoch 12/25 Iter   600/3000]: train_loss = 0.1601\n",
            "[Epoch 12/25 Iter   900/3000]: train_loss = 0.1539\n",
            "[Epoch 12/25 Iter  1200/3000]: train_loss = 0.1626\n",
            "[Epoch 12/25 Iter  1500/3000]: train_loss = 0.1587\n",
            "[Epoch 12/25 Iter  1800/3000]: train_loss = 0.1737\n",
            "[Epoch 12/25 Iter  2100/3000]: train_loss = 0.1690\n",
            "[Epoch 12/25 Iter  2400/3000]: train_loss = 0.1671\n",
            "[Epoch 12/25 Iter  2700/3000]: train_loss = 0.1774\n",
            "[Epoch 12/25 Iter  3000/3000]: train_loss = 0.1752\n",
            "[Epoch 13/25 Iter   300/3000]: train_loss = 0.1533\n",
            "[Epoch 13/25 Iter   600/3000]: train_loss = 0.1544\n",
            "[Epoch 13/25 Iter   900/3000]: train_loss = 0.1507\n",
            "[Epoch 13/25 Iter  1200/3000]: train_loss = 0.1570\n",
            "[Epoch 13/25 Iter  1500/3000]: train_loss = 0.1406\n",
            "[Epoch 13/25 Iter  1800/3000]: train_loss = 0.1667\n",
            "[Epoch 13/25 Iter  2100/3000]: train_loss = 0.1657\n",
            "[Epoch 13/25 Iter  2400/3000]: train_loss = 0.1604\n",
            "[Epoch 13/25 Iter  2700/3000]: train_loss = 0.1530\n",
            "[Epoch 13/25 Iter  3000/3000]: train_loss = 0.1670\n",
            "[Epoch 14/25 Iter   300/3000]: train_loss = 0.1368\n",
            "[Epoch 14/25 Iter   600/3000]: train_loss = 0.1559\n",
            "[Epoch 14/25 Iter   900/3000]: train_loss = 0.1549\n",
            "[Epoch 14/25 Iter  1200/3000]: train_loss = 0.1453\n",
            "[Epoch 14/25 Iter  1500/3000]: train_loss = 0.1467\n",
            "[Epoch 14/25 Iter  1800/3000]: train_loss = 0.1416\n",
            "[Epoch 14/25 Iter  2100/3000]: train_loss = 0.1628\n",
            "[Epoch 14/25 Iter  2400/3000]: train_loss = 0.1607\n",
            "[Epoch 14/25 Iter  2700/3000]: train_loss = 0.1565\n",
            "[Epoch 14/25 Iter  3000/3000]: train_loss = 0.1436\n",
            "[Epoch 15/25 Iter   300/3000]: train_loss = 0.1308\n",
            "[Epoch 15/25 Iter   600/3000]: train_loss = 0.1421\n",
            "[Epoch 15/25 Iter   900/3000]: train_loss = 0.1351\n",
            "[Epoch 15/25 Iter  1200/3000]: train_loss = 0.1508\n",
            "[Epoch 15/25 Iter  1500/3000]: train_loss = 0.1364\n",
            "[Epoch 15/25 Iter  1800/3000]: train_loss = 0.1432\n",
            "[Epoch 15/25 Iter  2100/3000]: train_loss = 0.1475\n",
            "[Epoch 15/25 Iter  2400/3000]: train_loss = 0.1508\n",
            "[Epoch 15/25 Iter  2700/3000]: train_loss = 0.1556\n",
            "[Epoch 15/25 Iter  3000/3000]: train_loss = 0.1513\n",
            "[Epoch 16/25 Iter   300/3000]: train_loss = 0.1323\n",
            "[Epoch 16/25 Iter   600/3000]: train_loss = 0.1275\n",
            "[Epoch 16/25 Iter   900/3000]: train_loss = 0.1296\n",
            "[Epoch 16/25 Iter  1200/3000]: train_loss = 0.1317\n",
            "[Epoch 16/25 Iter  1500/3000]: train_loss = 0.1445\n",
            "[Epoch 16/25 Iter  1800/3000]: train_loss = 0.1361\n",
            "[Epoch 16/25 Iter  2100/3000]: train_loss = 0.1355\n",
            "[Epoch 16/25 Iter  2400/3000]: train_loss = 0.1426\n",
            "[Epoch 16/25 Iter  2700/3000]: train_loss = 0.1395\n",
            "[Epoch 16/25 Iter  3000/3000]: train_loss = 0.1490\n",
            "[Epoch 17/25 Iter   300/3000]: train_loss = 0.1273\n",
            "[Epoch 17/25 Iter   600/3000]: train_loss = 0.1288\n",
            "[Epoch 17/25 Iter   900/3000]: train_loss = 0.1349\n",
            "[Epoch 17/25 Iter  1200/3000]: train_loss = 0.1263\n",
            "[Epoch 17/25 Iter  1500/3000]: train_loss = 0.1298\n",
            "[Epoch 17/25 Iter  1800/3000]: train_loss = 0.1280\n",
            "[Epoch 17/25 Iter  2100/3000]: train_loss = 0.1273\n",
            "[Epoch 17/25 Iter  2400/3000]: train_loss = 0.1238\n",
            "[Epoch 17/25 Iter  2700/3000]: train_loss = 0.1372\n",
            "[Epoch 17/25 Iter  3000/3000]: train_loss = 0.1388\n",
            "[Epoch 18/25 Iter   300/3000]: train_loss = 0.1233\n",
            "[Epoch 18/25 Iter   600/3000]: train_loss = 0.1227\n",
            "[Epoch 18/25 Iter   900/3000]: train_loss = 0.1253\n",
            "[Epoch 18/25 Iter  1200/3000]: train_loss = 0.1246\n",
            "[Epoch 18/25 Iter  1500/3000]: train_loss = 0.1200\n",
            "[Epoch 18/25 Iter  1800/3000]: train_loss = 0.1233\n",
            "[Epoch 18/25 Iter  2100/3000]: train_loss = 0.1151\n",
            "[Epoch 18/25 Iter  2400/3000]: train_loss = 0.1331\n",
            "[Epoch 18/25 Iter  2700/3000]: train_loss = 0.1250\n",
            "[Epoch 18/25 Iter  3000/3000]: train_loss = 0.1356\n",
            "[Epoch 19/25 Iter   300/3000]: train_loss = 0.1157\n",
            "[Epoch 19/25 Iter   600/3000]: train_loss = 0.1129\n",
            "[Epoch 19/25 Iter   900/3000]: train_loss = 0.1160\n",
            "[Epoch 19/25 Iter  1200/3000]: train_loss = 0.1176\n",
            "[Epoch 19/25 Iter  1500/3000]: train_loss = 0.1145\n",
            "[Epoch 19/25 Iter  1800/3000]: train_loss = 0.1190\n",
            "[Epoch 19/25 Iter  2100/3000]: train_loss = 0.1237\n",
            "[Epoch 19/25 Iter  2400/3000]: train_loss = 0.1320\n",
            "[Epoch 19/25 Iter  2700/3000]: train_loss = 0.1219\n",
            "[Epoch 19/25 Iter  3000/3000]: train_loss = 0.1104\n",
            "[Epoch 20/25 Iter   300/3000]: train_loss = 0.1054\n",
            "[Epoch 20/25 Iter   600/3000]: train_loss = 0.1198\n",
            "[Epoch 20/25 Iter   900/3000]: train_loss = 0.1115\n",
            "[Epoch 20/25 Iter  1200/3000]: train_loss = 0.1074\n",
            "[Epoch 20/25 Iter  1500/3000]: train_loss = 0.1129\n",
            "[Epoch 20/25 Iter  1800/3000]: train_loss = 0.1105\n",
            "[Epoch 20/25 Iter  2100/3000]: train_loss = 0.1120\n",
            "[Epoch 20/25 Iter  2400/3000]: train_loss = 0.1188\n",
            "[Epoch 20/25 Iter  2700/3000]: train_loss = 0.1269\n",
            "[Epoch 20/25 Iter  3000/3000]: train_loss = 0.1217\n",
            "[Epoch 21/25 Iter   300/3000]: train_loss = 0.1113\n",
            "[Epoch 21/25 Iter   600/3000]: train_loss = 0.1087\n",
            "[Epoch 21/25 Iter   900/3000]: train_loss = 0.1079\n",
            "[Epoch 21/25 Iter  1200/3000]: train_loss = 0.1117\n",
            "[Epoch 21/25 Iter  1500/3000]: train_loss = 0.1117\n",
            "[Epoch 21/25 Iter  1800/3000]: train_loss = 0.1090\n",
            "[Epoch 21/25 Iter  2100/3000]: train_loss = 0.1133\n",
            "[Epoch 21/25 Iter  2400/3000]: train_loss = 0.1180\n",
            "[Epoch 21/25 Iter  2700/3000]: train_loss = 0.1106\n",
            "[Epoch 21/25 Iter  3000/3000]: train_loss = 0.1135\n",
            "[Epoch 22/25 Iter   300/3000]: train_loss = 0.0953\n",
            "[Epoch 22/25 Iter   600/3000]: train_loss = 0.0955\n",
            "[Epoch 22/25 Iter   900/3000]: train_loss = 0.0917\n",
            "[Epoch 22/25 Iter  1200/3000]: train_loss = 0.1122\n",
            "[Epoch 22/25 Iter  1500/3000]: train_loss = 0.1032\n",
            "[Epoch 22/25 Iter  1800/3000]: train_loss = 0.1061\n",
            "[Epoch 22/25 Iter  2100/3000]: train_loss = 0.1205\n",
            "[Epoch 22/25 Iter  2400/3000]: train_loss = 0.1089\n",
            "[Epoch 22/25 Iter  2700/3000]: train_loss = 0.1127\n",
            "[Epoch 22/25 Iter  3000/3000]: train_loss = 0.1155\n",
            "[Epoch 23/25 Iter   300/3000]: train_loss = 0.0964\n",
            "[Epoch 23/25 Iter   600/3000]: train_loss = 0.0958\n",
            "[Epoch 23/25 Iter   900/3000]: train_loss = 0.1006\n",
            "[Epoch 23/25 Iter  1200/3000]: train_loss = 0.0997\n",
            "[Epoch 23/25 Iter  1500/3000]: train_loss = 0.1024\n",
            "[Epoch 23/25 Iter  1800/3000]: train_loss = 0.1011\n",
            "[Epoch 23/25 Iter  2100/3000]: train_loss = 0.1017\n",
            "[Epoch 23/25 Iter  2400/3000]: train_loss = 0.1103\n",
            "[Epoch 23/25 Iter  2700/3000]: train_loss = 0.0998\n",
            "[Epoch 23/25 Iter  3000/3000]: train_loss = 0.1064\n",
            "[Epoch 24/25 Iter   300/3000]: train_loss = 0.0916\n",
            "[Epoch 24/25 Iter   600/3000]: train_loss = 0.1010\n",
            "[Epoch 24/25 Iter   900/3000]: train_loss = 0.0976\n",
            "[Epoch 24/25 Iter  1200/3000]: train_loss = 0.0960\n",
            "[Epoch 24/25 Iter  1500/3000]: train_loss = 0.1002\n",
            "[Epoch 24/25 Iter  1800/3000]: train_loss = 0.0872\n",
            "[Epoch 24/25 Iter  2100/3000]: train_loss = 0.1014\n",
            "[Epoch 24/25 Iter  2400/3000]: train_loss = 0.0878\n",
            "[Epoch 24/25 Iter  2700/3000]: train_loss = 0.0971\n",
            "[Epoch 24/25 Iter  3000/3000]: train_loss = 0.0971\n",
            "[Epoch 25/25 Iter   300/3000]: train_loss = 0.0977\n",
            "[Epoch 25/25 Iter   600/3000]: train_loss = 0.0926\n",
            "[Epoch 25/25 Iter   900/3000]: train_loss = 0.0908\n",
            "[Epoch 25/25 Iter  1200/3000]: train_loss = 0.0910\n",
            "[Epoch 25/25 Iter  1500/3000]: train_loss = 0.0878\n",
            "[Epoch 25/25 Iter  1800/3000]: train_loss = 0.0951\n",
            "[Epoch 25/25 Iter  2100/3000]: train_loss = 0.0943\n",
            "[Epoch 25/25 Iter  2400/3000]: train_loss = 0.0963\n",
            "[Epoch 25/25 Iter  2700/3000]: train_loss = 0.0967\n",
            "[Epoch 25/25 Iter  3000/3000]: train_loss = 0.0990\n"
          ],
          "name": "stdout"
        }
      ]
    },
    {
      "cell_type": "code",
      "metadata": {
        "id": "6x_IW_FbBp6o",
        "colab": {
          "base_uri": "https://localhost:8080/"
        },
        "outputId": "7308bed4-ff01-42fb-d0c9-9d76f283dc60"
      },
      "source": [
        "###############################\n",
        "# code by Tan Xi En  #\n",
        "###############################\n",
        "\n",
        "acc_score = evaluate(model3, testloader, device)\n",
        "print(f'Accuracy = {acc_score:.2f}%')"
      ],
      "execution_count": null,
      "outputs": [
        {
          "output_type": "stream",
          "text": [
            "Accuracy = 92.07%\n"
          ],
          "name": "stdout"
        }
      ]
    },
    {
      "cell_type": "markdown",
      "metadata": {
        "id": "mc9QwEIgk2vI"
      },
      "source": [
        "## Get Y_True and Y_pred\n",
        "\n",
        "This is to generate classification report, confusion matrix. For Result Analysis Purposes"
      ]
    },
    {
      "cell_type": "code",
      "metadata": {
        "id": "JeRcqokQk5UW"
      },
      "source": [
        "###############################\n",
        "# code by Tan Xi En  #\n",
        "###############################\n",
        "\n",
        "def get_true_pred(model, testloader, device):\n",
        "    y_true, y_pred = [], []\n",
        "\n",
        "    model.eval()\n",
        "\n",
        "    for inputs, targets in testloader:\n",
        "        inputs = inputs.to(device)\n",
        "        targets = targets.to(device)\n",
        "\n",
        "        with torch.no_grad():\n",
        "            scores = model(inputs)\n",
        "            _, preds = torch.max(scores, 1)\n",
        "            y_true += targets.numpy().tolist()\n",
        "            y_pred += preds.numpy().tolist()\n",
        "\n",
        "    return y_true, y_pred"
      ],
      "execution_count": null,
      "outputs": []
    },
    {
      "cell_type": "markdown",
      "metadata": {
        "id": "oFA3T_bdJ0-k"
      },
      "source": [
        "## Load Model From Checkpoint\n",
        "\n",
        "The series of function here loads:\n",
        "* Models Paramters\n",
        "* Optimizer Parameters\n",
        "* Train Loss for Each Epoch\n",
        "* Test Accuracy for Each Epoch"
      ]
    },
    {
      "cell_type": "code",
      "metadata": {
        "id": "4xUZySuPJ95G"
      },
      "source": [
        "###############################\n",
        "# code by Tan Xi En  #\n",
        "###############################\n",
        "\n",
        "def load_model_optim(file_dir, file_name, model, optimizer, device):\n",
        "    checkpoint = torch.load(f'./{file_dir}/{file_name}.pt', map_location=torch.device(device))\n",
        "    model.load_state_dict(checkpoint['model_state_dict'])\n",
        "    optimizer.load_state_dict(checkpoint['optimizer_state_dict'])\n",
        "    return model, optimizer"
      ],
      "execution_count": null,
      "outputs": []
    },
    {
      "cell_type": "markdown",
      "metadata": {
        "id": "z5rNZ1bohzY9"
      },
      "source": [
        "### Load Train Loss and Test Accuracy"
      ]
    },
    {
      "cell_type": "code",
      "metadata": {
        "id": "4GzEE2QXh9Yk"
      },
      "source": [
        "###############################\n",
        "# code by Tan Xi En  #\n",
        "###############################\n",
        "\n",
        "def load_model_loss(file_dir, file_name, device):\n",
        "    checkpoint = torch.load(f'./{file_dir}/{file_name}.pt', map_location=torch.device(device))\n",
        "    return checkpoint[\"history_train_loss\"]"
      ],
      "execution_count": null,
      "outputs": []
    },
    {
      "cell_type": "code",
      "metadata": {
        "id": "nhFB01DeiYp5"
      },
      "source": [
        "###############################\n",
        "# code by Tan Xi En  #\n",
        "###############################\n",
        "\n",
        "def load_model_acc(file_dir, file_name, device):\n",
        "    checkpoint = torch.load(f'./{file_dir}/{file_name}.pt', map_location=torch.device(device))\n",
        "    return checkpoint[\"history_train_accuracy\"]"
      ],
      "execution_count": null,
      "outputs": []
    },
    {
      "cell_type": "markdown",
      "metadata": {
        "id": "wHenj0ucMuJq"
      },
      "source": [
        "## LeNet Model Analysis (Done by Yikanin Yit)"
      ]
    },
    {
      "cell_type": "code",
      "metadata": {
        "id": "YVp7b4OZJ3mY"
      },
      "source": [
        "###############################\n",
        "# code by Yikanin Yit  #\n",
        "###############################\n",
        "\n",
        "# Load only CNN Model I\n",
        "model1 = LeNet5()\n",
        "optimizer1 = optim.SGD(model1.parameters(), lr = lr, momentum = momentum)\n",
        "model1, _ = load_model_optim(file_dir, \"Model_1\", model1, optimizer1, device)"
      ],
      "execution_count": null,
      "outputs": []
    },
    {
      "cell_type": "code",
      "metadata": {
        "id": "J0JUrLEVMFbI",
        "colab": {
          "base_uri": "https://localhost:8080/"
        },
        "outputId": "b86b7191-b9b5-45a5-f51b-caacd9d48140"
      },
      "source": [
        "###############################\n",
        "# code by Yikanin Yit  #\n",
        "###############################\n",
        "\n",
        "acc_score = evaluate(model1, testloader, device)\n",
        "print(f'Accuracy = {acc_score}%')"
      ],
      "execution_count": null,
      "outputs": [
        {
          "output_type": "stream",
          "text": [
            "Accuracy = 88.53%\n"
          ],
          "name": "stdout"
        }
      ]
    },
    {
      "cell_type": "markdown",
      "metadata": {
        "id": "YxS1tZ82l0jN"
      },
      "source": [
        "#### Get Y_True and Y_pred for LeNet Model"
      ]
    },
    {
      "cell_type": "code",
      "metadata": {
        "id": "v9rQcjZwl27b"
      },
      "source": [
        "###############################\n",
        "# code by Yakanin Yit  #\n",
        "###############################\n",
        "\n",
        "y_true, y_pred = get_true_pred(model1, testloader, device)"
      ],
      "execution_count": null,
      "outputs": []
    },
    {
      "cell_type": "markdown",
      "metadata": {
        "id": "iUjluv2LidhQ"
      },
      "source": [
        "#### Classification Report for LeNet Model"
      ]
    },
    {
      "cell_type": "code",
      "metadata": {
        "id": "ZRSHmimXl-5Y",
        "colab": {
          "base_uri": "https://localhost:8080/",
          "height": 452
        },
        "outputId": "765c3842-1855-4a64-d441-fe7980dda124"
      },
      "source": [
        "###############################\n",
        "# code by Lee Hao Jie  #\n",
        "###############################\n",
        "\n",
        "clf_report_1 = pd.DataFrame(classification_report(y_true, y_pred, target_names = testset.classes, output_dict = True)).transpose()\n",
        "clf_report_1"
      ],
      "execution_count": null,
      "outputs": [
        {
          "output_type": "execute_result",
          "data": {
            "text/html": [
              "<div>\n",
              "<style scoped>\n",
              "    .dataframe tbody tr th:only-of-type {\n",
              "        vertical-align: middle;\n",
              "    }\n",
              "\n",
              "    .dataframe tbody tr th {\n",
              "        vertical-align: top;\n",
              "    }\n",
              "\n",
              "    .dataframe thead th {\n",
              "        text-align: right;\n",
              "    }\n",
              "</style>\n",
              "<table border=\"1\" class=\"dataframe\">\n",
              "  <thead>\n",
              "    <tr style=\"text-align: right;\">\n",
              "      <th></th>\n",
              "      <th>precision</th>\n",
              "      <th>recall</th>\n",
              "      <th>f1-score</th>\n",
              "      <th>support</th>\n",
              "    </tr>\n",
              "  </thead>\n",
              "  <tbody>\n",
              "    <tr>\n",
              "      <th>T-shirt/top</th>\n",
              "      <td>0.859763</td>\n",
              "      <td>0.7970</td>\n",
              "      <td>0.827193</td>\n",
              "      <td>1000.0000</td>\n",
              "    </tr>\n",
              "    <tr>\n",
              "      <th>Trouser</th>\n",
              "      <td>0.994856</td>\n",
              "      <td>0.9670</td>\n",
              "      <td>0.980730</td>\n",
              "      <td>1000.0000</td>\n",
              "    </tr>\n",
              "    <tr>\n",
              "      <th>Pullover</th>\n",
              "      <td>0.876761</td>\n",
              "      <td>0.7470</td>\n",
              "      <td>0.806695</td>\n",
              "      <td>1000.0000</td>\n",
              "    </tr>\n",
              "    <tr>\n",
              "      <th>Dress</th>\n",
              "      <td>0.854898</td>\n",
              "      <td>0.9250</td>\n",
              "      <td>0.888569</td>\n",
              "      <td>1000.0000</td>\n",
              "    </tr>\n",
              "    <tr>\n",
              "      <th>Coat</th>\n",
              "      <td>0.805118</td>\n",
              "      <td>0.8180</td>\n",
              "      <td>0.811508</td>\n",
              "      <td>1000.0000</td>\n",
              "    </tr>\n",
              "    <tr>\n",
              "      <th>Sandal</th>\n",
              "      <td>0.982546</td>\n",
              "      <td>0.9570</td>\n",
              "      <td>0.969605</td>\n",
              "      <td>1000.0000</td>\n",
              "    </tr>\n",
              "    <tr>\n",
              "      <th>Shirt</th>\n",
              "      <td>0.665175</td>\n",
              "      <td>0.7430</td>\n",
              "      <td>0.701937</td>\n",
              "      <td>1000.0000</td>\n",
              "    </tr>\n",
              "    <tr>\n",
              "      <th>Sneaker</th>\n",
              "      <td>0.950050</td>\n",
              "      <td>0.9510</td>\n",
              "      <td>0.950525</td>\n",
              "      <td>1000.0000</td>\n",
              "    </tr>\n",
              "    <tr>\n",
              "      <th>Bag</th>\n",
              "      <td>0.947776</td>\n",
              "      <td>0.9800</td>\n",
              "      <td>0.963618</td>\n",
              "      <td>1000.0000</td>\n",
              "    </tr>\n",
              "    <tr>\n",
              "      <th>Ankle boot</th>\n",
              "      <td>0.944390</td>\n",
              "      <td>0.9680</td>\n",
              "      <td>0.956049</td>\n",
              "      <td>1000.0000</td>\n",
              "    </tr>\n",
              "    <tr>\n",
              "      <th>accuracy</th>\n",
              "      <td>0.885300</td>\n",
              "      <td>0.8853</td>\n",
              "      <td>0.885300</td>\n",
              "      <td>0.8853</td>\n",
              "    </tr>\n",
              "    <tr>\n",
              "      <th>macro avg</th>\n",
              "      <td>0.888133</td>\n",
              "      <td>0.8853</td>\n",
              "      <td>0.885643</td>\n",
              "      <td>10000.0000</td>\n",
              "    </tr>\n",
              "    <tr>\n",
              "      <th>weighted avg</th>\n",
              "      <td>0.888133</td>\n",
              "      <td>0.8853</td>\n",
              "      <td>0.885643</td>\n",
              "      <td>10000.0000</td>\n",
              "    </tr>\n",
              "  </tbody>\n",
              "</table>\n",
              "</div>"
            ],
            "text/plain": [
              "              precision  recall  f1-score     support\n",
              "T-shirt/top    0.859763  0.7970  0.827193   1000.0000\n",
              "Trouser        0.994856  0.9670  0.980730   1000.0000\n",
              "Pullover       0.876761  0.7470  0.806695   1000.0000\n",
              "Dress          0.854898  0.9250  0.888569   1000.0000\n",
              "Coat           0.805118  0.8180  0.811508   1000.0000\n",
              "Sandal         0.982546  0.9570  0.969605   1000.0000\n",
              "Shirt          0.665175  0.7430  0.701937   1000.0000\n",
              "Sneaker        0.950050  0.9510  0.950525   1000.0000\n",
              "Bag            0.947776  0.9800  0.963618   1000.0000\n",
              "Ankle boot     0.944390  0.9680  0.956049   1000.0000\n",
              "accuracy       0.885300  0.8853  0.885300      0.8853\n",
              "macro avg      0.888133  0.8853  0.885643  10000.0000\n",
              "weighted avg   0.888133  0.8853  0.885643  10000.0000"
            ]
          },
          "metadata": {},
          "execution_count": 50
        }
      ]
    },
    {
      "cell_type": "markdown",
      "metadata": {
        "id": "N1s56haEifiI"
      },
      "source": [
        "#### Confusion Matrix for LeNet Model"
      ]
    },
    {
      "cell_type": "code",
      "metadata": {
        "id": "Y4CFUlvEmc58",
        "colab": {
          "base_uri": "https://localhost:8080/",
          "height": 700
        },
        "outputId": "a288f448-dc31-43b1-ae45-a09f8559c12e"
      },
      "source": [
        "###############################\n",
        "# code by Lee Hao Jie  #\n",
        "###############################\n",
        "\n",
        "confusion_matrix_df = pd.DataFrame(confusion_matrix(y_true, y_pred), index = testset.classes, columns = testset.classes)\n",
        "fig = plt.figure(figsize=(12,12))\n",
        "sns.heatmap(confusion_matrix_df,annot=True, fmt='g')\n",
        "plt.show()"
      ],
      "execution_count": null,
      "outputs": [
        {
          "output_type": "display_data",
          "data": {
            "image/png": "[encoded data removed]",
            "text/plain": [
              "<Figure size 864x864 with 2 Axes>"
            ]
          },
          "metadata": {
            "needs_background": "light"
          }
        }
      ]
    },
    {
      "cell_type": "markdown",
      "metadata": {
        "id": "e7_iz-k3MWf2"
      },
      "source": [
        "## Squeeze Excitation (SE) ResNet Model (Done by Lee Hao Jie)"
      ]
    },
    {
      "cell_type": "code",
      "metadata": {
        "id": "sISh1Mm5M8G9"
      },
      "source": [
        "###############################\n",
        "# code by Lee Hao Jie  #\n",
        "###############################\n",
        "\n",
        "model2 = SEResnet(num_of_class)\n",
        "optimizer2 = optim.SGD(model2.parameters(), lr = lr, momentum = momentum)\n",
        "model2, _ = load_model_optim(file_dir, \"Model_2\", model2, optimizer2, device)"
      ],
      "execution_count": null,
      "outputs": []
    },
    {
      "cell_type": "code",
      "metadata": {
        "id": "yKbil0RQoRcC",
        "colab": {
          "base_uri": "https://localhost:8080/"
        },
        "outputId": "33a74d69-fb13-4e48-b0ce-96a82adc3f59"
      },
      "source": [
        "###############################\n",
        "# code by Lee Hao Jie  #\n",
        "###############################\n",
        "\n",
        "acc_score = evaluate(model2, testloader, device)\n",
        "print(f'Accuracy = {acc_score:.2f}%')"
      ],
      "execution_count": null,
      "outputs": [
        {
          "output_type": "stream",
          "text": [
            "Accuracy = 92.14%\n"
          ],
          "name": "stdout"
        }
      ]
    },
    {
      "cell_type": "markdown",
      "metadata": {
        "id": "jcIhhc6xnAHo"
      },
      "source": [
        "#### Get Y True and Y Pred for Squeeze Excitation (SE) ResNet Model"
      ]
    },
    {
      "cell_type": "code",
      "metadata": {
        "id": "VF9ZUKw-nPkl"
      },
      "source": [
        "###############################\n",
        "# code by Lee Hao Jie  #\n",
        "###############################\n",
        "\n",
        "y_true, y_pred = get_true_pred(model2, testloader, device)"
      ],
      "execution_count": null,
      "outputs": []
    },
    {
      "cell_type": "markdown",
      "metadata": {
        "id": "mWOJjsyYnHSs"
      },
      "source": [
        "#### Classification Report for Squeeze Excitation (SE) ResNet Model"
      ]
    },
    {
      "cell_type": "code",
      "metadata": {
        "id": "DjQnzrdUnQ1F",
        "colab": {
          "base_uri": "https://localhost:8080/",
          "height": 452
        },
        "outputId": "bfdd6f9b-8656-4914-ff83-9d00176f8b07"
      },
      "source": [
        "###############################\n",
        "# code by Lee Hao Jie  #\n",
        "###############################\n",
        "\n",
        "clf_report_2 = pd.DataFrame(classification_report(y_true, y_pred, target_names = testset.classes, output_dict = True)).transpose()\n",
        "clf_report_2"
      ],
      "execution_count": null,
      "outputs": [
        {
          "output_type": "execute_result",
          "data": {
            "text/html": [
              "<div>\n",
              "<style scoped>\n",
              "    .dataframe tbody tr th:only-of-type {\n",
              "        vertical-align: middle;\n",
              "    }\n",
              "\n",
              "    .dataframe tbody tr th {\n",
              "        vertical-align: top;\n",
              "    }\n",
              "\n",
              "    .dataframe thead th {\n",
              "        text-align: right;\n",
              "    }\n",
              "</style>\n",
              "<table border=\"1\" class=\"dataframe\">\n",
              "  <thead>\n",
              "    <tr style=\"text-align: right;\">\n",
              "      <th></th>\n",
              "      <th>precision</th>\n",
              "      <th>recall</th>\n",
              "      <th>f1-score</th>\n",
              "      <th>support</th>\n",
              "    </tr>\n",
              "  </thead>\n",
              "  <tbody>\n",
              "    <tr>\n",
              "      <th>T-shirt/top</th>\n",
              "      <td>0.873598</td>\n",
              "      <td>0.8570</td>\n",
              "      <td>0.865220</td>\n",
              "      <td>1000.0000</td>\n",
              "    </tr>\n",
              "    <tr>\n",
              "      <th>Trouser</th>\n",
              "      <td>0.993964</td>\n",
              "      <td>0.9880</td>\n",
              "      <td>0.990973</td>\n",
              "      <td>1000.0000</td>\n",
              "    </tr>\n",
              "    <tr>\n",
              "      <th>Pullover</th>\n",
              "      <td>0.909759</td>\n",
              "      <td>0.8670</td>\n",
              "      <td>0.887865</td>\n",
              "      <td>1000.0000</td>\n",
              "    </tr>\n",
              "    <tr>\n",
              "      <th>Dress</th>\n",
              "      <td>0.894737</td>\n",
              "      <td>0.9350</td>\n",
              "      <td>0.914425</td>\n",
              "      <td>1000.0000</td>\n",
              "    </tr>\n",
              "    <tr>\n",
              "      <th>Coat</th>\n",
              "      <td>0.865700</td>\n",
              "      <td>0.8960</td>\n",
              "      <td>0.880590</td>\n",
              "      <td>1000.0000</td>\n",
              "    </tr>\n",
              "    <tr>\n",
              "      <th>Sandal</th>\n",
              "      <td>0.987915</td>\n",
              "      <td>0.9810</td>\n",
              "      <td>0.984446</td>\n",
              "      <td>1000.0000</td>\n",
              "    </tr>\n",
              "    <tr>\n",
              "      <th>Shirt</th>\n",
              "      <td>0.773931</td>\n",
              "      <td>0.7600</td>\n",
              "      <td>0.766902</td>\n",
              "      <td>1000.0000</td>\n",
              "    </tr>\n",
              "    <tr>\n",
              "      <th>Sneaker</th>\n",
              "      <td>0.959804</td>\n",
              "      <td>0.9790</td>\n",
              "      <td>0.969307</td>\n",
              "      <td>1000.0000</td>\n",
              "    </tr>\n",
              "    <tr>\n",
              "      <th>Bag</th>\n",
              "      <td>0.975223</td>\n",
              "      <td>0.9840</td>\n",
              "      <td>0.979592</td>\n",
              "      <td>1000.0000</td>\n",
              "    </tr>\n",
              "    <tr>\n",
              "      <th>Ankle boot</th>\n",
              "      <td>0.978745</td>\n",
              "      <td>0.9670</td>\n",
              "      <td>0.972837</td>\n",
              "      <td>1000.0000</td>\n",
              "    </tr>\n",
              "    <tr>\n",
              "      <th>accuracy</th>\n",
              "      <td>0.921400</td>\n",
              "      <td>0.9214</td>\n",
              "      <td>0.921400</td>\n",
              "      <td>0.9214</td>\n",
              "    </tr>\n",
              "    <tr>\n",
              "      <th>macro avg</th>\n",
              "      <td>0.921338</td>\n",
              "      <td>0.9214</td>\n",
              "      <td>0.921216</td>\n",
              "      <td>10000.0000</td>\n",
              "    </tr>\n",
              "    <tr>\n",
              "      <th>weighted avg</th>\n",
              "      <td>0.921338</td>\n",
              "      <td>0.9214</td>\n",
              "      <td>0.921216</td>\n",
              "      <td>10000.0000</td>\n",
              "    </tr>\n",
              "  </tbody>\n",
              "</table>\n",
              "</div>"
            ],
            "text/plain": [
              "              precision  recall  f1-score     support\n",
              "T-shirt/top    0.873598  0.8570  0.865220   1000.0000\n",
              "Trouser        0.993964  0.9880  0.990973   1000.0000\n",
              "Pullover       0.909759  0.8670  0.887865   1000.0000\n",
              "Dress          0.894737  0.9350  0.914425   1000.0000\n",
              "Coat           0.865700  0.8960  0.880590   1000.0000\n",
              "Sandal         0.987915  0.9810  0.984446   1000.0000\n",
              "Shirt          0.773931  0.7600  0.766902   1000.0000\n",
              "Sneaker        0.959804  0.9790  0.969307   1000.0000\n",
              "Bag            0.975223  0.9840  0.979592   1000.0000\n",
              "Ankle boot     0.978745  0.9670  0.972837   1000.0000\n",
              "accuracy       0.921400  0.9214  0.921400      0.9214\n",
              "macro avg      0.921338  0.9214  0.921216  10000.0000\n",
              "weighted avg   0.921338  0.9214  0.921216  10000.0000"
            ]
          },
          "metadata": {},
          "execution_count": 55
        }
      ]
    },
    {
      "cell_type": "markdown",
      "metadata": {
        "id": "2mJUG1SJnC5a"
      },
      "source": [
        "#### Confusion Matrix for Squeeze Excitation (SE) ResNet Model"
      ]
    },
    {
      "cell_type": "code",
      "metadata": {
        "id": "1bBL9_qWnREF",
        "colab": {
          "base_uri": "https://localhost:8080/",
          "height": 700
        },
        "outputId": "6718471a-6577-4af7-e175-f462e37e3041"
      },
      "source": [
        "###############################\n",
        "# code by Lee Hao Jie  #\n",
        "###############################\n",
        "\n",
        "confusion_matrix_df = pd.DataFrame(confusion_matrix(y_true, y_pred), index = testset.classes, columns = testset.classes)\n",
        "fig = plt.figure(figsize=(12,12))\n",
        "sns.heatmap(confusion_matrix_df,annot=True, fmt='g')\n",
        "plt.show()"
      ],
      "execution_count": null,
      "outputs": [
        {
          "output_type": "display_data",
          "data": {
            "image/png": "[encoded data removed]",
            "text/plain": [
              "<Figure size 864x864 with 2 Axes>"
            ]
          },
          "metadata": {
            "needs_background": "light"
          }
        }
      ]
    },
    {
      "cell_type": "markdown",
      "metadata": {
        "id": "1zRBtVNXMxo_"
      },
      "source": [
        "## CNN + BN + Skip Connection Model (Done By Tan Xi En)\n"
      ]
    },
    {
      "cell_type": "code",
      "metadata": {
        "id": "h0p0t_9TM0IU"
      },
      "source": [
        "###############################\n",
        "# code by Tan Xi En  #\n",
        "###############################\n",
        "\n",
        "model3 = cnn_model3(num_of_class)\n",
        "optimizer3 = optim.SGD(model3.parameters(), lr = lr, momentum = momentum)\n",
        "model3, _ = load_model_optim(file_dir, \"Model_3\", model3, optimizer3, device)"
      ],
      "execution_count": null,
      "outputs": []
    },
    {
      "cell_type": "code",
      "metadata": {
        "id": "sJIrf_5JoNi8",
        "colab": {
          "base_uri": "https://localhost:8080/"
        },
        "outputId": "bff50ab3-68e0-434f-ce58-71223b5ed040"
      },
      "source": [
        "###############################\n",
        "# code by Tan Xi En  #\n",
        "###############################\n",
        "\n",
        "acc_score = evaluate(model3, testloader, device)\n",
        "print(f'Accuracy = {acc_score:.2f}%')"
      ],
      "execution_count": null,
      "outputs": [
        {
          "output_type": "stream",
          "text": [
            "Accuracy = 92.07%\n"
          ],
          "name": "stdout"
        }
      ]
    },
    {
      "cell_type": "markdown",
      "metadata": {
        "id": "j7saqPaynZZO"
      },
      "source": [
        "#### Get Y True and Y Pred for CNN + BN + Skip Connection Model"
      ]
    },
    {
      "cell_type": "code",
      "metadata": {
        "id": "WhEWzXden7rW"
      },
      "source": [
        "###############################\n",
        "# code by Tan Xi En  #\n",
        "###############################\n",
        "\n",
        "y_true, y_pred = get_true_pred(model3, testloader, device)"
      ],
      "execution_count": null,
      "outputs": []
    },
    {
      "cell_type": "markdown",
      "metadata": {
        "id": "J2JNnkF4nc8s"
      },
      "source": [
        "#### Get Classification Report for CNN + BN + Skip Connection Model"
      ]
    },
    {
      "cell_type": "code",
      "metadata": {
        "id": "qxQvGVs8n-J-",
        "colab": {
          "base_uri": "https://localhost:8080/",
          "height": 452
        },
        "outputId": "adcba5a9-28d5-411d-88a9-8319bc0881ac"
      },
      "source": [
        "###############################\n",
        "# code by Lee Hao Jie  #\n",
        "###############################\n",
        "\n",
        "clf_report_3 = pd.DataFrame(classification_report(y_true, y_pred, target_names = testset.classes, output_dict = True)).transpose()\n",
        "clf_report_3"
      ],
      "execution_count": null,
      "outputs": [
        {
          "output_type": "execute_result",
          "data": {
            "text/html": [
              "<div>\n",
              "<style scoped>\n",
              "    .dataframe tbody tr th:only-of-type {\n",
              "        vertical-align: middle;\n",
              "    }\n",
              "\n",
              "    .dataframe tbody tr th {\n",
              "        vertical-align: top;\n",
              "    }\n",
              "\n",
              "    .dataframe thead th {\n",
              "        text-align: right;\n",
              "    }\n",
              "</style>\n",
              "<table border=\"1\" class=\"dataframe\">\n",
              "  <thead>\n",
              "    <tr style=\"text-align: right;\">\n",
              "      <th></th>\n",
              "      <th>precision</th>\n",
              "      <th>recall</th>\n",
              "      <th>f1-score</th>\n",
              "      <th>support</th>\n",
              "    </tr>\n",
              "  </thead>\n",
              "  <tbody>\n",
              "    <tr>\n",
              "      <th>T-shirt/top</th>\n",
              "      <td>0.855769</td>\n",
              "      <td>0.8900</td>\n",
              "      <td>0.872549</td>\n",
              "      <td>1000.0000</td>\n",
              "    </tr>\n",
              "    <tr>\n",
              "      <th>Trouser</th>\n",
              "      <td>0.996954</td>\n",
              "      <td>0.9820</td>\n",
              "      <td>0.989421</td>\n",
              "      <td>1000.0000</td>\n",
              "    </tr>\n",
              "    <tr>\n",
              "      <th>Pullover</th>\n",
              "      <td>0.854247</td>\n",
              "      <td>0.8850</td>\n",
              "      <td>0.869352</td>\n",
              "      <td>1000.0000</td>\n",
              "    </tr>\n",
              "    <tr>\n",
              "      <th>Dress</th>\n",
              "      <td>0.896682</td>\n",
              "      <td>0.9460</td>\n",
              "      <td>0.920681</td>\n",
              "      <td>1000.0000</td>\n",
              "    </tr>\n",
              "    <tr>\n",
              "      <th>Coat</th>\n",
              "      <td>0.873598</td>\n",
              "      <td>0.8570</td>\n",
              "      <td>0.865220</td>\n",
              "      <td>1000.0000</td>\n",
              "    </tr>\n",
              "    <tr>\n",
              "      <th>Sandal</th>\n",
              "      <td>0.986895</td>\n",
              "      <td>0.9790</td>\n",
              "      <td>0.982932</td>\n",
              "      <td>1000.0000</td>\n",
              "    </tr>\n",
              "    <tr>\n",
              "      <th>Shirt</th>\n",
              "      <td>0.815877</td>\n",
              "      <td>0.7400</td>\n",
              "      <td>0.776088</td>\n",
              "      <td>1000.0000</td>\n",
              "    </tr>\n",
              "    <tr>\n",
              "      <th>Sneaker</th>\n",
              "      <td>0.961500</td>\n",
              "      <td>0.9740</td>\n",
              "      <td>0.967710</td>\n",
              "      <td>1000.0000</td>\n",
              "    </tr>\n",
              "    <tr>\n",
              "      <th>Bag</th>\n",
              "      <td>0.988911</td>\n",
              "      <td>0.9810</td>\n",
              "      <td>0.984940</td>\n",
              "      <td>1000.0000</td>\n",
              "    </tr>\n",
              "    <tr>\n",
              "      <th>Ankle boot</th>\n",
              "      <td>0.973974</td>\n",
              "      <td>0.9730</td>\n",
              "      <td>0.973487</td>\n",
              "      <td>1000.0000</td>\n",
              "    </tr>\n",
              "    <tr>\n",
              "      <th>accuracy</th>\n",
              "      <td>0.920700</td>\n",
              "      <td>0.9207</td>\n",
              "      <td>0.920700</td>\n",
              "      <td>0.9207</td>\n",
              "    </tr>\n",
              "    <tr>\n",
              "      <th>macro avg</th>\n",
              "      <td>0.920441</td>\n",
              "      <td>0.9207</td>\n",
              "      <td>0.920238</td>\n",
              "      <td>10000.0000</td>\n",
              "    </tr>\n",
              "    <tr>\n",
              "      <th>weighted avg</th>\n",
              "      <td>0.920441</td>\n",
              "      <td>0.9207</td>\n",
              "      <td>0.920238</td>\n",
              "      <td>10000.0000</td>\n",
              "    </tr>\n",
              "  </tbody>\n",
              "</table>\n",
              "</div>"
            ],
            "text/plain": [
              "              precision  recall  f1-score     support\n",
              "T-shirt/top    0.855769  0.8900  0.872549   1000.0000\n",
              "Trouser        0.996954  0.9820  0.989421   1000.0000\n",
              "Pullover       0.854247  0.8850  0.869352   1000.0000\n",
              "Dress          0.896682  0.9460  0.920681   1000.0000\n",
              "Coat           0.873598  0.8570  0.865220   1000.0000\n",
              "Sandal         0.986895  0.9790  0.982932   1000.0000\n",
              "Shirt          0.815877  0.7400  0.776088   1000.0000\n",
              "Sneaker        0.961500  0.9740  0.967710   1000.0000\n",
              "Bag            0.988911  0.9810  0.984940   1000.0000\n",
              "Ankle boot     0.973974  0.9730  0.973487   1000.0000\n",
              "accuracy       0.920700  0.9207  0.920700      0.9207\n",
              "macro avg      0.920441  0.9207  0.920238  10000.0000\n",
              "weighted avg   0.920441  0.9207  0.920238  10000.0000"
            ]
          },
          "metadata": {},
          "execution_count": 60
        }
      ]
    },
    {
      "cell_type": "markdown",
      "metadata": {
        "id": "wBhhxStyn5l0"
      },
      "source": [
        "#### Confusion Matrix for CNN + BN + Skip Connection Model"
      ]
    },
    {
      "cell_type": "code",
      "metadata": {
        "id": "2n9rUT_1qBdF",
        "colab": {
          "base_uri": "https://localhost:8080/",
          "height": 700
        },
        "outputId": "256fd5e8-941a-4498-cd93-0e79e6ae9ac4"
      },
      "source": [
        "###############################\n",
        "# code by Lee Hao Jie  #\n",
        "###############################\n",
        "\n",
        "confusion_matrix_df = pd.DataFrame(confusion_matrix(y_true, y_pred), index = testset.classes, columns = testset.classes)\n",
        "fig = plt.figure(figsize=(12,12))\n",
        "sns.heatmap(confusion_matrix_df,annot=True, fmt='g')\n",
        "plt.show()"
      ],
      "execution_count": null,
      "outputs": [
        {
          "output_type": "display_data",
          "data": {
            "image/png": "[encoded data removed]",
            "text/plain": [
              "<Figure size 864x864 with 2 Axes>"
            ]
          },
          "metadata": {
            "needs_background": "light"
          }
        }
      ]
    },
    {
      "cell_type": "markdown",
      "metadata": {
        "id": "etICk6ezhmnJ"
      },
      "source": [
        "## Train Loss and Test Accuracy vs Epoch"
      ]
    },
    {
      "cell_type": "code",
      "metadata": {
        "id": "DVxs8mI5i_hz"
      },
      "source": [
        "###############################\n",
        "# code by Tan Xi En  #\n",
        "###############################\n",
        "\n",
        "def train_test_graph(df, x_label, y_label, title):\n",
        "    for val in df.columns:\n",
        "        plt.plot(df.index, val, data=df, label = val)\n",
        "    plt.legend(bbox_to_anchor=(1.0, 1.05))\n",
        "    plt.xlabel(x_label)\n",
        "    plt.ylabel(y_label)\n",
        "    plt.title(title)\n",
        "    plt.show()"
      ],
      "execution_count": null,
      "outputs": []
    },
    {
      "cell_type": "markdown",
      "metadata": {
        "id": "re5xlE-soui2"
      },
      "source": [
        "### Train Loss vs Epoch"
      ]
    },
    {
      "cell_type": "code",
      "metadata": {
        "id": "Bdz35siTiw06"
      },
      "source": [
        "###############################\n",
        "# code by Tan Xi En  #\n",
        "###############################\n",
        "\n",
        "model_name_arr = [\"LeNet Model\", \"SEResNet Model \", \"CNN2 + BN + Skip Model\"]\n",
        "file_name_arr = [\"Model_1\", \"Model_2\", \"Model_3\"]\n",
        "train_loss_dict = {\n",
        "    model_name:load_model_loss(file_dir, file_name, device) for model_name, file_name in zip(model_name_arr, file_name_arr)\n",
        "}\n",
        "length = len(load_model_loss(file_dir, file_name_arr[0], device))\n",
        "df = pd.DataFrame(train_loss_dict, index = range(1, length + 1))"
      ],
      "execution_count": null,
      "outputs": []
    },
    {
      "cell_type": "code",
      "metadata": {
        "id": "kXEUmUg7jY34",
        "colab": {
          "base_uri": "https://localhost:8080/",
          "height": 295
        },
        "outputId": "514090ee-0ad9-4e18-b4b4-ff4b874bb90e"
      },
      "source": [
        "###############################\n",
        "# code by Tan Xi En  #\n",
        "###############################\n",
        "\n",
        "train_test_graph(df, \"Epochs\", \"Training Cross-Entropy Loss\", \"Training Loss vs Epoch\")"
      ],
      "execution_count": null,
      "outputs": [
        {
          "output_type": "display_data",
          "data": {
            "image/png": "[encoded data removed]",
            "text/plain": [
              "<Figure size 432x288 with 1 Axes>"
            ]
          },
          "metadata": {
            "needs_background": "light"
          }
        }
      ]
    },
    {
      "cell_type": "markdown",
      "metadata": {
        "id": "HIrY0C-VitjX"
      },
      "source": [
        "### Test Accuracy vs Epoch"
      ]
    },
    {
      "cell_type": "code",
      "metadata": {
        "id": "iwVTN9vbkcJG"
      },
      "source": [
        "###############################\n",
        "# code by Tan Xi En  #\n",
        "###############################\n",
        "\n",
        "model_name_arr = [\"LeNet Model\", \"SEResNet Model\", \"CNN2 + BN + Skip Model\"]\n",
        "file_name_arr = [\"Model_1\", \"Model_2\", \"Model_3\"]\n",
        "train_acc_dict = {\n",
        "    model_name:load_model_acc(file_dir, file_name, device) for model_name, file_name in zip(model_name_arr, file_name_arr)\n",
        "}\n",
        "length = len(load_model_acc(file_dir, file_name_arr[0], device))\n",
        "df = pd.DataFrame(train_acc_dict, index = range(1, length + 1))"
      ],
      "execution_count": null,
      "outputs": []
    },
    {
      "cell_type": "code",
      "metadata": {
        "id": "2eDmpJ9TkjBv",
        "colab": {
          "base_uri": "https://localhost:8080/",
          "height": 295
        },
        "outputId": "cb414f73-9a7b-4009-f311-7b0d5f629144"
      },
      "source": [
        "###############################\n",
        "# code by Tan Xi En  #\n",
        "###############################\n",
        "\n",
        "train_test_graph(df, \"Epochs\", \"Test Accuracy\", \"Test Accuracy vs Epoch\")"
      ],
      "execution_count": null,
      "outputs": [
        {
          "output_type": "display_data",
          "data": {
            "image/png": "[encoded data removed]",
            "text/plain": [
              "<Figure size 432x288 with 1 Axes>"
            ]
          },
          "metadata": {
            "needs_background": "light"
          }
        }
      ]
    },
    {
      "cell_type": "markdown",
      "metadata": {
        "id": "lL1nDQUiQr5L"
      },
      "source": [
        "## 6. Performance of Each Model （Done by Yikanin Yit）\n",
        "* Precision\n",
        "* Recall\n",
        "* F1 Score\n",
        "* Accuracy"
      ]
    },
    {
      "cell_type": "code",
      "metadata": {
        "id": "aPxSJOgFvzZB"
      },
      "source": [
        "###############################\n",
        "# code by Yikanin Yit  #\n",
        "###############################\n",
        "\n",
        "def pfr_graph(df, x_label, y_label, title):\n",
        "    df.plot.bar()\n",
        "    plt.legend(bbox_to_anchor=(1, 1.05))\n",
        "    plt.xlabel(x_label)\n",
        "    plt.ylabel(y_label)\n",
        "    plt.title(title)\n",
        "    plt.show()"
      ],
      "execution_count": null,
      "outputs": []
    },
    {
      "cell_type": "code",
      "metadata": {
        "id": "2Q2L855gwIyT"
      },
      "source": [
        "###############################\n",
        "# code by Yikanin Yit  #\n",
        "###############################\n",
        "\n",
        "def get_df_type(model_name, clf_report1, clf_report2,clf_report3, col_name):\n",
        "    df = pd.DataFrame()\n",
        "    df[model_name[0]] = clf_report1[col_name][:-3]\n",
        "    df[model_name[1]] = clf_report2[col_name][:-3]\n",
        "    df[model_name[2]] = clf_report3[col_name][:-3]\n",
        "    \n",
        "    # Replace NA value with 0\n",
        "    df.fillna(0, inplace=True)\n",
        "    return df"
      ],
      "execution_count": null,
      "outputs": []
    },
    {
      "cell_type": "markdown",
      "metadata": {
        "id": "Z4QNKtULv3jU"
      },
      "source": [
        "### Precision Graph"
      ]
    },
    {
      "cell_type": "code",
      "metadata": {
        "id": "BsdmilmfwHi-",
        "colab": {
          "base_uri": "https://localhost:8080/",
          "height": 339
        },
        "outputId": "ba03a58b-35b2-4627-d524-c7eec8ed9d4c"
      },
      "source": [
        "###############################\n",
        "# code by Yikanin Yit  #\n",
        "###############################\n",
        "\n",
        "model_name = [\"LeNet Model\", \"SeResNet Model\", \"CNN2 + BN + Skip Model\"]\n",
        "df = get_df_type(model_name, clf_report_1, clf_report_2,clf_report_3, \"precision\")\n",
        "pfr_graph(df, \"Fashion Article Types\", \"Score\", \"Precision Comparison\")"
      ],
      "execution_count": null,
      "outputs": [
        {
          "output_type": "display_data",
          "data": {
            "image/png": "[encoded data removed]",
            "text/plain": [
              "<Figure size 432x288 with 1 Axes>"
            ]
          },
          "metadata": {
            "needs_background": "light"
          }
        }
      ]
    },
    {
      "cell_type": "markdown",
      "metadata": {
        "id": "b8RHmHBsv_xh"
      },
      "source": [
        "### Recall Graph"
      ]
    },
    {
      "cell_type": "code",
      "metadata": {
        "id": "ZItT7dQDwR0E",
        "colab": {
          "base_uri": "https://localhost:8080/",
          "height": 339
        },
        "outputId": "50d0346f-4f8c-40ca-a464-c7b94c1e8e94"
      },
      "source": [
        "###############################\n",
        "# code by Yikanin Yit  #\n",
        "###############################\n",
        "\n",
        "model_name = [\"LeNet Model\", \"SeResNet Model\", \"CNN2 + BN + Skip Model\"]\n",
        "df = get_df_type(model_name, clf_report_1, clf_report_2,clf_report_3, \"recall\")\n",
        "pfr_graph(df, \"Fashion Article Types\", \"Score\", \"Recall Comparison\")"
      ],
      "execution_count": null,
      "outputs": [
        {
          "output_type": "display_data",
          "data": {
            "image/png": "[encoded data removed]",
            "text/plain": [
              "<Figure size 432x288 with 1 Axes>"
            ]
          },
          "metadata": {
            "needs_background": "light"
          }
        }
      ]
    },
    {
      "cell_type": "markdown",
      "metadata": {
        "id": "rXA8gkymwBZi"
      },
      "source": [
        "### F1-Score Graph"
      ]
    },
    {
      "cell_type": "code",
      "metadata": {
        "id": "3CTHGONIwFG-",
        "colab": {
          "base_uri": "https://localhost:8080/",
          "height": 339
        },
        "outputId": "97249585-1727-4929-d8b6-a08822da60f0"
      },
      "source": [
        "###############################\n",
        "# code by Yikanin Yit  #\n",
        "###############################\n",
        "\n",
        "model_name = [\"LeNet Model\", \"SeResNet Model\", \"CNN2 + BN + Skip Model\"]\n",
        "df = get_df_type(model_name, clf_report_1, clf_report_2,clf_report_3, \"f1-score\")\n",
        "pfr_graph(df, \"Fashion Article Types\", \"Score\", \"F1 Score Comparison\")"
      ],
      "execution_count": null,
      "outputs": [
        {
          "output_type": "display_data",
          "data": {
            "image/png": "[encoded data removed]",
            "text/plain": [
              "<Figure size 432x288 with 1 Axes>"
            ]
          },
          "metadata": {
            "needs_background": "light"
          }
        }
      ]
    },
    {
      "cell_type": "markdown",
      "metadata": {
        "id": "Q-0JLofSwfeT"
      },
      "source": [
        "### Accuracy Score Comparison"
      ]
    },
    {
      "cell_type": "code",
      "metadata": {
        "id": "J8LWskUFwm6q"
      },
      "source": [
        "###############################\n",
        "# code by Yikanin Yit  #\n",
        "###############################\n",
        "\n",
        "acc_score_arr = []\n",
        "acc_score_arr.append(evaluate(model1, testloader, device))\n",
        "acc_score_arr.append(evaluate(model2, testloader, device))\n",
        "acc_score_arr.append(evaluate(model3, testloader, device))"
      ],
      "execution_count": null,
      "outputs": []
    },
    {
      "cell_type": "code",
      "metadata": {
        "id": "JDldarqDw0uQ"
      },
      "source": [
        "###############################\n",
        "# code by Yikanin Yit  #\n",
        "###############################\n",
        "\n",
        "def acc_graph(model_name_arr ,acc_score_arr, x_label, y_label, title):\n",
        "    acc_dict = {\n",
        "        model_name: acc_score for model_name, acc_score in zip(model_name_arr, acc_score_arr)\n",
        "    }\n",
        "    df = pd.Series(acc_dict)\n",
        "    fig, ax = plt.subplots(figsize=(12, 2))\n",
        "    for ind, val in enumerate(df):\n",
        "        ax.barh(ind, val, 0.5, label=df.index[ind])\n",
        "        ax.text(val,ind,f\"{val:.1f}%\")\n",
        "    plt.yticks(np.arange(len(df)),df.index)\n",
        "    plt.legend(bbox_to_anchor=(1, 1.05))\n",
        "    plt.xlabel(x_label)\n",
        "    plt.ylabel(y_label)\n",
        "    plt.title(title)\n",
        "    plt.show()"
      ],
      "execution_count": null,
      "outputs": []
    },
    {
      "cell_type": "code",
      "metadata": {
        "id": "ICCbzt6pxfvc",
        "colab": {
          "base_uri": "https://localhost:8080/",
          "height": 187
        },
        "outputId": "95708093-826a-4d25-a87a-2b3c704be779"
      },
      "source": [
        "###############################\n",
        "# code by Yikanin Yit  #\n",
        "###############################\n",
        "\n",
        "model_name_arr = [\"LeNet Model\", \"SeResNet Model\", \"CNN2 + BN + Skip Model\"]\n",
        "acc_graph(model_name_arr, acc_score_arr, \"Accuracy Score\", \"Types of Model\", \"Accuracy Score Comparison\")"
      ],
      "execution_count": null,
      "outputs": [
        {
          "output_type": "display_data",
          "data": {
            "image/png": "[encoded data removed]",
            "text/plain": [
              "<Figure size 864x144 with 1 Axes>"
            ]
          },
          "metadata": {
            "needs_background": "light"
          }
        }
      ]
    },
    {
      "cell_type": "markdown",
      "metadata": {
        "id": "x6SnNORYo7_C"
      },
      "source": [
        "## Filter, Acitvation Map and Grad-Class Activation Heatmap Visualization"
      ]
    },
    {
      "cell_type": "markdown",
      "metadata": {
        "id": "CCtQrbnrN3eD"
      },
      "source": [
        "### Get All Conv Layer from a Model"
      ]
    },
    {
      "cell_type": "code",
      "metadata": {
        "id": "64hx-3GvQDQX"
      },
      "source": [
        "###############################\n",
        "# code by Tan Xi En  #\n",
        "###############################\n",
        "\n",
        "def get_all_conv_layer_CNN(model):\n",
        "  return [\n",
        "    layer \n",
        "        for model_child in model.children() \n",
        "            for module_list_child in model_child \n",
        "                if type(module_list_child) is nn.Sequential \n",
        "                    for layer in module_list_child \n",
        "                        if type(layer) is nn.Conv2d\n",
        "    ]"
      ],
      "execution_count": null,
      "outputs": []
    },
    {
      "cell_type": "markdown",
      "metadata": {
        "id": "UNDEv8cYQZVJ"
      },
      "source": [
        "### Load Test Image for visualization analysis"
      ]
    },
    {
      "cell_type": "code",
      "metadata": {
        "id": "tIBg7eVssE41",
        "colab": {
          "base_uri": "https://localhost:8080/",
          "height": 265
        },
        "outputId": "db04fcab-cc58-47da-a6b1-8bb756ca705b"
      },
      "source": [
        "idx = 10\n",
        "img, label = FashionMNIST(root=\".\", download= True)[idx]\n",
        "show_image(img)"
      ],
      "execution_count": null,
      "outputs": [
        {
          "output_type": "display_data",
          "data": {
            "image/png": "[encoded data removed]",
            "text/plain": [
              "<Figure size 432x288 with 1 Axes>"
            ]
          },
          "metadata": {
            "needs_background": "light"
          }
        }
      ]
    },
    {
      "cell_type": "markdown",
      "metadata": {
        "id": "6FZIggA2VOBs"
      },
      "source": [
        "### Visualize Filters"
      ]
    },
    {
      "cell_type": "code",
      "metadata": {
        "id": "zXf78MvZYpUZ"
      },
      "source": [
        "###############################\n",
        "# code by Tan Xi En  #\n",
        "###############################\n",
        "\n",
        "def visTensor(tensor, ch=0, allkernels = False, nrow=8, padding=1): \n",
        "    n, c, h, w = tensor.shape\n",
        "\n",
        "    if allkernels: \n",
        "        tensor = tensor.view(n*c, -1, w, h)\n",
        "    elif c != 3: \n",
        "        tensor = tensor[:,ch,:,:].unsqueeze(dim=1)\n",
        "\n",
        "    rows = np.min((tensor.shape[0] // nrow + 1, 64))    \n",
        "    grid = utils.make_grid(tensor, nrow=nrow, normalize=True, padding=padding)\n",
        "    plt.figure( figsize=(nrow,rows) )\n",
        "    plt.imshow(grid.numpy().transpose((1, 2, 0)))"
      ],
      "execution_count": null,
      "outputs": []
    },
    {
      "cell_type": "code",
      "metadata": {
        "id": "wQxzvGkUNM7I",
        "colab": {
          "base_uri": "https://localhost:8080/",
          "height": 539
        },
        "outputId": "03d1ab0a-8261-4067-fa51-4e0baf8a7e79"
      },
      "source": [
        "###############################\n",
        "# code by Tan Xi En  #\n",
        "###############################\n",
        "\n",
        "# Get all the convolution from CNN + BN + Skip Connection Model\n",
        "conv_layer = get_all_conv_layer_CNN(model3)\n",
        "\n",
        "for (ind, conv2d) in enumerate(conv_layer):\n",
        "    \n",
        "    # Get weight of Each Convolution Layer\n",
        "    wt = conv2d.state_dict()[\"weight\"]\n",
        "\n",
        "    # Plot Graph\n",
        "    visTensor(wt)"
      ],
      "execution_count": null,
      "outputs": [
        {
          "output_type": "display_data",
          "data": {
            "image/png": "[encoded data removed]",
            "text/plain": [
              "<Figure size 576x360 with 1 Axes>"
            ]
          },
          "metadata": {
            "needs_background": "light"
          }
        },
        {
          "output_type": "display_data",
          "data": {
            "image/png": "[encoded data removed]",
            "text/plain": [
              "<Figure size 576x360 with 1 Axes>"
            ]
          },
          "metadata": {
            "needs_background": "light"
          }
        }
      ]
    },
    {
      "cell_type": "markdown",
      "metadata": {
        "id": "ymIfM9knb8rF"
      },
      "source": [
        "### Visualize Feature Maps\n",
        "\n",
        "Source Link: https://machinelearningmastery.com/how-to-visualize-filters-and-feature-maps-in-convolutional-neural-networks/"
      ]
    },
    {
      "cell_type": "code",
      "metadata": {
        "id": "7fq6upPEgixn"
      },
      "source": [
        "###############################\n",
        "# code by Tan Xi En  #\n",
        "###############################\n",
        "\n",
        "# Convert Image to Tensor, then make it 4d array, similar to Batch Loader Shape [?, 1, 32, 32]\n",
        "tmp = fashion_MNIST_transform(img).unsqueeze(0)\n",
        "result = [tmp]\n",
        "\n",
        "# Get all the convolution from CNN + BN + Skip Connection Model\n",
        "conv_layer = get_all_conv_layer_CNN(model3)\n",
        "\n",
        "# Let the sample image pass throught the convolution layers extracted from Model 3\n",
        "for conv2d in conv_layer:\n",
        "    result.append(conv2d(result[-1]))"
      ],
      "execution_count": null,
      "outputs": []
    },
    {
      "cell_type": "code",
      "metadata": {
        "id": "xmFIF3ojQ0-7",
        "colab": {
          "base_uri": "https://localhost:8080/",
          "height": 633
        },
        "outputId": "ca4d959a-fe74-4c45-917e-27eb7428d732"
      },
      "source": [
        "###############################\n",
        "# code by Tan Xi En  #\n",
        "###############################\n",
        "ind = 0\n",
        "for feature_map in result:\n",
        "    plt.figure(figsize=(8, 8))\n",
        "    layer_viz = feature_map[0, :, :, :].data # Get the first batch of the feature map\n",
        "    print(layer_viz.size())\n",
        "    print(f\"Feature Map {ind}\")\n",
        "    for i, filter in enumerate(layer_viz):\n",
        "        if i == 64: # we will visualize only 8x8 blocks from each layer\n",
        "            break\n",
        "        plt.subplot(8, 8, i + 1)\n",
        "        plt.imshow(filter)\n",
        "        plt.axis(\"off\")\n",
        "    plt.show()\n",
        "    plt.close()\n",
        "    ind += 1"
      ],
      "execution_count": null,
      "outputs": [
        {
          "output_type": "stream",
          "text": [
            "torch.Size([1, 32, 32])\n",
            "Feature Map 0\n"
          ],
          "name": "stdout"
        },
        {
          "output_type": "display_data",
          "data": {
            "image/png": "[encoded data removed]",
            "text/plain": [
              "<Figure size 576x576 with 1 Axes>"
            ]
          },
          "metadata": {
            "needs_background": "light"
          }
        },
        {
          "output_type": "stream",
          "text": [
            "torch.Size([32, 32, 32])\n",
            "Feature Map 1\n"
          ],
          "name": "stdout"
        },
        {
          "output_type": "display_data",
          "data": {
            "image/png": "[encoded data removed]",
            "text/plain": [
              "<Figure size 576x576 with 32 Axes>"
            ]
          },
          "metadata": {
            "needs_background": "light"
          }
        },
        {
          "output_type": "stream",
          "text": [
            "torch.Size([32, 32, 32])\n",
            "Feature Map 2\n"
          ],
          "name": "stdout"
        },
        {
          "output_type": "display_data",
          "data": {
            "image/png": "[encoded data removed]",
            "text/plain": [
              "<Figure size 576x576 with 32 Axes>"
            ]
          },
          "metadata": {
            "needs_background": "light"
          }
        }
      ]
    },
    {
      "cell_type": "markdown",
      "metadata": {
        "id": "TDS3Hy6qR27R"
      },
      "source": [
        "### Visualize Grad-CAM Heatmap Activation\n",
        "\n",
        "Grad-Cam Heatmap are a great way to visualize the regions that are focused by the Neural Network Model. This is done by computing the gradients and converting it into a heatmap. We then plot the heatmap, and may begin superimposing the image. Unfortunately, Fashion MNIST and our CNN model are trained on grayscale images. Therefore, superimposing heatmap will only make researchers more confused.\n",
        "\n",
        "Source Link: https://medium.com/@stepanulyanin/implementing-grad-cam-in-pytorch-ea0937c31e82"
      ]
    },
    {
      "cell_type": "code",
      "metadata": {
        "id": "vNj-85J7mbDI"
      },
      "source": [
        "###############################\n",
        "# code by Tan Xi En  #\n",
        "###############################\n",
        "\n",
        "# Transform Image\n",
        "tmp = fashion_MNIST_transform(img).unsqueeze(0)\n",
        "result = [tmp]\n",
        "\n",
        "gradient_arr = {}"
      ],
      "execution_count": null,
      "outputs": []
    },
    {
      "cell_type": "code",
      "metadata": {
        "id": "pczQGnWGVkKt"
      },
      "source": [
        "###############################\n",
        "# code by Tan Xi En  #\n",
        "###############################\n",
        "\n",
        "tmp = fashion_MNIST_transform(img).unsqueeze(0)\n",
        "result = [tmp]\n",
        "\n",
        "def hook_fn(m, i, o):\n",
        "    gradient_arr[m] = o\n",
        "\n",
        "conv_layer = get_all_conv_layer_CNN(model3)\n",
        "\n",
        "for conv2d in conv_layer:\n",
        "    result.append(conv2d(result[-1]))\n",
        "    conv2d.register_forward_hook(hook_fn)"
      ],
      "execution_count": null,
      "outputs": []
    },
    {
      "cell_type": "code",
      "metadata": {
        "id": "VDRAetUsZ091"
      },
      "source": [
        "###############################\n",
        "# code by Tan Xi En  #\n",
        "###############################\n",
        "\n",
        "gradient = gradient_arr[list(gradient_arr.keys())[-1]]\n",
        "pooled_gradients = torch.mean(gradient, dim=[0, 2, 3])\n",
        "\n",
        "activation = result[-1]\n",
        "\n",
        "for i in range(32):\n",
        "    activation[:, i, :, :] *= pooled_gradients[i]"
      ],
      "execution_count": null,
      "outputs": []
    },
    {
      "cell_type": "code",
      "metadata": {
        "id": "xmML-e5WZm8o"
      },
      "source": [
        "###############################\n",
        "# code by Tan Xi En  #\n",
        "###############################\n",
        "\n",
        "heatmap = torch.mean(gradient, dim= 1).squeeze().detach().numpy()\n",
        "heatmap = np.maximum(heatmap, 0)\n",
        "heatmap /= heatmap.max()"
      ],
      "execution_count": null,
      "outputs": []
    },
    {
      "cell_type": "code",
      "metadata": {
        "id": "ivUBe-K7miRj",
        "colab": {
          "base_uri": "https://localhost:8080/",
          "height": 286
        },
        "outputId": "c20691f7-4b70-4177-e3d3-c90e7edf8896"
      },
      "source": [
        "###############################\n",
        "# code by Tan Xi En  #\n",
        "###############################\n",
        "\n",
        "fig = plt.figure()\n",
        "ax = fig.add_subplot(111)\n",
        "cax = ax.imshow(heatmap, cmap = \"jet\")\n",
        "fig.colorbar(cax)"
      ],
      "execution_count": null,
      "outputs": [
        {
          "output_type": "execute_result",
          "data": {
            "text/plain": [
              "<matplotlib.colorbar.Colorbar at 0x7f04d5ebfb50>"
            ]
          },
          "metadata": {},
          "execution_count": 96
        },
        {
          "output_type": "display_data",
          "data": {
            "image/png": "[encoded data removed]",
            "text/plain": [
              "<Figure size 432x288 with 2 Axes>"
            ]
          },
          "metadata": {
            "needs_background": "light"
          }
        }
      ]
    },
    {
      "cell_type": "code",
      "metadata": {
        "colab": {
          "base_uri": "https://localhost:8080/"
        },
        "id": "ZGKpKtUswVox",
        "outputId": "02345e8a-34bc-4315-8b1c-ae122b268dcc"
      },
      "source": [
        "tmp = fashion_MNIST_transform(img).unsqueeze(0)\n",
        "outputs = model3(tmp)\n",
        "_, predicted = torch.max(outputs, 1)\n",
        "print(dataset.classes[predicted])"
      ],
      "execution_count": null,
      "outputs": [
        {
          "output_type": "stream",
          "text": [
            "T-shirt/top\n"
          ],
          "name": "stdout"
        }
      ]
    }
  ]
}