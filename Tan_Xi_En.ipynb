{
  "nbformat": 4,
  "nbformat_minor": 0,
  "metadata": {
    "colab": {
      "name": "Tan Xi En",
      "provenance": [],
      "authorship_tag": "ABX9TyPlY0diGNl/QvJNSbpB6fXv",
      "include_colab_link": true
    },
    "kernelspec": {
      "name": "python3",
      "display_name": "Python 3"
    },
    "language_info": {
      "name": "python"
    },
    "accelerator": "GPU",
    "widgets": {
      "application/vnd.jupyter.widget-state+json": {
        "ea7984a47fde4c3381bd8cd9658a07fb": {
          "model_module": "@jupyter-widgets/controls",
          "model_name": "HBoxModel",
          "state": {
            "_view_name": "HBoxView",
            "_dom_classes": [],
            "_model_name": "HBoxModel",
            "_view_module": "@jupyter-widgets/controls",
            "_model_module_version": "1.5.0",
            "_view_count": null,
            "_view_module_version": "1.5.0",
            "box_style": "",
            "layout": "IPY_MODEL_4e698f18d8644580b58399cf6ca8b1fc",
            "_model_module": "@jupyter-widgets/controls",
            "children": [
              "IPY_MODEL_6b4d88c05993441ea6e678411580dfd3",
              "IPY_MODEL_d69d982ba365434b88bb77c5f153e1fd"
            ]
          }
        },
        "4e698f18d8644580b58399cf6ca8b1fc": {
          "model_module": "@jupyter-widgets/base",
          "model_name": "LayoutModel",
          "state": {
            "_view_name": "LayoutView",
            "grid_template_rows": null,
            "right": null,
            "justify_content": null,
            "_view_module": "@jupyter-widgets/base",
            "overflow": null,
            "_model_module_version": "1.2.0",
            "_view_count": null,
            "flex_flow": null,
            "width": null,
            "min_width": null,
            "border": null,
            "align_items": null,
            "bottom": null,
            "_model_module": "@jupyter-widgets/base",
            "top": null,
            "grid_column": null,
            "overflow_y": null,
            "overflow_x": null,
            "grid_auto_flow": null,
            "grid_area": null,
            "grid_template_columns": null,
            "flex": null,
            "_model_name": "LayoutModel",
            "justify_items": null,
            "grid_row": null,
            "max_height": null,
            "align_content": null,
            "visibility": null,
            "align_self": null,
            "height": null,
            "min_height": null,
            "padding": null,
            "grid_auto_rows": null,
            "grid_gap": null,
            "max_width": null,
            "order": null,
            "_view_module_version": "1.2.0",
            "grid_template_areas": null,
            "object_position": null,
            "object_fit": null,
            "grid_auto_columns": null,
            "margin": null,
            "display": null,
            "left": null
          }
        },
        "6b4d88c05993441ea6e678411580dfd3": {
          "model_module": "@jupyter-widgets/controls",
          "model_name": "FloatProgressModel",
          "state": {
            "_view_name": "ProgressView",
            "style": "IPY_MODEL_b4f5578675064fc1914e2ed7230f045d",
            "_dom_classes": [],
            "description": "",
            "_model_name": "FloatProgressModel",
            "bar_style": "success",
            "max": 26421880,
            "_view_module": "@jupyter-widgets/controls",
            "_model_module_version": "1.5.0",
            "value": 26421880,
            "_view_count": null,
            "_view_module_version": "1.5.0",
            "orientation": "horizontal",
            "min": 0,
            "description_tooltip": null,
            "_model_module": "@jupyter-widgets/controls",
            "layout": "IPY_MODEL_585924e3471d425c8b1f29dc2682e432"
          }
        },
        "d69d982ba365434b88bb77c5f153e1fd": {
          "model_module": "@jupyter-widgets/controls",
          "model_name": "HTMLModel",
          "state": {
            "_view_name": "HTMLView",
            "style": "IPY_MODEL_a4bd367a6799407cabcf705d6d9c7010",
            "_dom_classes": [],
            "description": "",
            "_model_name": "HTMLModel",
            "placeholder": "​",
            "_view_module": "@jupyter-widgets/controls",
            "_model_module_version": "1.5.0",
            "value": " 26422272/? [00:06&lt;00:00, 3956601.43it/s]",
            "_view_count": null,
            "_view_module_version": "1.5.0",
            "description_tooltip": null,
            "_model_module": "@jupyter-widgets/controls",
            "layout": "IPY_MODEL_cf89fa8d7bc5408487e45f2904027115"
          }
        },
        "b4f5578675064fc1914e2ed7230f045d": {
          "model_module": "@jupyter-widgets/controls",
          "model_name": "ProgressStyleModel",
          "state": {
            "_view_name": "StyleView",
            "_model_name": "ProgressStyleModel",
            "description_width": "initial",
            "_view_module": "@jupyter-widgets/base",
            "_model_module_version": "1.5.0",
            "_view_count": null,
            "_view_module_version": "1.2.0",
            "bar_color": null,
            "_model_module": "@jupyter-widgets/controls"
          }
        },
        "585924e3471d425c8b1f29dc2682e432": {
          "model_module": "@jupyter-widgets/base",
          "model_name": "LayoutModel",
          "state": {
            "_view_name": "LayoutView",
            "grid_template_rows": null,
            "right": null,
            "justify_content": null,
            "_view_module": "@jupyter-widgets/base",
            "overflow": null,
            "_model_module_version": "1.2.0",
            "_view_count": null,
            "flex_flow": null,
            "width": null,
            "min_width": null,
            "border": null,
            "align_items": null,
            "bottom": null,
            "_model_module": "@jupyter-widgets/base",
            "top": null,
            "grid_column": null,
            "overflow_y": null,
            "overflow_x": null,
            "grid_auto_flow": null,
            "grid_area": null,
            "grid_template_columns": null,
            "flex": null,
            "_model_name": "LayoutModel",
            "justify_items": null,
            "grid_row": null,
            "max_height": null,
            "align_content": null,
            "visibility": null,
            "align_self": null,
            "height": null,
            "min_height": null,
            "padding": null,
            "grid_auto_rows": null,
            "grid_gap": null,
            "max_width": null,
            "order": null,
            "_view_module_version": "1.2.0",
            "grid_template_areas": null,
            "object_position": null,
            "object_fit": null,
            "grid_auto_columns": null,
            "margin": null,
            "display": null,
            "left": null
          }
        },
        "a4bd367a6799407cabcf705d6d9c7010": {
          "model_module": "@jupyter-widgets/controls",
          "model_name": "DescriptionStyleModel",
          "state": {
            "_view_name": "StyleView",
            "_model_name": "DescriptionStyleModel",
            "description_width": "",
            "_view_module": "@jupyter-widgets/base",
            "_model_module_version": "1.5.0",
            "_view_count": null,
            "_view_module_version": "1.2.0",
            "_model_module": "@jupyter-widgets/controls"
          }
        },
        "cf89fa8d7bc5408487e45f2904027115": {
          "model_module": "@jupyter-widgets/base",
          "model_name": "LayoutModel",
          "state": {
            "_view_name": "LayoutView",
            "grid_template_rows": null,
            "right": null,
            "justify_content": null,
            "_view_module": "@jupyter-widgets/base",
            "overflow": null,
            "_model_module_version": "1.2.0",
            "_view_count": null,
            "flex_flow": null,
            "width": null,
            "min_width": null,
            "border": null,
            "align_items": null,
            "bottom": null,
            "_model_module": "@jupyter-widgets/base",
            "top": null,
            "grid_column": null,
            "overflow_y": null,
            "overflow_x": null,
            "grid_auto_flow": null,
            "grid_area": null,
            "grid_template_columns": null,
            "flex": null,
            "_model_name": "LayoutModel",
            "justify_items": null,
            "grid_row": null,
            "max_height": null,
            "align_content": null,
            "visibility": null,
            "align_self": null,
            "height": null,
            "min_height": null,
            "padding": null,
            "grid_auto_rows": null,
            "grid_gap": null,
            "max_width": null,
            "order": null,
            "_view_module_version": "1.2.0",
            "grid_template_areas": null,
            "object_position": null,
            "object_fit": null,
            "grid_auto_columns": null,
            "margin": null,
            "display": null,
            "left": null
          }
        },
        "37d3f301e88543b4803dcf0bad7b15c8": {
          "model_module": "@jupyter-widgets/controls",
          "model_name": "HBoxModel",
          "state": {
            "_view_name": "HBoxView",
            "_dom_classes": [],
            "_model_name": "HBoxModel",
            "_view_module": "@jupyter-widgets/controls",
            "_model_module_version": "1.5.0",
            "_view_count": null,
            "_view_module_version": "1.5.0",
            "box_style": "",
            "layout": "IPY_MODEL_61873e25bfa04823801f767fe6bae714",
            "_model_module": "@jupyter-widgets/controls",
            "children": [
              "IPY_MODEL_53c22dff12544e99bfb1855e82c6c02d",
              "IPY_MODEL_e503286f69fc48daa5f9ba6788ca585f"
            ]
          }
        },
        "61873e25bfa04823801f767fe6bae714": {
          "model_module": "@jupyter-widgets/base",
          "model_name": "LayoutModel",
          "state": {
            "_view_name": "LayoutView",
            "grid_template_rows": null,
            "right": null,
            "justify_content": null,
            "_view_module": "@jupyter-widgets/base",
            "overflow": null,
            "_model_module_version": "1.2.0",
            "_view_count": null,
            "flex_flow": null,
            "width": null,
            "min_width": null,
            "border": null,
            "align_items": null,
            "bottom": null,
            "_model_module": "@jupyter-widgets/base",
            "top": null,
            "grid_column": null,
            "overflow_y": null,
            "overflow_x": null,
            "grid_auto_flow": null,
            "grid_area": null,
            "grid_template_columns": null,
            "flex": null,
            "_model_name": "LayoutModel",
            "justify_items": null,
            "grid_row": null,
            "max_height": null,
            "align_content": null,
            "visibility": null,
            "align_self": null,
            "height": null,
            "min_height": null,
            "padding": null,
            "grid_auto_rows": null,
            "grid_gap": null,
            "max_width": null,
            "order": null,
            "_view_module_version": "1.2.0",
            "grid_template_areas": null,
            "object_position": null,
            "object_fit": null,
            "grid_auto_columns": null,
            "margin": null,
            "display": null,
            "left": null
          }
        },
        "53c22dff12544e99bfb1855e82c6c02d": {
          "model_module": "@jupyter-widgets/controls",
          "model_name": "FloatProgressModel",
          "state": {
            "_view_name": "ProgressView",
            "style": "IPY_MODEL_1d213c884a5749098b8ea0a4f6d226c4",
            "_dom_classes": [],
            "description": "",
            "_model_name": "FloatProgressModel",
            "bar_style": "success",
            "max": 29515,
            "_view_module": "@jupyter-widgets/controls",
            "_model_module_version": "1.5.0",
            "value": 29515,
            "_view_count": null,
            "_view_module_version": "1.5.0",
            "orientation": "horizontal",
            "min": 0,
            "description_tooltip": null,
            "_model_module": "@jupyter-widgets/controls",
            "layout": "IPY_MODEL_496c2e28d5574cafb4e461bc45d78c85"
          }
        },
        "e503286f69fc48daa5f9ba6788ca585f": {
          "model_module": "@jupyter-widgets/controls",
          "model_name": "HTMLModel",
          "state": {
            "_view_name": "HTMLView",
            "style": "IPY_MODEL_9c4f9a49c05845fda220e5d906df5e58",
            "_dom_classes": [],
            "description": "",
            "_model_name": "HTMLModel",
            "placeholder": "​",
            "_view_module": "@jupyter-widgets/controls",
            "_model_module_version": "1.5.0",
            "value": " 29696/? [00:03&lt;00:00, 9283.56it/s]",
            "_view_count": null,
            "_view_module_version": "1.5.0",
            "description_tooltip": null,
            "_model_module": "@jupyter-widgets/controls",
            "layout": "IPY_MODEL_7bc8fb6b8dad4826a58c5fde54428bcf"
          }
        },
        "1d213c884a5749098b8ea0a4f6d226c4": {
          "model_module": "@jupyter-widgets/controls",
          "model_name": "ProgressStyleModel",
          "state": {
            "_view_name": "StyleView",
            "_model_name": "ProgressStyleModel",
            "description_width": "initial",
            "_view_module": "@jupyter-widgets/base",
            "_model_module_version": "1.5.0",
            "_view_count": null,
            "_view_module_version": "1.2.0",
            "bar_color": null,
            "_model_module": "@jupyter-widgets/controls"
          }
        },
        "496c2e28d5574cafb4e461bc45d78c85": {
          "model_module": "@jupyter-widgets/base",
          "model_name": "LayoutModel",
          "state": {
            "_view_name": "LayoutView",
            "grid_template_rows": null,
            "right": null,
            "justify_content": null,
            "_view_module": "@jupyter-widgets/base",
            "overflow": null,
            "_model_module_version": "1.2.0",
            "_view_count": null,
            "flex_flow": null,
            "width": null,
            "min_width": null,
            "border": null,
            "align_items": null,
            "bottom": null,
            "_model_module": "@jupyter-widgets/base",
            "top": null,
            "grid_column": null,
            "overflow_y": null,
            "overflow_x": null,
            "grid_auto_flow": null,
            "grid_area": null,
            "grid_template_columns": null,
            "flex": null,
            "_model_name": "LayoutModel",
            "justify_items": null,
            "grid_row": null,
            "max_height": null,
            "align_content": null,
            "visibility": null,
            "align_self": null,
            "height": null,
            "min_height": null,
            "padding": null,
            "grid_auto_rows": null,
            "grid_gap": null,
            "max_width": null,
            "order": null,
            "_view_module_version": "1.2.0",
            "grid_template_areas": null,
            "object_position": null,
            "object_fit": null,
            "grid_auto_columns": null,
            "margin": null,
            "display": null,
            "left": null
          }
        },
        "9c4f9a49c05845fda220e5d906df5e58": {
          "model_module": "@jupyter-widgets/controls",
          "model_name": "DescriptionStyleModel",
          "state": {
            "_view_name": "StyleView",
            "_model_name": "DescriptionStyleModel",
            "description_width": "",
            "_view_module": "@jupyter-widgets/base",
            "_model_module_version": "1.5.0",
            "_view_count": null,
            "_view_module_version": "1.2.0",
            "_model_module": "@jupyter-widgets/controls"
          }
        },
        "7bc8fb6b8dad4826a58c5fde54428bcf": {
          "model_module": "@jupyter-widgets/base",
          "model_name": "LayoutModel",
          "state": {
            "_view_name": "LayoutView",
            "grid_template_rows": null,
            "right": null,
            "justify_content": null,
            "_view_module": "@jupyter-widgets/base",
            "overflow": null,
            "_model_module_version": "1.2.0",
            "_view_count": null,
            "flex_flow": null,
            "width": null,
            "min_width": null,
            "border": null,
            "align_items": null,
            "bottom": null,
            "_model_module": "@jupyter-widgets/base",
            "top": null,
            "grid_column": null,
            "overflow_y": null,
            "overflow_x": null,
            "grid_auto_flow": null,
            "grid_area": null,
            "grid_template_columns": null,
            "flex": null,
            "_model_name": "LayoutModel",
            "justify_items": null,
            "grid_row": null,
            "max_height": null,
            "align_content": null,
            "visibility": null,
            "align_self": null,
            "height": null,
            "min_height": null,
            "padding": null,
            "grid_auto_rows": null,
            "grid_gap": null,
            "max_width": null,
            "order": null,
            "_view_module_version": "1.2.0",
            "grid_template_areas": null,
            "object_position": null,
            "object_fit": null,
            "grid_auto_columns": null,
            "margin": null,
            "display": null,
            "left": null
          }
        },
        "b32704791d6d4e47803c8e47818bbb9d": {
          "model_module": "@jupyter-widgets/controls",
          "model_name": "HBoxModel",
          "state": {
            "_view_name": "HBoxView",
            "_dom_classes": [],
            "_model_name": "HBoxModel",
            "_view_module": "@jupyter-widgets/controls",
            "_model_module_version": "1.5.0",
            "_view_count": null,
            "_view_module_version": "1.5.0",
            "box_style": "",
            "layout": "IPY_MODEL_587f3a513ed84511a1e123c3e0c9751a",
            "_model_module": "@jupyter-widgets/controls",
            "children": [
              "IPY_MODEL_328a2d51792541b889831189648c8ece",
              "IPY_MODEL_b6541c0b9c564e879989f69c89411a13"
            ]
          }
        },
        "587f3a513ed84511a1e123c3e0c9751a": {
          "model_module": "@jupyter-widgets/base",
          "model_name": "LayoutModel",
          "state": {
            "_view_name": "LayoutView",
            "grid_template_rows": null,
            "right": null,
            "justify_content": null,
            "_view_module": "@jupyter-widgets/base",
            "overflow": null,
            "_model_module_version": "1.2.0",
            "_view_count": null,
            "flex_flow": null,
            "width": null,
            "min_width": null,
            "border": null,
            "align_items": null,
            "bottom": null,
            "_model_module": "@jupyter-widgets/base",
            "top": null,
            "grid_column": null,
            "overflow_y": null,
            "overflow_x": null,
            "grid_auto_flow": null,
            "grid_area": null,
            "grid_template_columns": null,
            "flex": null,
            "_model_name": "LayoutModel",
            "justify_items": null,
            "grid_row": null,
            "max_height": null,
            "align_content": null,
            "visibility": null,
            "align_self": null,
            "height": null,
            "min_height": null,
            "padding": null,
            "grid_auto_rows": null,
            "grid_gap": null,
            "max_width": null,
            "order": null,
            "_view_module_version": "1.2.0",
            "grid_template_areas": null,
            "object_position": null,
            "object_fit": null,
            "grid_auto_columns": null,
            "margin": null,
            "display": null,
            "left": null
          }
        },
        "328a2d51792541b889831189648c8ece": {
          "model_module": "@jupyter-widgets/controls",
          "model_name": "FloatProgressModel",
          "state": {
            "_view_name": "ProgressView",
            "style": "IPY_MODEL_1697fc56cac24f718b6b2e31882f5947",
            "_dom_classes": [],
            "description": "",
            "_model_name": "FloatProgressModel",
            "bar_style": "success",
            "max": 4422102,
            "_view_module": "@jupyter-widgets/controls",
            "_model_module_version": "1.5.0",
            "value": 4422102,
            "_view_count": null,
            "_view_module_version": "1.5.0",
            "orientation": "horizontal",
            "min": 0,
            "description_tooltip": null,
            "_model_module": "@jupyter-widgets/controls",
            "layout": "IPY_MODEL_241f3fd764cf4da0ba408760162da894"
          }
        },
        "b6541c0b9c564e879989f69c89411a13": {
          "model_module": "@jupyter-widgets/controls",
          "model_name": "HTMLModel",
          "state": {
            "_view_name": "HTMLView",
            "style": "IPY_MODEL_749f2cc7805349b496daec38e5d3e45d",
            "_dom_classes": [],
            "description": "",
            "_model_name": "HTMLModel",
            "placeholder": "​",
            "_view_module": "@jupyter-widgets/controls",
            "_model_module_version": "1.5.0",
            "value": " 4422656/? [00:01&lt;00:00, 2220836.82it/s]",
            "_view_count": null,
            "_view_module_version": "1.5.0",
            "description_tooltip": null,
            "_model_module": "@jupyter-widgets/controls",
            "layout": "IPY_MODEL_a7c55ea6f2ca4af48c40c0b12f1925de"
          }
        },
        "1697fc56cac24f718b6b2e31882f5947": {
          "model_module": "@jupyter-widgets/controls",
          "model_name": "ProgressStyleModel",
          "state": {
            "_view_name": "StyleView",
            "_model_name": "ProgressStyleModel",
            "description_width": "initial",
            "_view_module": "@jupyter-widgets/base",
            "_model_module_version": "1.5.0",
            "_view_count": null,
            "_view_module_version": "1.2.0",
            "bar_color": null,
            "_model_module": "@jupyter-widgets/controls"
          }
        },
        "241f3fd764cf4da0ba408760162da894": {
          "model_module": "@jupyter-widgets/base",
          "model_name": "LayoutModel",
          "state": {
            "_view_name": "LayoutView",
            "grid_template_rows": null,
            "right": null,
            "justify_content": null,
            "_view_module": "@jupyter-widgets/base",
            "overflow": null,
            "_model_module_version": "1.2.0",
            "_view_count": null,
            "flex_flow": null,
            "width": null,
            "min_width": null,
            "border": null,
            "align_items": null,
            "bottom": null,
            "_model_module": "@jupyter-widgets/base",
            "top": null,
            "grid_column": null,
            "overflow_y": null,
            "overflow_x": null,
            "grid_auto_flow": null,
            "grid_area": null,
            "grid_template_columns": null,
            "flex": null,
            "_model_name": "LayoutModel",
            "justify_items": null,
            "grid_row": null,
            "max_height": null,
            "align_content": null,
            "visibility": null,
            "align_self": null,
            "height": null,
            "min_height": null,
            "padding": null,
            "grid_auto_rows": null,
            "grid_gap": null,
            "max_width": null,
            "order": null,
            "_view_module_version": "1.2.0",
            "grid_template_areas": null,
            "object_position": null,
            "object_fit": null,
            "grid_auto_columns": null,
            "margin": null,
            "display": null,
            "left": null
          }
        },
        "749f2cc7805349b496daec38e5d3e45d": {
          "model_module": "@jupyter-widgets/controls",
          "model_name": "DescriptionStyleModel",
          "state": {
            "_view_name": "StyleView",
            "_model_name": "DescriptionStyleModel",
            "description_width": "",
            "_view_module": "@jupyter-widgets/base",
            "_model_module_version": "1.5.0",
            "_view_count": null,
            "_view_module_version": "1.2.0",
            "_model_module": "@jupyter-widgets/controls"
          }
        },
        "a7c55ea6f2ca4af48c40c0b12f1925de": {
          "model_module": "@jupyter-widgets/base",
          "model_name": "LayoutModel",
          "state": {
            "_view_name": "LayoutView",
            "grid_template_rows": null,
            "right": null,
            "justify_content": null,
            "_view_module": "@jupyter-widgets/base",
            "overflow": null,
            "_model_module_version": "1.2.0",
            "_view_count": null,
            "flex_flow": null,
            "width": null,
            "min_width": null,
            "border": null,
            "align_items": null,
            "bottom": null,
            "_model_module": "@jupyter-widgets/base",
            "top": null,
            "grid_column": null,
            "overflow_y": null,
            "overflow_x": null,
            "grid_auto_flow": null,
            "grid_area": null,
            "grid_template_columns": null,
            "flex": null,
            "_model_name": "LayoutModel",
            "justify_items": null,
            "grid_row": null,
            "max_height": null,
            "align_content": null,
            "visibility": null,
            "align_self": null,
            "height": null,
            "min_height": null,
            "padding": null,
            "grid_auto_rows": null,
            "grid_gap": null,
            "max_width": null,
            "order": null,
            "_view_module_version": "1.2.0",
            "grid_template_areas": null,
            "object_position": null,
            "object_fit": null,
            "grid_auto_columns": null,
            "margin": null,
            "display": null,
            "left": null
          }
        },
        "be8accb7f830473cb9830694e4273534": {
          "model_module": "@jupyter-widgets/controls",
          "model_name": "HBoxModel",
          "state": {
            "_view_name": "HBoxView",
            "_dom_classes": [],
            "_model_name": "HBoxModel",
            "_view_module": "@jupyter-widgets/controls",
            "_model_module_version": "1.5.0",
            "_view_count": null,
            "_view_module_version": "1.5.0",
            "box_style": "",
            "layout": "IPY_MODEL_f8ff3d9d9566497ca31c6e707de36f84",
            "_model_module": "@jupyter-widgets/controls",
            "children": [
              "IPY_MODEL_02842b9d364f44e99d87206389aa0dc9",
              "IPY_MODEL_eb1ec3e57f1e4dbab5fc373915425041"
            ]
          }
        },
        "f8ff3d9d9566497ca31c6e707de36f84": {
          "model_module": "@jupyter-widgets/base",
          "model_name": "LayoutModel",
          "state": {
            "_view_name": "LayoutView",
            "grid_template_rows": null,
            "right": null,
            "justify_content": null,
            "_view_module": "@jupyter-widgets/base",
            "overflow": null,
            "_model_module_version": "1.2.0",
            "_view_count": null,
            "flex_flow": null,
            "width": null,
            "min_width": null,
            "border": null,
            "align_items": null,
            "bottom": null,
            "_model_module": "@jupyter-widgets/base",
            "top": null,
            "grid_column": null,
            "overflow_y": null,
            "overflow_x": null,
            "grid_auto_flow": null,
            "grid_area": null,
            "grid_template_columns": null,
            "flex": null,
            "_model_name": "LayoutModel",
            "justify_items": null,
            "grid_row": null,
            "max_height": null,
            "align_content": null,
            "visibility": null,
            "align_self": null,
            "height": null,
            "min_height": null,
            "padding": null,
            "grid_auto_rows": null,
            "grid_gap": null,
            "max_width": null,
            "order": null,
            "_view_module_version": "1.2.0",
            "grid_template_areas": null,
            "object_position": null,
            "object_fit": null,
            "grid_auto_columns": null,
            "margin": null,
            "display": null,
            "left": null
          }
        },
        "02842b9d364f44e99d87206389aa0dc9": {
          "model_module": "@jupyter-widgets/controls",
          "model_name": "FloatProgressModel",
          "state": {
            "_view_name": "ProgressView",
            "style": "IPY_MODEL_e37e4799ddb64350a9eb3bfe7b12eac9",
            "_dom_classes": [],
            "description": "",
            "_model_name": "FloatProgressModel",
            "bar_style": "success",
            "max": 5148,
            "_view_module": "@jupyter-widgets/controls",
            "_model_module_version": "1.5.0",
            "value": 5148,
            "_view_count": null,
            "_view_module_version": "1.5.0",
            "orientation": "horizontal",
            "min": 0,
            "description_tooltip": null,
            "_model_module": "@jupyter-widgets/controls",
            "layout": "IPY_MODEL_2651c7ff7ad64c51bfd81791dbe9c898"
          }
        },
        "eb1ec3e57f1e4dbab5fc373915425041": {
          "model_module": "@jupyter-widgets/controls",
          "model_name": "HTMLModel",
          "state": {
            "_view_name": "HTMLView",
            "style": "IPY_MODEL_90cbe49cd1e94cd0830f3ef69d9c4281",
            "_dom_classes": [],
            "description": "",
            "_model_name": "HTMLModel",
            "placeholder": "​",
            "_view_module": "@jupyter-widgets/controls",
            "_model_module_version": "1.5.0",
            "value": " 6144/? [00:00&lt;00:00, 54784.03it/s]",
            "_view_count": null,
            "_view_module_version": "1.5.0",
            "description_tooltip": null,
            "_model_module": "@jupyter-widgets/controls",
            "layout": "IPY_MODEL_52b6c15c2a184aecb9f3d030df69495c"
          }
        },
        "e37e4799ddb64350a9eb3bfe7b12eac9": {
          "model_module": "@jupyter-widgets/controls",
          "model_name": "ProgressStyleModel",
          "state": {
            "_view_name": "StyleView",
            "_model_name": "ProgressStyleModel",
            "description_width": "initial",
            "_view_module": "@jupyter-widgets/base",
            "_model_module_version": "1.5.0",
            "_view_count": null,
            "_view_module_version": "1.2.0",
            "bar_color": null,
            "_model_module": "@jupyter-widgets/controls"
          }
        },
        "2651c7ff7ad64c51bfd81791dbe9c898": {
          "model_module": "@jupyter-widgets/base",
          "model_name": "LayoutModel",
          "state": {
            "_view_name": "LayoutView",
            "grid_template_rows": null,
            "right": null,
            "justify_content": null,
            "_view_module": "@jupyter-widgets/base",
            "overflow": null,
            "_model_module_version": "1.2.0",
            "_view_count": null,
            "flex_flow": null,
            "width": null,
            "min_width": null,
            "border": null,
            "align_items": null,
            "bottom": null,
            "_model_module": "@jupyter-widgets/base",
            "top": null,
            "grid_column": null,
            "overflow_y": null,
            "overflow_x": null,
            "grid_auto_flow": null,
            "grid_area": null,
            "grid_template_columns": null,
            "flex": null,
            "_model_name": "LayoutModel",
            "justify_items": null,
            "grid_row": null,
            "max_height": null,
            "align_content": null,
            "visibility": null,
            "align_self": null,
            "height": null,
            "min_height": null,
            "padding": null,
            "grid_auto_rows": null,
            "grid_gap": null,
            "max_width": null,
            "order": null,
            "_view_module_version": "1.2.0",
            "grid_template_areas": null,
            "object_position": null,
            "object_fit": null,
            "grid_auto_columns": null,
            "margin": null,
            "display": null,
            "left": null
          }
        },
        "90cbe49cd1e94cd0830f3ef69d9c4281": {
          "model_module": "@jupyter-widgets/controls",
          "model_name": "DescriptionStyleModel",
          "state": {
            "_view_name": "StyleView",
            "_model_name": "DescriptionStyleModel",
            "description_width": "",
            "_view_module": "@jupyter-widgets/base",
            "_model_module_version": "1.5.0",
            "_view_count": null,
            "_view_module_version": "1.2.0",
            "_model_module": "@jupyter-widgets/controls"
          }
        },
        "52b6c15c2a184aecb9f3d030df69495c": {
          "model_module": "@jupyter-widgets/base",
          "model_name": "LayoutModel",
          "state": {
            "_view_name": "LayoutView",
            "grid_template_rows": null,
            "right": null,
            "justify_content": null,
            "_view_module": "@jupyter-widgets/base",
            "overflow": null,
            "_model_module_version": "1.2.0",
            "_view_count": null,
            "flex_flow": null,
            "width": null,
            "min_width": null,
            "border": null,
            "align_items": null,
            "bottom": null,
            "_model_module": "@jupyter-widgets/base",
            "top": null,
            "grid_column": null,
            "overflow_y": null,
            "overflow_x": null,
            "grid_auto_flow": null,
            "grid_area": null,
            "grid_template_columns": null,
            "flex": null,
            "_model_name": "LayoutModel",
            "justify_items": null,
            "grid_row": null,
            "max_height": null,
            "align_content": null,
            "visibility": null,
            "align_self": null,
            "height": null,
            "min_height": null,
            "padding": null,
            "grid_auto_rows": null,
            "grid_gap": null,
            "max_width": null,
            "order": null,
            "_view_module_version": "1.2.0",
            "grid_template_areas": null,
            "object_position": null,
            "object_fit": null,
            "grid_auto_columns": null,
            "margin": null,
            "display": null,
            "left": null
          }
        }
      }
    }
  },
  "cells": [
    {
      "cell_type": "markdown",
      "metadata": {
        "id": "view-in-github",
        "colab_type": "text"
      },
      "source": [
        "<a href=\"https://colab.research.google.com/github/Neix20/Deep_Learning_May_2021/blob/main/Tan_Xi_En.ipynb\" target=\"_parent\"><img src=\"https://colab.research.google.com/assets/colab-badge.svg\" alt=\"Open In Colab\"/></a>"
      ]
    },
    {
      "cell_type": "code",
      "metadata": {
        "colab": {
          "base_uri": "https://localhost:8080/"
        },
        "id": "K1V0afoiF7XL",
        "outputId": "bd1a7b7c-2436-4910-d172-0964c23535ff"
      },
      "source": [
        "# from google.colab import drive\n",
        "# drive.mount('/content/drive')"
      ],
      "execution_count": null,
      "outputs": [
        {
          "output_type": "stream",
          "text": [
            "Mounted at /content/drive\n"
          ],
          "name": "stdout"
        }
      ]
    },
    {
      "cell_type": "code",
      "metadata": {
        "colab": {
          "base_uri": "https://localhost:8080/"
        },
        "id": "F0D5L3RjF88z",
        "outputId": "7deafb25-dfc7-4fd1-c7e6-a15fb6432fad"
      },
      "source": [
        "# cd /content/drive/MyDrive/Deep_Learning_Assignment_May_2021/Deep_Learning_May_2021"
      ],
      "execution_count": null,
      "outputs": [
        {
          "output_type": "stream",
          "text": [
            "/content/drive/MyDrive/Deep_Learning_Assignment_May_2021/Deep_Learning_May_2021\n"
          ],
          "name": "stdout"
        }
      ]
    },
    {
      "cell_type": "code",
      "metadata": {
        "id": "Y6XSslOqokMC"
      },
      "source": [
        "import numpy as np\n",
        "import matplotlib\n",
        "import matplotlib.pyplot as plt\n",
        "import torchvision\n",
        "from torch.utils.data import Dataset"
      ],
      "execution_count": null,
      "outputs": []
    },
    {
      "cell_type": "markdown",
      "metadata": {
        "id": "t_MvJoOusWNA"
      },
      "source": [
        "# Fashion Dataset"
      ]
    },
    {
      "cell_type": "code",
      "metadata": {
        "id": "iLOB43GZ3n9i"
      },
      "source": [
        "class FashionMNIST(Dataset):\n",
        "    \n",
        "    def __init__(self, root = \".\", train = True, download=False, transform=None):\n",
        "        self.classes = ['T-shirt/top', 'Trouser', 'Pullover', 'Dress', 'Coat', 'Sandal', 'Shirt', 'Sneaker', 'Bag', 'Ankle boot']\n",
        "        self.num_classes = len(self.classes)          \n",
        "        self.__transform = transform        \n",
        "        self.__images  = []\n",
        "        self.__targets = []\n",
        "\n",
        "        dataset = torchvision.datasets.FashionMNIST(root=root, train=train, download=download)\n",
        "\n",
        "        self.__images = dataset.data\n",
        "        self.__targets = dataset.targets\n",
        "\t\t\t\n",
        "        self.__targets  = np.array(self.__targets, dtype=np.int64)     \n",
        "                       \n",
        "    def __len__(self):\n",
        "        return len(self.__images)\n",
        "    \n",
        "    def __getitem__(self, idx):\n",
        "        \n",
        "        img   = self.__images[idx]\n",
        "        label = self.__targets[idx]\n",
        "\n",
        "        if self.__transform:\n",
        "            img = self.__transform(img)\n",
        "            \n",
        "        return img, label"
      ],
      "execution_count": null,
      "outputs": []
    },
    {
      "cell_type": "markdown",
      "metadata": {
        "id": "dpaLMlYW3fxT"
      },
      "source": [
        "## Fetch Dataset"
      ]
    },
    {
      "cell_type": "code",
      "metadata": {
        "id": "SoXaQZ4Dtk6p",
        "colab": {
          "base_uri": "https://localhost:8080/",
          "height": 558,
          "referenced_widgets": [
            "ea7984a47fde4c3381bd8cd9658a07fb",
            "4e698f18d8644580b58399cf6ca8b1fc",
            "6b4d88c05993441ea6e678411580dfd3",
            "d69d982ba365434b88bb77c5f153e1fd",
            "b4f5578675064fc1914e2ed7230f045d",
            "585924e3471d425c8b1f29dc2682e432",
            "a4bd367a6799407cabcf705d6d9c7010",
            "cf89fa8d7bc5408487e45f2904027115",
            "37d3f301e88543b4803dcf0bad7b15c8",
            "61873e25bfa04823801f767fe6bae714",
            "53c22dff12544e99bfb1855e82c6c02d",
            "e503286f69fc48daa5f9ba6788ca585f",
            "1d213c884a5749098b8ea0a4f6d226c4",
            "496c2e28d5574cafb4e461bc45d78c85",
            "9c4f9a49c05845fda220e5d906df5e58",
            "7bc8fb6b8dad4826a58c5fde54428bcf",
            "b32704791d6d4e47803c8e47818bbb9d",
            "587f3a513ed84511a1e123c3e0c9751a",
            "328a2d51792541b889831189648c8ece",
            "b6541c0b9c564e879989f69c89411a13",
            "1697fc56cac24f718b6b2e31882f5947",
            "241f3fd764cf4da0ba408760162da894",
            "749f2cc7805349b496daec38e5d3e45d",
            "a7c55ea6f2ca4af48c40c0b12f1925de",
            "be8accb7f830473cb9830694e4273534",
            "f8ff3d9d9566497ca31c6e707de36f84",
            "02842b9d364f44e99d87206389aa0dc9",
            "eb1ec3e57f1e4dbab5fc373915425041",
            "e37e4799ddb64350a9eb3bfe7b12eac9",
            "2651c7ff7ad64c51bfd81791dbe9c898",
            "90cbe49cd1e94cd0830f3ef69d9c4281",
            "52b6c15c2a184aecb9f3d030df69495c"
          ]
        },
        "outputId": "886733c1-ac8e-4036-e8e6-6a29b6b21b39"
      },
      "source": [
        "dataset = FashionMNIST(root=\".\", download= True)"
      ],
      "execution_count": null,
      "outputs": [
        {
          "output_type": "stream",
          "text": [
            "Downloading http://fashion-mnist.s3-website.eu-central-1.amazonaws.com/train-images-idx3-ubyte.gz\n",
            "Downloading http://fashion-mnist.s3-website.eu-central-1.amazonaws.com/train-images-idx3-ubyte.gz to ./FashionMNIST/raw/train-images-idx3-ubyte.gz\n"
          ],
          "name": "stdout"
        },
        {
          "output_type": "display_data",
          "data": {
            "application/vnd.jupyter.widget-view+json": {
              "model_id": "ea7984a47fde4c3381bd8cd9658a07fb",
              "version_minor": 0,
              "version_major": 2
            },
            "text/plain": [
              "HBox(children=(FloatProgress(value=0.0, max=26421880.0), HTML(value='')))"
            ]
          },
          "metadata": {
            "tags": []
          }
        },
        {
          "output_type": "stream",
          "text": [
            "\n",
            "Extracting ./FashionMNIST/raw/train-images-idx3-ubyte.gz to ./FashionMNIST/raw\n",
            "\n",
            "Downloading http://fashion-mnist.s3-website.eu-central-1.amazonaws.com/train-labels-idx1-ubyte.gz\n",
            "Downloading http://fashion-mnist.s3-website.eu-central-1.amazonaws.com/train-labels-idx1-ubyte.gz to ./FashionMNIST/raw/train-labels-idx1-ubyte.gz\n"
          ],
          "name": "stdout"
        },
        {
          "output_type": "display_data",
          "data": {
            "application/vnd.jupyter.widget-view+json": {
              "model_id": "37d3f301e88543b4803dcf0bad7b15c8",
              "version_minor": 0,
              "version_major": 2
            },
            "text/plain": [
              "HBox(children=(FloatProgress(value=0.0, max=29515.0), HTML(value='')))"
            ]
          },
          "metadata": {
            "tags": []
          }
        },
        {
          "output_type": "stream",
          "text": [
            "\n",
            "Extracting ./FashionMNIST/raw/train-labels-idx1-ubyte.gz to ./FashionMNIST/raw\n",
            "\n",
            "Downloading http://fashion-mnist.s3-website.eu-central-1.amazonaws.com/t10k-images-idx3-ubyte.gz\n",
            "Downloading http://fashion-mnist.s3-website.eu-central-1.amazonaws.com/t10k-images-idx3-ubyte.gz to ./FashionMNIST/raw/t10k-images-idx3-ubyte.gz\n"
          ],
          "name": "stdout"
        },
        {
          "output_type": "display_data",
          "data": {
            "application/vnd.jupyter.widget-view+json": {
              "model_id": "b32704791d6d4e47803c8e47818bbb9d",
              "version_minor": 0,
              "version_major": 2
            },
            "text/plain": [
              "HBox(children=(FloatProgress(value=0.0, max=4422102.0), HTML(value='')))"
            ]
          },
          "metadata": {
            "tags": []
          }
        },
        {
          "output_type": "stream",
          "text": [
            "\n",
            "Extracting ./FashionMNIST/raw/t10k-images-idx3-ubyte.gz to ./FashionMNIST/raw\n",
            "\n",
            "Downloading http://fashion-mnist.s3-website.eu-central-1.amazonaws.com/t10k-labels-idx1-ubyte.gz\n",
            "Downloading http://fashion-mnist.s3-website.eu-central-1.amazonaws.com/t10k-labels-idx1-ubyte.gz to ./FashionMNIST/raw/t10k-labels-idx1-ubyte.gz\n"
          ],
          "name": "stdout"
        },
        {
          "output_type": "display_data",
          "data": {
            "application/vnd.jupyter.widget-view+json": {
              "model_id": "be8accb7f830473cb9830694e4273534",
              "version_minor": 0,
              "version_major": 2
            },
            "text/plain": [
              "HBox(children=(FloatProgress(value=0.0, max=5148.0), HTML(value='')))"
            ]
          },
          "metadata": {
            "tags": []
          }
        },
        {
          "output_type": "stream",
          "text": [
            "\n",
            "Extracting ./FashionMNIST/raw/t10k-labels-idx1-ubyte.gz to ./FashionMNIST/raw\n",
            "\n"
          ],
          "name": "stdout"
        },
        {
          "output_type": "stream",
          "text": [
            "/usr/local/lib/python3.7/dist-packages/torchvision/datasets/mnist.py:498: UserWarning: The given NumPy array is not writeable, and PyTorch does not support non-writeable tensors. This means you can write to the underlying (supposedly non-writeable) NumPy array using the tensor. You may want to copy the array to protect its data or make it writeable before converting it to a tensor. This type of warning will be suppressed for the rest of this program. (Triggered internally at  /pytorch/torch/csrc/utils/tensor_numpy.cpp:180.)\n",
            "  return torch.from_numpy(parsed.astype(m[2], copy=False)).view(*s)\n"
          ],
          "name": "stderr"
        }
      ]
    },
    {
      "cell_type": "markdown",
      "metadata": {
        "id": "b11iLJXnwQAI"
      },
      "source": [
        "## Understand Dataset"
      ]
    },
    {
      "cell_type": "code",
      "metadata": {
        "colab": {
          "base_uri": "https://localhost:8080/"
        },
        "id": "obQMB8tiwTMF",
        "outputId": "1caddce5-779f-4606-a571-6fd5aef1607b"
      },
      "source": [
        "print(\"Number of records: \", len(dataset))\n",
        "print(\"Dataset Type: \", type(dataset))\n",
        "print(\"Classes: \", dataset.classes)\n",
        "print(\"Number of Classes: \", len(dataset.classes))"
      ],
      "execution_count": null,
      "outputs": [
        {
          "output_type": "stream",
          "text": [
            "Number of records:  60000\n",
            "Dataset Type:  <class '__main__.FashionMNIST'>\n",
            "Classes:  ['T-shirt/top', 'Trouser', 'Pullover', 'Dress', 'Coat', 'Sandal', 'Shirt', 'Sneaker', 'Bag', 'Ankle boot']\n",
            "Number of Classes:  10\n"
          ],
          "name": "stdout"
        }
      ]
    },
    {
      "cell_type": "markdown",
      "metadata": {
        "id": "LYJ10oubtu2w"
      },
      "source": [
        "## Show Image"
      ]
    },
    {
      "cell_type": "code",
      "metadata": {
        "id": "xcLd2y3Fxq2M"
      },
      "source": [
        "def show_image(img):\n",
        "    plt.imshow (img, cmap = matplotlib.cm.gray, interpolation = 'nearest')"
      ],
      "execution_count": null,
      "outputs": []
    },
    {
      "cell_type": "code",
      "metadata": {
        "colab": {
          "base_uri": "https://localhost:8080/"
        },
        "id": "7ReW-uF4wtuD",
        "outputId": "eaff4c2c-9995-4c09-bb94-2217c00ace69"
      },
      "source": [
        "idx = 10\n",
        "img, label = dataset[idx]\n",
        "\n",
        "print('\\nType of img:', type(img))\n",
        "print('Type of items in img:', img.dtype)\n",
        "\n",
        "print('Shape of img:', img.shape)\n",
        "print('Range of img:', img.min(), 'to', img.max())\n",
        "\n",
        "print(\"Labels: \", label)"
      ],
      "execution_count": 39,
      "outputs": [
        {
          "output_type": "stream",
          "text": [
            "\n",
            "Type of img: <class 'torch.Tensor'>\n",
            "Type of items in img: torch.float32\n",
            "Shape of img: torch.Size([1, 28, 28])\n",
            "Range of img: tensor(-0.5000) to tensor(0.5000)\n",
            "Labels:  0\n"
          ],
          "name": "stdout"
        }
      ]
    },
    {
      "cell_type": "code",
      "metadata": {
        "colab": {
          "base_uri": "https://localhost:8080/",
          "height": 265
        },
        "id": "GYBp--zzyATX",
        "outputId": "d3789506-de91-467e-dd37-e0984f560deb"
      },
      "source": [
        "show_image(img)"
      ],
      "execution_count": null,
      "outputs": [
        {
          "output_type": "display_data",
          "data": {
            "image/png": "[encoded data removed]",
            "text/plain": [
              "<Figure size 432x288 with 1 Axes>"
            ]
          },
          "metadata": {
            "tags": [],
            "needs_background": "light"
          }
        }
      ]
    },
    {
      "cell_type": "markdown",
      "metadata": {
        "id": "hNyA9UpJsfMR"
      },
      "source": [
        "# TorchVision Transformations"
      ]
    },
    {
      "cell_type": "code",
      "metadata": {
        "id": "7J4IDGrkyJ7K"
      },
      "source": [
        "from torchvision import transforms"
      ],
      "execution_count": null,
      "outputs": []
    },
    {
      "cell_type": "markdown",
      "metadata": {
        "id": "x9zn0QaVyM9B"
      },
      "source": [
        "## Transformation Pipeline"
      ]
    },
    {
      "cell_type": "code",
      "metadata": {
        "id": "OP2_PZ8WyQWP"
      },
      "source": [
        "transform = transforms.Compose([\n",
        "    transforms.ToPILImage(),\n",
        "    transforms.ToTensor(),\n",
        "    transforms.Normalize((0.5,), (1.0,))\n",
        "])"
      ],
      "execution_count": null,
      "outputs": []
    },
    {
      "cell_type": "code",
      "metadata": {
        "colab": {
          "base_uri": "https://localhost:8080/"
        },
        "id": "JAAt5Ju-ynwp",
        "outputId": "35948a77-28fb-4422-d5cf-19505c76d93f"
      },
      "source": [
        "idx = 10\n",
        "img, label = dataset[idx]\n",
        "\n",
        "print('Original image shape:', img.shape)\n",
        "print(f'Range of pixel values: {img.min():d}-{img.max():d}')"
      ],
      "execution_count": null,
      "outputs": [
        {
          "output_type": "stream",
          "text": [
            "Original image shape: torch.Size([28, 28])\n",
            "Range of pixel values: 0-255\n"
          ],
          "name": "stdout"
        }
      ]
    },
    {
      "cell_type": "code",
      "metadata": {
        "colab": {
          "base_uri": "https://localhost:8080/"
        },
        "id": "HbLAU2Q-yznz",
        "outputId": "4d07f5c8-c51a-490d-ead5-2b890e6ef8ae"
      },
      "source": [
        "img = transform(img)\n",
        "\n",
        "print('Shape of img:', img.shape)\n",
        "print(f'Range of img: {img.min().item():.2f} to {img.max().item():.2f}')\n",
        "print('Type of img:', type(img))\n",
        "print('Type of items in img:', img.dtype)"
      ],
      "execution_count": null,
      "outputs": [
        {
          "output_type": "stream",
          "text": [
            "Shape of img: torch.Size([1, 28, 28])\n",
            "Range of img: -0.50 to 0.50\n",
            "Type of img: <class 'torch.Tensor'>\n",
            "Type of items in img: torch.float32\n"
          ],
          "name": "stdout"
        }
      ]
    },
    {
      "cell_type": "markdown",
      "metadata": {
        "id": "cCIcpeAXzpOR"
      },
      "source": [
        "## Transform Dataset using pipeline"
      ]
    },
    {
      "cell_type": "code",
      "metadata": {
        "id": "s5XAe1D2zxsa"
      },
      "source": [
        "dataset = FashionMNIST(root=\".\", transform = transform,  download= True)"
      ],
      "execution_count": 40,
      "outputs": []
    },
    {
      "cell_type": "code",
      "metadata": {
        "colab": {
          "base_uri": "https://localhost:8080/"
        },
        "id": "8q9FLwjR2NJI",
        "outputId": "b4501977-74c1-4a8d-f773-485d74aed69f"
      },
      "source": [
        "idx = 10\n",
        "img, label = dataset[idx]\n",
        "\n",
        "print('Original image shape:', img.shape)\n",
        "print(f'Range of pixel values: {img.min():.2f}-{img.max():.2f}')\n",
        "print('Type of img:', type(img))\n",
        "print('Type of items in img:', img.dtype)\n",
        "print(\"Labels: \", label)"
      ],
      "execution_count": 42,
      "outputs": [
        {
          "output_type": "stream",
          "text": [
            "Original image shape: torch.Size([1, 28, 28])\n",
            "Range of pixel values: -0.50-0.50\n",
            "Type of img: <class 'torch.Tensor'>\n",
            "Type of items in img: torch.float32\n",
            "Labels:  0\n"
          ],
          "name": "stdout"
        }
      ]
    },
    {
      "cell_type": "markdown",
      "metadata": {
        "id": "OcYqdosc0lqx"
      },
      "source": [
        "## Train Test Split"
      ]
    },
    {
      "cell_type": "code",
      "metadata": {
        "id": "5bSwtnAR1X3J"
      },
      "source": [
        "import torch\n",
        "from torch.utils.data import DataLoader"
      ],
      "execution_count": null,
      "outputs": []
    },
    {
      "cell_type": "code",
      "metadata": {
        "id": "o8Jg_cx00oNS"
      },
      "source": [
        "trainset, testset = torch.utils.data.random_split(dataset, [50000, 10000])"
      ],
      "execution_count": null,
      "outputs": []
    },
    {
      "cell_type": "markdown",
      "metadata": {
        "id": "iyRSaPxxstmP"
      },
      "source": [
        "# Batch Loader"
      ]
    },
    {
      "cell_type": "code",
      "metadata": {
        "id": "NYrSludW04Nv"
      },
      "source": [
        "trainloader = DataLoader(trainset, batch_size = 4, shuffle = True, num_workers = 2)\n",
        "testloader = DataLoader(testset, batch_size = 4, shuffle = True, num_workers = 2)"
      ],
      "execution_count": null,
      "outputs": []
    },
    {
      "cell_type": "code",
      "metadata": {
        "colab": {
          "base_uri": "https://localhost:8080/"
        },
        "id": "JI22JzZ11Cvc",
        "outputId": "2d80d12d-1246-493f-fad5-0d804c2f5953"
      },
      "source": [
        "dataiter = iter(trainloader)\n",
        "imgs, labels = dataiter.next()\n",
        "\n",
        "print('Shape of imgs:', imgs.shape)\n",
        "print('Shape of labels:', labels.shape)"
      ],
      "execution_count": 44,
      "outputs": [
        {
          "output_type": "stream",
          "text": [
            "Shape of imgs: torch.Size([4, 1, 28, 28])\n",
            "Shape of labels: torch.Size([4])\n"
          ],
          "name": "stdout"
        }
      ]
    },
    {
      "cell_type": "markdown",
      "metadata": {
        "id": "e5y27E-GszU4"
      },
      "source": [
        "# Building Regular Neural Network"
      ]
    },
    {
      "cell_type": "code",
      "metadata": {
        "id": "_WWl4gzh76Fy"
      },
      "source": [
        "import torch.nn as nn\n",
        "from torchsummary import summary\n",
        "import torch.nn.functional as F"
      ],
      "execution_count": null,
      "outputs": []
    },
    {
      "cell_type": "code",
      "metadata": {
        "id": "ozyBoZW47q_f"
      },
      "source": [
        "class Net(nn.Module):\n",
        "  def __init__(self):\n",
        "      super().__init__()\n",
        "      self.fc1 = nn.Linear(1 * 28 * 28, 50)\n",
        "      self.relu1 = nn.ReLU()\n",
        "      self.fc2 = nn.Linear(50, 10)\n",
        "  \n",
        "  def forward(self, x):\n",
        "    # flatten each image\n",
        "    x = x.view(x.size(0), -1)\n",
        "\n",
        "    # forward propagation for layer 1\n",
        "    x = self.fc1(x)\n",
        "    x = self.relu1(x)\n",
        "\n",
        "    # forward propagation for layer 2\n",
        "    x = self.fc2(x)\n",
        "\n",
        "    return x"
      ],
      "execution_count": null,
      "outputs": []
    },
    {
      "cell_type": "code",
      "metadata": {
        "colab": {
          "base_uri": "https://localhost:8080/"
        },
        "id": "IjhoecC58Ors",
        "outputId": "2a944f03-ac6b-49c9-8b51-e2ca53caf273"
      },
      "source": [
        "net = Net()\n",
        "print(net)"
      ],
      "execution_count": null,
      "outputs": [
        {
          "output_type": "stream",
          "text": [
            "Net(\n",
            "  (fc1): Linear(in_features=784, out_features=50, bias=True)\n",
            "  (relu1): ReLU()\n",
            "  (fc2): Linear(in_features=50, out_features=10, bias=True)\n",
            ")\n"
          ],
          "name": "stdout"
        }
      ]
    },
    {
      "cell_type": "code",
      "metadata": {
        "colab": {
          "base_uri": "https://localhost:8080/"
        },
        "id": "dh-uVoL68QG6",
        "outputId": "8d345e7a-aa83-4991-e005-c5dc18e7438c"
      },
      "source": [
        "summary(net, input_size = (1, 28, 28), batch_size = 4, device = \"cpu\")"
      ],
      "execution_count": null,
      "outputs": [
        {
          "output_type": "stream",
          "text": [
            "----------------------------------------------------------------\n",
            "        Layer (type)               Output Shape         Param #\n",
            "================================================================\n",
            "            Linear-1                    [4, 50]          39,250\n",
            "              ReLU-2                    [4, 50]               0\n",
            "            Linear-3                    [4, 10]             510\n",
            "================================================================\n",
            "Total params: 39,760\n",
            "Trainable params: 39,760\n",
            "Non-trainable params: 0\n",
            "----------------------------------------------------------------\n",
            "Input size (MB): 0.01\n",
            "Forward/backward pass size (MB): 0.00\n",
            "Params size (MB): 0.15\n",
            "Estimated Total Size (MB): 0.17\n",
            "----------------------------------------------------------------\n"
          ],
          "name": "stdout"
        }
      ]
    },
    {
      "cell_type": "markdown",
      "metadata": {
        "id": "YJPUHCYgs39P"
      },
      "source": [
        "# Training Model"
      ]
    },
    {
      "cell_type": "code",
      "metadata": {
        "id": "bTLP2eEn8mz-"
      },
      "source": [
        "net = Net()\n",
        "if torch.cuda.is_available():\n",
        "  net = net.cuda()"
      ],
      "execution_count": null,
      "outputs": []
    },
    {
      "cell_type": "markdown",
      "metadata": {
        "id": "BXSH7B-S8n_7"
      },
      "source": [
        "## Optimizer"
      ]
    },
    {
      "cell_type": "code",
      "metadata": {
        "id": "FLnwUhLh8qbI"
      },
      "source": [
        "import torch.optim as optim\n",
        "optimizer = optim.SGD(net.parameters(), lr=0.001)"
      ],
      "execution_count": null,
      "outputs": []
    },
    {
      "cell_type": "markdown",
      "metadata": {
        "id": "XDtR_A4W9M1D"
      },
      "source": [
        "## Loss Function"
      ]
    },
    {
      "cell_type": "code",
      "metadata": {
        "id": "S8ClVCB7-Als"
      },
      "source": [
        "criterion = nn.CrossEntropyLoss()"
      ],
      "execution_count": null,
      "outputs": []
    },
    {
      "cell_type": "code",
      "metadata": {
        "colab": {
          "base_uri": "https://localhost:8080/"
        },
        "id": "lnIJZ-5T-DKn",
        "outputId": "29c34f1a-a15a-49c7-93d7-7662cb6fcaf1"
      },
      "source": [
        "net.train()"
      ],
      "execution_count": null,
      "outputs": [
        {
          "output_type": "execute_result",
          "data": {
            "text/plain": [
              "Net(\n",
              "  (fc1): Linear(in_features=784, out_features=50, bias=True)\n",
              "  (relu1): ReLU()\n",
              "  (fc2): Linear(in_features=50, out_features=10, bias=True)\n",
              ")"
            ]
          },
          "metadata": {
            "tags": []
          },
          "execution_count": 25
        }
      ]
    },
    {
      "cell_type": "code",
      "metadata": {
        "colab": {
          "base_uri": "https://localhost:8080/"
        },
        "id": "OAirls6X-GNJ",
        "outputId": "36884822-c649-4e14-b357-f9b780df881b"
      },
      "source": [
        "num_epochs = 3\n",
        "loop_per_val = 1000\n",
        "\n",
        "for e in range(num_epochs):\n",
        "\n",
        "    running_loss = 0\n",
        "    running_count = 0\n",
        "\n",
        "    for i, (inputs, labels) in enumerate(trainloader):\n",
        "\n",
        "        # transfer input to GPU\n",
        "        if torch.cuda.is_available():\n",
        "          inputs = inputs.cuda()\n",
        "          labels = labels.cuda()\n",
        "\n",
        "        # set grad to zero\n",
        "        net.zero_grad()\n",
        "\n",
        "        # forward propagation\n",
        "        outputs = net(inputs)\n",
        "\n",
        "        # compute loss\n",
        "        loss = criterion(outputs, labels)\n",
        "\n",
        "        # backward propagation\n",
        "        loss.backward()\n",
        "\n",
        "        # update model\n",
        "        optimizer.step()\n",
        "\n",
        "        # compute running loss and validation\n",
        "        running_loss += loss.item()\n",
        "        running_count +=1\n",
        "\n",
        "        # display the averaged loss value \n",
        "        if i % loop_per_val == loop_per_val - 1:              \n",
        "            train_loss = running_loss / loop_per_val\n",
        "            running_loss = 0. \n",
        "            running_count = 0\n",
        "            print(f'[Epoch {e+1:2d}/{num_epochs:d} Iter {i+1:5d}/{len(trainloader)}]: train_loss = {train_loss:.4f}')"
      ],
      "execution_count": null,
      "outputs": [
        {
          "output_type": "stream",
          "text": [
            "[Epoch  1/3 Iter  1000/12500]: train_loss = 2.0903\n",
            "[Epoch  1/3 Iter  2000/12500]: train_loss = 1.6551\n",
            "[Epoch  1/3 Iter  3000/12500]: train_loss = 1.2921\n",
            "[Epoch  1/3 Iter  4000/12500]: train_loss = 1.1120\n",
            "[Epoch  1/3 Iter  5000/12500]: train_loss = 0.9671\n",
            "[Epoch  1/3 Iter  6000/12500]: train_loss = 0.8887\n",
            "[Epoch  1/3 Iter  7000/12500]: train_loss = 0.8133\n",
            "[Epoch  1/3 Iter  8000/12500]: train_loss = 0.7717\n",
            "[Epoch  1/3 Iter  9000/12500]: train_loss = 0.7622\n",
            "[Epoch  1/3 Iter 10000/12500]: train_loss = 0.7274\n",
            "[Epoch  1/3 Iter 11000/12500]: train_loss = 0.6969\n",
            "[Epoch  1/3 Iter 12000/12500]: train_loss = 0.7264\n",
            "[Epoch  2/3 Iter  1000/12500]: train_loss = 0.6491\n",
            "[Epoch  2/3 Iter  2000/12500]: train_loss = 0.6320\n",
            "[Epoch  2/3 Iter  3000/12500]: train_loss = 0.6288\n",
            "[Epoch  2/3 Iter  4000/12500]: train_loss = 0.6222\n",
            "[Epoch  2/3 Iter  5000/12500]: train_loss = 0.6210\n",
            "[Epoch  2/3 Iter  6000/12500]: train_loss = 0.6135\n",
            "[Epoch  2/3 Iter  7000/12500]: train_loss = 0.6129\n",
            "[Epoch  2/3 Iter  8000/12500]: train_loss = 0.6147\n",
            "[Epoch  2/3 Iter  9000/12500]: train_loss = 0.5714\n",
            "[Epoch  2/3 Iter 10000/12500]: train_loss = 0.5609\n",
            "[Epoch  2/3 Iter 11000/12500]: train_loss = 0.5561\n",
            "[Epoch  2/3 Iter 12000/12500]: train_loss = 0.5481\n",
            "[Epoch  3/3 Iter  1000/12500]: train_loss = 0.5544\n",
            "[Epoch  3/3 Iter  2000/12500]: train_loss = 0.5397\n",
            "[Epoch  3/3 Iter  3000/12500]: train_loss = 0.5219\n",
            "[Epoch  3/3 Iter  4000/12500]: train_loss = 0.5351\n",
            "[Epoch  3/3 Iter  5000/12500]: train_loss = 0.5163\n",
            "[Epoch  3/3 Iter  6000/12500]: train_loss = 0.5546\n",
            "[Epoch  3/3 Iter  7000/12500]: train_loss = 0.5361\n",
            "[Epoch  3/3 Iter  8000/12500]: train_loss = 0.5338\n",
            "[Epoch  3/3 Iter  9000/12500]: train_loss = 0.5296\n",
            "[Epoch  3/3 Iter 10000/12500]: train_loss = 0.5047\n",
            "[Epoch  3/3 Iter 11000/12500]: train_loss = 0.5261\n",
            "[Epoch  3/3 Iter 12000/12500]: train_loss = 0.4994\n"
          ],
          "name": "stdout"
        }
      ]
    },
    {
      "cell_type": "markdown",
      "metadata": {
        "id": "-O2fGDLUs6dJ"
      },
      "source": [
        "# Testing Model"
      ]
    },
    {
      "cell_type": "markdown",
      "metadata": {
        "id": "MFg3usrM_0jG"
      },
      "source": [
        "## Evaluate Model"
      ]
    },
    {
      "cell_type": "code",
      "metadata": {
        "colab": {
          "base_uri": "https://localhost:8080/"
        },
        "id": "ZNeb2jXK_3LR",
        "outputId": "5e632972-1309-4145-d385-1c27bc86b5b8"
      },
      "source": [
        "net.eval()"
      ],
      "execution_count": null,
      "outputs": [
        {
          "output_type": "execute_result",
          "data": {
            "text/plain": [
              "Net(\n",
              "  (fc1): Linear(in_features=784, out_features=50, bias=True)\n",
              "  (relu1): ReLU()\n",
              "  (fc2): Linear(in_features=50, out_features=10, bias=True)\n",
              ")"
            ]
          },
          "metadata": {
            "tags": []
          },
          "execution_count": 27
        }
      ]
    },
    {
      "cell_type": "markdown",
      "metadata": {
        "id": "WPbfpHoPAjN8"
      },
      "source": [
        "## Accuracy Score"
      ]
    },
    {
      "cell_type": "code",
      "metadata": {
        "colab": {
          "base_uri": "https://localhost:8080/"
        },
        "id": "oMizNwkBAgTQ",
        "outputId": "99ac1579-1afe-4818-c85a-4048bcef3e78"
      },
      "source": [
        "# running_correct to accumulate number of correct predictions\n",
        "running_corrects = 0\n",
        "\n",
        "y_true, y_pred = np.array([]), np.array([])\n",
        "# for ...\n",
        "for inputs, labels in testloader:\n",
        "    # transfer to GPU\n",
        "    if torch.cuda.is_available():\n",
        "      inputs = inputs.cuda()\n",
        "      labels = labels.cuda()\n",
        "    \n",
        "    # do not want to compute the gradient\n",
        "    with torch.no_grad():\n",
        "        # forward propagation to get class scores\n",
        "        scores = net(inputs)\n",
        "        \n",
        "        # get the predicted class\n",
        "        _, preds = torch.max(scores, 1)\n",
        "        y_true = np.concatenate((y_true, labels.cpu().numpy()))\n",
        "        y_pred = np.concatenate((y_pred, preds.cpu().numpy()))\n",
        "\n",
        "        # compute the running correct\n",
        "        running_corrects += (preds == labels).double().sum()\n",
        "\n",
        "# accuracy = ...\n",
        "accuracy = running_corrects / len(testloader.dataset) * 100\n",
        "print(f'Accuracy = {accuracy:.2f}%')"
      ],
      "execution_count": 72,
      "outputs": [
        {
          "output_type": "stream",
          "text": [
            "Accuracy = 81.66%\n"
          ],
          "name": "stdout"
        }
      ]
    },
    {
      "cell_type": "markdown",
      "metadata": {
        "id": "NM8Nxx41UfU2"
      },
      "source": [
        "## Classification Report "
      ]
    },
    {
      "cell_type": "code",
      "metadata": {
        "colab": {
          "base_uri": "https://localhost:8080/",
          "height": 457
        },
        "id": "DtZ3KGNZaYkb",
        "outputId": "d768f533-1cd3-4cc2-f0a2-9c889a8003af"
      },
      "source": [
        "from sklearn.metrics import classification_report\n",
        "import pandas as pd\n",
        "display(pd.DataFrame(classification_report(y_true, y_pred, target_names = dataset.classes, output_dict = True)).transpose())"
      ],
      "execution_count": 74,
      "outputs": [
        {
          "output_type": "display_data",
          "data": {
            "text/html": [
              "<div>\n",
              "<style scoped>\n",
              "    .dataframe tbody tr th:only-of-type {\n",
              "        vertical-align: middle;\n",
              "    }\n",
              "\n",
              "    .dataframe tbody tr th {\n",
              "        vertical-align: top;\n",
              "    }\n",
              "\n",
              "    .dataframe thead th {\n",
              "        text-align: right;\n",
              "    }\n",
              "</style>\n",
              "<table border=\"1\" class=\"dataframe\">\n",
              "  <thead>\n",
              "    <tr style=\"text-align: right;\">\n",
              "      <th></th>\n",
              "      <th>precision</th>\n",
              "      <th>recall</th>\n",
              "      <th>f1-score</th>\n",
              "      <th>support</th>\n",
              "    </tr>\n",
              "  </thead>\n",
              "  <tbody>\n",
              "    <tr>\n",
              "      <th>T-shirt/top</th>\n",
              "      <td>0.826788</td>\n",
              "      <td>0.778199</td>\n",
              "      <td>0.801758</td>\n",
              "      <td>1055.0000</td>\n",
              "    </tr>\n",
              "    <tr>\n",
              "      <th>Trouser</th>\n",
              "      <td>0.966908</td>\n",
              "      <td>0.942540</td>\n",
              "      <td>0.954569</td>\n",
              "      <td>992.0000</td>\n",
              "    </tr>\n",
              "    <tr>\n",
              "      <th>Pullover</th>\n",
              "      <td>0.696942</td>\n",
              "      <td>0.740918</td>\n",
              "      <td>0.718258</td>\n",
              "      <td>1046.0000</td>\n",
              "    </tr>\n",
              "    <tr>\n",
              "      <th>Dress</th>\n",
              "      <td>0.774623</td>\n",
              "      <td>0.884498</td>\n",
              "      <td>0.825922</td>\n",
              "      <td>987.0000</td>\n",
              "    </tr>\n",
              "    <tr>\n",
              "      <th>Coat</th>\n",
              "      <td>0.744835</td>\n",
              "      <td>0.697967</td>\n",
              "      <td>0.720640</td>\n",
              "      <td>1033.0000</td>\n",
              "    </tr>\n",
              "    <tr>\n",
              "      <th>Sandal</th>\n",
              "      <td>0.885593</td>\n",
              "      <td>0.860082</td>\n",
              "      <td>0.872651</td>\n",
              "      <td>972.0000</td>\n",
              "    </tr>\n",
              "    <tr>\n",
              "      <th>Shirt</th>\n",
              "      <td>0.596916</td>\n",
              "      <td>0.563410</td>\n",
              "      <td>0.579679</td>\n",
              "      <td>962.0000</td>\n",
              "    </tr>\n",
              "    <tr>\n",
              "      <th>Sneaker</th>\n",
              "      <td>0.836147</td>\n",
              "      <td>0.868937</td>\n",
              "      <td>0.852227</td>\n",
              "      <td>969.0000</td>\n",
              "    </tr>\n",
              "    <tr>\n",
              "      <th>Bag</th>\n",
              "      <td>0.940933</td>\n",
              "      <td>0.920892</td>\n",
              "      <td>0.930805</td>\n",
              "      <td>986.0000</td>\n",
              "    </tr>\n",
              "    <tr>\n",
              "      <th>Ankle boot</th>\n",
              "      <td>0.904856</td>\n",
              "      <td>0.914830</td>\n",
              "      <td>0.909816</td>\n",
              "      <td>998.0000</td>\n",
              "    </tr>\n",
              "    <tr>\n",
              "      <th>accuracy</th>\n",
              "      <td>0.816600</td>\n",
              "      <td>0.816600</td>\n",
              "      <td>0.816600</td>\n",
              "      <td>0.8166</td>\n",
              "    </tr>\n",
              "    <tr>\n",
              "      <th>macro avg</th>\n",
              "      <td>0.817454</td>\n",
              "      <td>0.817227</td>\n",
              "      <td>0.816632</td>\n",
              "      <td>10000.0000</td>\n",
              "    </tr>\n",
              "    <tr>\n",
              "      <th>weighted avg</th>\n",
              "      <td>0.817047</td>\n",
              "      <td>0.816600</td>\n",
              "      <td>0.816114</td>\n",
              "      <td>10000.0000</td>\n",
              "    </tr>\n",
              "  </tbody>\n",
              "</table>\n",
              "</div>"
            ],
            "text/plain": [
              "              precision    recall  f1-score     support\n",
              "T-shirt/top    0.826788  0.778199  0.801758   1055.0000\n",
              "Trouser        0.966908  0.942540  0.954569    992.0000\n",
              "Pullover       0.696942  0.740918  0.718258   1046.0000\n",
              "Dress          0.774623  0.884498  0.825922    987.0000\n",
              "Coat           0.744835  0.697967  0.720640   1033.0000\n",
              "Sandal         0.885593  0.860082  0.872651    972.0000\n",
              "Shirt          0.596916  0.563410  0.579679    962.0000\n",
              "Sneaker        0.836147  0.868937  0.852227    969.0000\n",
              "Bag            0.940933  0.920892  0.930805    986.0000\n",
              "Ankle boot     0.904856  0.914830  0.909816    998.0000\n",
              "accuracy       0.816600  0.816600  0.816600      0.8166\n",
              "macro avg      0.817454  0.817227  0.816632  10000.0000\n",
              "weighted avg   0.817047  0.816600  0.816114  10000.0000"
            ]
          },
          "metadata": {
            "tags": []
          }
        }
      ]
    },
    {
      "cell_type": "markdown",
      "metadata": {
        "id": "mUq7j61LUnMb"
      },
      "source": [
        "## Confusion matrix"
      ]
    },
    {
      "cell_type": "code",
      "metadata": {
        "colab": {
          "base_uri": "https://localhost:8080/",
          "height": 700
        },
        "id": "I3eqWbbPbVlr",
        "outputId": "8cccda60-cc82-4c31-8fe1-ce223fd99c3b"
      },
      "source": [
        "from sklearn.metrics import confusion_matrix\n",
        "import seaborn as sns\n",
        "confusion_matrix_df = pd.DataFrame(confusion_matrix(y_true, y_pred), index = dataset.classes, columns = dataset.classes)\n",
        "fig = plt.figure(figsize=(12,12))\n",
        "sns.heatmap(confusion_matrix_df,annot=True, fmt='g')\n",
        "plt.show()"
      ],
      "execution_count": 94,
      "outputs": [
        {
          "output_type": "display_data",
          "data": {
            "image/png": "[encoded data removed]",
            "text/plain": [
              "<Figure size 864x864 with 2 Axes>"
            ]
          },
          "metadata": {
            "tags": [],
            "needs_background": "light"
          }
        }
      ]
    },
    {
      "cell_type": "markdown",
      "metadata": {
        "id": "ntBvmVG8s8e3"
      },
      "source": [
        "# Classifying An Image"
      ]
    },
    {
      "cell_type": "code",
      "metadata": {
        "colab": {
          "base_uri": "https://localhost:8080/"
        },
        "id": "1c6hgisgGqXO",
        "outputId": "2e688fce-9fd2-4ef4-a3f7-3bbaf9bf86fa"
      },
      "source": [
        "idx = 10\n",
        "img, label = dataset[idx]\n",
        "\n",
        "print('\\nType of img:', type(img))\n",
        "print('Type of items in img:', img.dtype)\n",
        "\n",
        "print('Shape of img:', img.shape)\n",
        "print('Range of img:', img.min(), 'to', img.max())"
      ],
      "execution_count": null,
      "outputs": [
        {
          "output_type": "stream",
          "text": [
            "\n",
            "Type of img: <class 'torch.Tensor'>\n",
            "Type of items in img: torch.float32\n",
            "Shape of img: torch.Size([1, 28, 28])\n",
            "Range of img: tensor(-0.5000) to tensor(0.5000)\n"
          ],
          "name": "stdout"
        }
      ]
    },
    {
      "cell_type": "markdown",
      "metadata": {
        "id": "L3kSatsfGquc"
      },
      "source": [
        "## Load own test Image"
      ]
    },
    {
      "cell_type": "code",
      "metadata": {
        "colab": {
          "base_uri": "https://localhost:8080/",
          "height": 366
        },
        "id": "fOKlU19uGtSn",
        "outputId": "5f2730af-d32a-4a39-9895-8700bf23c380"
      },
      "source": [
        "from PIL import Image\n",
        "\n",
        "test_img = Image.open(\"idk.jpg\").convert('L')\n",
        "\n",
        "# Resize Image\n",
        "test_img = test_img.resize((28, 28))\n",
        "\n",
        "# Convert PIL image to numpy array\n",
        "test_img = np.array(test_img)\n",
        "\n",
        "show_image(test_img)"
      ],
      "execution_count": null,
      "outputs": [
        {
          "output_type": "error",
          "ename": "FileNotFoundError",
          "evalue": "ignored",
          "traceback": [
            "\u001b[0;31m---------------------------------------------------------------------------\u001b[0m",
            "\u001b[0;31mFileNotFoundError\u001b[0m                         Traceback (most recent call last)",
            "\u001b[0;32m<ipython-input-30-a37a14d06c95>\u001b[0m in \u001b[0;36m<module>\u001b[0;34m()\u001b[0m\n\u001b[1;32m      1\u001b[0m \u001b[0;32mfrom\u001b[0m \u001b[0mPIL\u001b[0m \u001b[0;32mimport\u001b[0m \u001b[0mImage\u001b[0m\u001b[0;34m\u001b[0m\u001b[0;34m\u001b[0m\u001b[0m\n\u001b[1;32m      2\u001b[0m \u001b[0;34m\u001b[0m\u001b[0m\n\u001b[0;32m----> 3\u001b[0;31m \u001b[0mtest_img\u001b[0m \u001b[0;34m=\u001b[0m \u001b[0mImage\u001b[0m\u001b[0;34m.\u001b[0m\u001b[0mopen\u001b[0m\u001b[0;34m(\u001b[0m\u001b[0;34m\"idk.jpg\"\u001b[0m\u001b[0;34m)\u001b[0m\u001b[0;34m.\u001b[0m\u001b[0mconvert\u001b[0m\u001b[0;34m(\u001b[0m\u001b[0;34m'L'\u001b[0m\u001b[0;34m)\u001b[0m\u001b[0;34m\u001b[0m\u001b[0;34m\u001b[0m\u001b[0m\n\u001b[0m\u001b[1;32m      4\u001b[0m \u001b[0;34m\u001b[0m\u001b[0m\n\u001b[1;32m      5\u001b[0m \u001b[0;31m# Resize Image\u001b[0m\u001b[0;34m\u001b[0m\u001b[0;34m\u001b[0m\u001b[0;34m\u001b[0m\u001b[0m\n",
            "\u001b[0;32m/usr/local/lib/python3.7/dist-packages/PIL/Image.py\u001b[0m in \u001b[0;36mopen\u001b[0;34m(fp, mode)\u001b[0m\n\u001b[1;32m   2841\u001b[0m \u001b[0;34m\u001b[0m\u001b[0m\n\u001b[1;32m   2842\u001b[0m     \u001b[0;32mif\u001b[0m \u001b[0mfilename\u001b[0m\u001b[0;34m:\u001b[0m\u001b[0;34m\u001b[0m\u001b[0;34m\u001b[0m\u001b[0m\n\u001b[0;32m-> 2843\u001b[0;31m         \u001b[0mfp\u001b[0m \u001b[0;34m=\u001b[0m \u001b[0mbuiltins\u001b[0m\u001b[0;34m.\u001b[0m\u001b[0mopen\u001b[0m\u001b[0;34m(\u001b[0m\u001b[0mfilename\u001b[0m\u001b[0;34m,\u001b[0m \u001b[0;34m\"rb\"\u001b[0m\u001b[0;34m)\u001b[0m\u001b[0;34m\u001b[0m\u001b[0;34m\u001b[0m\u001b[0m\n\u001b[0m\u001b[1;32m   2844\u001b[0m         \u001b[0mexclusive_fp\u001b[0m \u001b[0;34m=\u001b[0m \u001b[0;32mTrue\u001b[0m\u001b[0;34m\u001b[0m\u001b[0;34m\u001b[0m\u001b[0m\n\u001b[1;32m   2845\u001b[0m \u001b[0;34m\u001b[0m\u001b[0m\n",
            "\u001b[0;31mFileNotFoundError\u001b[0m: [Errno 2] No such file or directory: 'idk.jpg'"
          ]
        }
      ]
    },
    {
      "cell_type": "code",
      "metadata": {
        "id": "s1mTC0UMGvqP"
      },
      "source": [
        "test_img = transform(test_img)\n",
        "\n",
        "print('Shape of img:', test_img.shape)\n",
        "print(f'Range of img: {test_img.min().item():.2f} to {test_img.max().item():.2f}')\n",
        "print('Type of img:', type(test_img))\n",
        "print('Type of items in img:', test_img.dtype)"
      ],
      "execution_count": null,
      "outputs": []
    },
    {
      "cell_type": "code",
      "metadata": {
        "id": "WZHunKhWIC-Z"
      },
      "source": [
        "inputs = test_img\n",
        "if torch.cuda.is_available():\n",
        "  inputs = inputs.cuda()\n",
        "\n",
        "with torch.no_grad():\n",
        "  scores = net(inputs)\n",
        "  _, preds = torch.max(scores, 1)\n",
        "  print(dataset.classes[preds])"
      ],
      "execution_count": null,
      "outputs": []
    },
    {
      "cell_type": "code",
      "metadata": {
        "id": "0WkLkgV7ISrG"
      },
      "source": [
        ""
      ],
      "execution_count": null,
      "outputs": []
    }
  ]
}