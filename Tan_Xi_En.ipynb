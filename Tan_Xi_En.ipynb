{
  "nbformat": 4,
  "nbformat_minor": 0,
  "metadata": {
    "colab": {
      "name": "Tan Xi En",
      "provenance": [],
      "authorship_tag": "ABX9TyOACTa8SKYBiBJYeR8pOXWn",
      "include_colab_link": true
    },
    "kernelspec": {
      "name": "python3",
      "display_name": "Python 3"
    },
    "language_info": {
      "name": "python"
    }
  },
  "cells": [
    {
      "cell_type": "markdown",
      "metadata": {
        "id": "view-in-github",
        "colab_type": "text"
      },
      "source": [
        "<a href=\"https://colab.research.google.com/github/Neix20/Deep_Learning_May_2021/blob/main/Tan_Xi_En.ipynb\" target=\"_parent\"><img src=\"https://colab.research.google.com/assets/colab-badge.svg\" alt=\"Open In Colab\"/></a>"
      ]
    },
    {
      "cell_type": "code",
      "metadata": {
        "id": "Y6XSslOqokMC"
      },
      "source": [
        "import numpy as np\n",
        "import matplotlib\n",
        "import matplotlib.pyplot as plt\n",
        "from PIL import Image"
      ],
      "execution_count": 27,
      "outputs": []
    },
    {
      "cell_type": "markdown",
      "metadata": {
        "id": "t_MvJoOusWNA"
      },
      "source": [
        "# Fashion Dataset\n",
        "\n",
        "## Fetch Dataset"
      ]
    },
    {
      "cell_type": "code",
      "metadata": {
        "id": "SoXaQZ4Dtk6p"
      },
      "source": [
        "from torchvision.datasets.mnist import FashionMNIST\n",
        "dataset = FashionMNIST(root=\".\", download= True)"
      ],
      "execution_count": 28,
      "outputs": []
    },
    {
      "cell_type": "markdown",
      "metadata": {
        "id": "b11iLJXnwQAI"
      },
      "source": [
        "## Understand Dataset"
      ]
    },
    {
      "cell_type": "code",
      "metadata": {
        "colab": {
          "base_uri": "https://localhost:8080/"
        },
        "id": "obQMB8tiwTMF",
        "outputId": "f5579c3b-b1b0-4ebc-d6dc-664fad9aa06a"
      },
      "source": [
        "print(\"Number of records: \", len(dataset))\n",
        "print(\"Dataset Type: \", type(dataset))\n",
        "print(\"Classes: \", dataset.classes)\n",
        "print(\"Number of Classes: \", len(dataset.classes))"
      ],
      "execution_count": 29,
      "outputs": [
        {
          "output_type": "stream",
          "text": [
            "Number of records:  60000\n",
            "Dataset Type:  <class 'torchvision.datasets.mnist.FashionMNIST'>\n",
            "Classes:  ['T-shirt/top', 'Trouser', 'Pullover', 'Dress', 'Coat', 'Sandal', 'Shirt', 'Sneaker', 'Bag', 'Ankle boot']\n",
            "Number of Classes:  10\n"
          ],
          "name": "stdout"
        }
      ]
    },
    {
      "cell_type": "markdown",
      "metadata": {
        "id": "LYJ10oubtu2w"
      },
      "source": [
        "## Show Image"
      ]
    },
    {
      "cell_type": "code",
      "metadata": {
        "id": "xcLd2y3Fxq2M"
      },
      "source": [
        "def show_image(img):\n",
        "    plt.imshow (img, cmap = matplotlib.cm.gray, interpolation = 'nearest')"
      ],
      "execution_count": 41,
      "outputs": []
    },
    {
      "cell_type": "code",
      "metadata": {
        "colab": {
          "base_uri": "https://localhost:8080/"
        },
        "id": "7ReW-uF4wtuD",
        "outputId": "2f114ac2-1597-4d40-d661-82b174c63aeb"
      },
      "source": [
        "idx = 10\n",
        "img, label = dataset.data[idx], dataset.targets[idx]\n",
        "\n",
        "print('\\nType of img:', type(img))\n",
        "print('Type of items in img:', img.dtype)\n",
        "\n",
        "print('Shape of img:', img.shape)\n",
        "print('Range of img:', img.min(), 'to', img.max())"
      ],
      "execution_count": 42,
      "outputs": [
        {
          "output_type": "stream",
          "text": [
            "\n",
            "Type of img: <class 'torch.Tensor'>\n",
            "Type of items in img: torch.uint8\n",
            "Shape of img: torch.Size([28, 28])\n",
            "Range of img: tensor(0, dtype=torch.uint8) to tensor(255, dtype=torch.uint8)\n"
          ],
          "name": "stdout"
        }
      ]
    },
    {
      "cell_type": "code",
      "metadata": {
        "colab": {
          "base_uri": "https://localhost:8080/",
          "height": 265
        },
        "id": "GYBp--zzyATX",
        "outputId": "f2569ca9-49da-4da2-c5d5-bb252905627f"
      },
      "source": [
        "show_image(img)"
      ],
      "execution_count": 43,
      "outputs": [
        {
          "output_type": "display_data",
          "data": {
            "image/png": "[encoded data removed]",
            "text/plain": [
              "<Figure size 432x288 with 1 Axes>"
            ]
          },
          "metadata": {
            "tags": [],
            "needs_background": "light"
          }
        }
      ]
    },
    {
      "cell_type": "markdown",
      "metadata": {
        "id": "hNyA9UpJsfMR"
      },
      "source": [
        "# TorchVision Transformations"
      ]
    },
    {
      "cell_type": "code",
      "metadata": {
        "id": "7J4IDGrkyJ7K"
      },
      "source": [
        "from torchvision import transforms"
      ],
      "execution_count": 44,
      "outputs": []
    },
    {
      "cell_type": "markdown",
      "metadata": {
        "id": "x9zn0QaVyM9B"
      },
      "source": [
        "## Transformation Pipeline"
      ]
    },
    {
      "cell_type": "code",
      "metadata": {
        "id": "OP2_PZ8WyQWP"
      },
      "source": [
        "transform = transforms.Compose([\n",
        "    transforms.ToPILImage(),\n",
        "    transforms.ToTensor(),\n",
        "    transforms.Normalize((0.5), (1.0))\n",
        "])"
      ],
      "execution_count": 57,
      "outputs": []
    },
    {
      "cell_type": "code",
      "metadata": {
        "colab": {
          "base_uri": "https://localhost:8080/"
        },
        "id": "JAAt5Ju-ynwp",
        "outputId": "a9498c3e-a397-4f5d-dd1f-41124f6834ae"
      },
      "source": [
        "idx = 10\n",
        "img, label = dataset.data[idx], dataset.targets[idx]\n",
        "\n",
        "print('Original image shape:', img.shape)\n",
        "print(f'Range of pixel values: {img.min():d}-{img.max():d}')"
      ],
      "execution_count": 58,
      "outputs": [
        {
          "output_type": "stream",
          "text": [
            "Original image shape: torch.Size([28, 28])\n",
            "Range of pixel values: 0-255\n"
          ],
          "name": "stdout"
        }
      ]
    },
    {
      "cell_type": "code",
      "metadata": {
        "colab": {
          "base_uri": "https://localhost:8080/"
        },
        "id": "HbLAU2Q-yznz",
        "outputId": "0bdf7d00-c72c-41f8-f9b2-fd485f8cfa6d"
      },
      "source": [
        "img = transform(img)\n",
        "\n",
        "print('Original image shape:', img.shape)\n",
        "print(f'Range of pixel values: {img.min().item():.2f}-{img.max().item():.2f}')"
      ],
      "execution_count": 62,
      "outputs": [
        {
          "output_type": "stream",
          "text": [
            "Original image shape: torch.Size([1, 28, 28])\n",
            "Range of pixel values: -0.50-0.46\n"
          ],
          "name": "stdout"
        }
      ]
    },
    {
      "cell_type": "markdown",
      "metadata": {
        "id": "cCIcpeAXzpOR"
      },
      "source": [
        "## Reload Dataset With Transform"
      ]
    },
    {
      "cell_type": "code",
      "metadata": {
        "id": "s5XAe1D2zxsa"
      },
      "source": [
        "dataset = FashionMNIST(root=\".\", transform = transform, download= True)"
      ],
      "execution_count": 63,
      "outputs": []
    },
    {
      "cell_type": "markdown",
      "metadata": {
        "id": "iyRSaPxxstmP"
      },
      "source": [
        "# Batch Loader"
      ]
    },
    {
      "cell_type": "markdown",
      "metadata": {
        "id": "e5y27E-GszU4"
      },
      "source": [
        "# Building Regular Neural Network"
      ]
    },
    {
      "cell_type": "markdown",
      "metadata": {
        "id": "YJPUHCYgs39P"
      },
      "source": [
        "# Training Model"
      ]
    },
    {
      "cell_type": "markdown",
      "metadata": {
        "id": "-O2fGDLUs6dJ"
      },
      "source": [
        "# Testing Model"
      ]
    },
    {
      "cell_type": "markdown",
      "metadata": {
        "id": "ntBvmVG8s8e3"
      },
      "source": [
        "# Classifying An Image"
      ]
    },
    {
      "cell_type": "code",
      "metadata": {
        "id": "O_g27VHfs3I-"
      },
      "source": [
        ""
      ],
      "execution_count": 31,
      "outputs": []
    },
    {
      "cell_type": "code",
      "metadata": {
        "id": "mbPEkgqSsXvp"
      },
      "source": [
        ""
      ],
      "execution_count": 31,
      "outputs": []
    },
    {
      "cell_type": "code",
      "metadata": {
        "id": "fQjT17H3ymca"
      },
      "source": [
        ""
      ],
      "execution_count": null,
      "outputs": []
    },
    {
      "cell_type": "code",
      "metadata": {
        "id": "2DYhdPYMynCI"
      },
      "source": [
        ""
      ],
      "execution_count": null,
      "outputs": []
    }
  ]
}