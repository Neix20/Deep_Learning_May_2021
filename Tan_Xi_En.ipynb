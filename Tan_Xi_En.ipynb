{
  "nbformat": 4,
  "nbformat_minor": 0,
  "metadata": {
    "colab": {
      "name": "Tan Xi En",
      "provenance": [],
      "authorship_tag": "ABX9TyNdz/4QRq2nISRaaHm7ET/l",
      "include_colab_link": true
    },
    "kernelspec": {
      "name": "python3",
      "display_name": "Python 3"
    },
    "language_info": {
      "name": "python"
    },
    "accelerator": "GPU"
  },
  "cells": [
    {
      "cell_type": "markdown",
      "metadata": {
        "id": "view-in-github",
        "colab_type": "text"
      },
      "source": [
        "<a href=\"https://colab.research.google.com/github/Neix20/Deep_Learning_May_2021/blob/main/Tan_Xi_En.ipynb\" target=\"_parent\"><img src=\"https://colab.research.google.com/assets/colab-badge.svg\" alt=\"Open In Colab\"/></a>"
      ]
    },
    {
      "cell_type": "code",
      "metadata": {
        "colab": {
          "base_uri": "https://localhost:8080/"
        },
        "id": "K1V0afoiF7XL",
        "outputId": "bd1a7b7c-2436-4910-d172-0964c23535ff"
      },
      "source": [
        "from google.colab import drive\n",
        "drive.mount('/content/drive')"
      ],
      "execution_count": null,
      "outputs": [
        {
          "output_type": "stream",
          "text": [
            "Mounted at /content/drive\n"
          ],
          "name": "stdout"
        }
      ]
    },
    {
      "cell_type": "code",
      "metadata": {
        "colab": {
          "base_uri": "https://localhost:8080/"
        },
        "id": "F0D5L3RjF88z",
        "outputId": "7deafb25-dfc7-4fd1-c7e6-a15fb6432fad"
      },
      "source": [
        "cd /content/drive/MyDrive/Deep_Learning_Assignment_May_2021/Deep_Learning_May_2021"
      ],
      "execution_count": null,
      "outputs": [
        {
          "output_type": "stream",
          "text": [
            "/content/drive/MyDrive/Deep_Learning_Assignment_May_2021/Deep_Learning_May_2021\n"
          ],
          "name": "stdout"
        }
      ]
    },
    {
      "cell_type": "code",
      "metadata": {
        "id": "Y6XSslOqokMC"
      },
      "source": [
        "import numpy as np\n",
        "import matplotlib\n",
        "import matplotlib.pyplot as plt\n",
        "import torchvision\n",
        "from torch.utils.data import Dataset"
      ],
      "execution_count": null,
      "outputs": []
    },
    {
      "cell_type": "markdown",
      "metadata": {
        "id": "t_MvJoOusWNA"
      },
      "source": [
        "# Fashion Dataset"
      ]
    },
    {
      "cell_type": "code",
      "metadata": {
        "id": "iLOB43GZ3n9i"
      },
      "source": [
        "class FashionMNIST(Dataset):\n",
        "    \n",
        "    def __init__(self, root = \".\", train = True, download=False, transform=None):\n",
        "        self.classes = ['T-shirt/top', 'Trouser', 'Pullover', 'Dress', 'Coat', 'Sandal', 'Shirt', 'Sneaker', 'Bag', 'Ankle boot']\n",
        "        self.num_classes = len(self.classes)          \n",
        "        self.__transform = transform        \n",
        "        self.__images  = []\n",
        "        self.__targets = []\n",
        "\n",
        "        dataset = torchvision.datasets.FashionMNIST(root=root, train=train, download=download)\n",
        "\n",
        "        self.__images = dataset.data\n",
        "        self.__targets = dataset.targets\n",
        "\t\t\t\n",
        "        self.__targets  = np.array(self.__targets, dtype=np.int64)     \n",
        "                       \n",
        "    def __len__(self):\n",
        "        return len(self.__images)\n",
        "    \n",
        "    def __getitem__(self, idx):\n",
        "        \n",
        "        img   = self.__images[idx]\n",
        "        label = self.__targets[idx]\n",
        "\n",
        "        if self.__transform:\n",
        "            img = self.__transform(img)\n",
        "            \n",
        "        return img, label"
      ],
      "execution_count": null,
      "outputs": []
    },
    {
      "cell_type": "markdown",
      "metadata": {
        "id": "dpaLMlYW3fxT"
      },
      "source": [
        "## Fetch Dataset"
      ]
    },
    {
      "cell_type": "code",
      "metadata": {
        "id": "SoXaQZ4Dtk6p"
      },
      "source": [
        "dataset = FashionMNIST(root=\".\", download= True)"
      ],
      "execution_count": null,
      "outputs": []
    },
    {
      "cell_type": "markdown",
      "metadata": {
        "id": "b11iLJXnwQAI"
      },
      "source": [
        "## Understand Dataset"
      ]
    },
    {
      "cell_type": "code",
      "metadata": {
        "colab": {
          "base_uri": "https://localhost:8080/"
        },
        "id": "obQMB8tiwTMF",
        "outputId": "a2970f65-de36-4d79-ecb5-627c41103f12"
      },
      "source": [
        "print(\"Number of records: \", len(dataset))\n",
        "print(\"Dataset Type: \", type(dataset))\n",
        "print(\"Classes: \", dataset.classes)\n",
        "print(\"Number of Classes: \", len(dataset.classes))"
      ],
      "execution_count": null,
      "outputs": [
        {
          "output_type": "stream",
          "text": [
            "Number of records:  60000\n",
            "Dataset Type:  <class '__main__.FashionMNIST'>\n",
            "Classes:  ['T-shirt/top', 'Trouser', 'Pullover', 'Dress', 'Coat', 'Sandal', 'Shirt', 'Sneaker', 'Bag', 'Ankle boot']\n",
            "Number of Classes:  10\n"
          ],
          "name": "stdout"
        }
      ]
    },
    {
      "cell_type": "markdown",
      "metadata": {
        "id": "LYJ10oubtu2w"
      },
      "source": [
        "## Show Image"
      ]
    },
    {
      "cell_type": "code",
      "metadata": {
        "id": "xcLd2y3Fxq2M"
      },
      "source": [
        "def show_image(img):\n",
        "    plt.imshow (img, cmap = matplotlib.cm.gray, interpolation = 'nearest')"
      ],
      "execution_count": null,
      "outputs": []
    },
    {
      "cell_type": "code",
      "metadata": {
        "colab": {
          "base_uri": "https://localhost:8080/"
        },
        "id": "7ReW-uF4wtuD",
        "outputId": "d30014e7-ef82-477d-bc08-4b5bc8b27df2"
      },
      "source": [
        "idx = 10\n",
        "img, label = dataset[idx]\n",
        "\n",
        "print('\\nType of img:', type(img))\n",
        "print('Type of items in img:', img.dtype)\n",
        "\n",
        "print('Shape of img:', img.shape)\n",
        "print('Range of img:', img.min(), 'to', img.max())"
      ],
      "execution_count": null,
      "outputs": [
        {
          "output_type": "stream",
          "text": [
            "\n",
            "Type of img: <class 'torch.Tensor'>\n",
            "Type of items in img: torch.uint8\n",
            "Shape of img: torch.Size([28, 28])\n",
            "Range of img: tensor(0, dtype=torch.uint8) to tensor(255, dtype=torch.uint8)\n"
          ],
          "name": "stdout"
        }
      ]
    },
    {
      "cell_type": "code",
      "metadata": {
        "colab": {
          "base_uri": "https://localhost:8080/",
          "height": 265
        },
        "id": "GYBp--zzyATX",
        "outputId": "00eee71c-387d-4952-9cf3-03bc70dde4ef"
      },
      "source": [
        "show_image(img)"
      ],
      "execution_count": null,
      "outputs": [
        {
          "output_type": "display_data",
          "data": {
            "image/png": "[encoded data removed]",
            "text/plain": [
              "<Figure size 432x288 with 1 Axes>"
            ]
          },
          "metadata": {
            "tags": [],
            "needs_background": "light"
          }
        }
      ]
    },
    {
      "cell_type": "markdown",
      "metadata": {
        "id": "hNyA9UpJsfMR"
      },
      "source": [
        "# TorchVision Transformations"
      ]
    },
    {
      "cell_type": "code",
      "metadata": {
        "id": "7J4IDGrkyJ7K"
      },
      "source": [
        "from torchvision import transforms"
      ],
      "execution_count": null,
      "outputs": []
    },
    {
      "cell_type": "markdown",
      "metadata": {
        "id": "x9zn0QaVyM9B"
      },
      "source": [
        "## Transformation Pipeline"
      ]
    },
    {
      "cell_type": "code",
      "metadata": {
        "id": "OP2_PZ8WyQWP"
      },
      "source": [
        "transform = transforms.Compose([\n",
        "    transforms.ToPILImage(),\n",
        "    transforms.ToTensor(),\n",
        "    transforms.Normalize((0.5,), (1.0,))\n",
        "])"
      ],
      "execution_count": null,
      "outputs": []
    },
    {
      "cell_type": "code",
      "metadata": {
        "colab": {
          "base_uri": "https://localhost:8080/"
        },
        "id": "JAAt5Ju-ynwp",
        "outputId": "a3a37332-692d-4f54-d9e7-c775bc61b12f"
      },
      "source": [
        "idx = 10\n",
        "img, label = dataset[idx]\n",
        "\n",
        "print('Original image shape:', img.shape)\n",
        "print(f'Range of pixel values: {img.min():d}-{img.max():d}')"
      ],
      "execution_count": null,
      "outputs": [
        {
          "output_type": "stream",
          "text": [
            "Original image shape: torch.Size([28, 28])\n",
            "Range of pixel values: 0-255\n"
          ],
          "name": "stdout"
        }
      ]
    },
    {
      "cell_type": "code",
      "metadata": {
        "colab": {
          "base_uri": "https://localhost:8080/"
        },
        "id": "HbLAU2Q-yznz",
        "outputId": "57f7e6f8-c676-442d-d076-ec97ede18043"
      },
      "source": [
        "img = transform(img)\n",
        "\n",
        "print('Shape of img:', img.shape)\n",
        "print(f'Range of img: {img.min().item():.2f} to {img.max().item():.2f}')\n",
        "print('Type of img:', type(img))\n",
        "print('Type of items in img:', img.dtype)"
      ],
      "execution_count": null,
      "outputs": [
        {
          "output_type": "stream",
          "text": [
            "Shape of img: torch.Size([1, 28, 28])\n",
            "Range of img: -0.50 to 0.50\n",
            "Type of img: <class 'torch.Tensor'>\n",
            "Type of items in img: torch.float32\n"
          ],
          "name": "stdout"
        }
      ]
    },
    {
      "cell_type": "markdown",
      "metadata": {
        "id": "cCIcpeAXzpOR"
      },
      "source": [
        "## Transform Dataset using pipeline"
      ]
    },
    {
      "cell_type": "code",
      "metadata": {
        "id": "s5XAe1D2zxsa"
      },
      "source": [
        "dataset = FashionMNIST(root=\".\", transform = transform,  download= True)"
      ],
      "execution_count": null,
      "outputs": []
    },
    {
      "cell_type": "code",
      "metadata": {
        "colab": {
          "base_uri": "https://localhost:8080/"
        },
        "id": "8q9FLwjR2NJI",
        "outputId": "1b6816e0-4232-4689-dba3-d9344d1a4f42"
      },
      "source": [
        "idx = 10\n",
        "img, label = dataset[idx]\n",
        "\n",
        "print('Original image shape:', img.shape)\n",
        "print(f'Range of pixel values: {img.min():.2f}-{img.max():.2f}')\n",
        "print('Type of img:', type(img))\n",
        "print('Type of items in img:', img.dtype)"
      ],
      "execution_count": null,
      "outputs": [
        {
          "output_type": "stream",
          "text": [
            "Original image shape: torch.Size([1, 28, 28])\n",
            "Range of pixel values: -0.50-0.50\n",
            "Type of img: <class 'torch.Tensor'>\n",
            "Type of items in img: torch.float32\n"
          ],
          "name": "stdout"
        }
      ]
    },
    {
      "cell_type": "markdown",
      "metadata": {
        "id": "OcYqdosc0lqx"
      },
      "source": [
        "## Train Test Split"
      ]
    },
    {
      "cell_type": "code",
      "metadata": {
        "id": "5bSwtnAR1X3J"
      },
      "source": [
        "import torch\n",
        "from torch.utils.data import DataLoader"
      ],
      "execution_count": null,
      "outputs": []
    },
    {
      "cell_type": "code",
      "metadata": {
        "id": "o8Jg_cx00oNS"
      },
      "source": [
        "trainset, testset = torch.utils.data.random_split(dataset, [50000, 10000])"
      ],
      "execution_count": null,
      "outputs": []
    },
    {
      "cell_type": "markdown",
      "metadata": {
        "id": "iyRSaPxxstmP"
      },
      "source": [
        "# Batch Loader"
      ]
    },
    {
      "cell_type": "code",
      "metadata": {
        "id": "NYrSludW04Nv"
      },
      "source": [
        "trainloader = DataLoader(trainset, batch_size = 4, shuffle = True, num_workers = 2)\n",
        "testloader = DataLoader(testset, batch_size = 4, shuffle = True, num_workers = 2)"
      ],
      "execution_count": null,
      "outputs": []
    },
    {
      "cell_type": "code",
      "metadata": {
        "colab": {
          "base_uri": "https://localhost:8080/"
        },
        "id": "JI22JzZ11Cvc",
        "outputId": "396671c8-ca8b-4385-f09f-0ab915a3762e"
      },
      "source": [
        "dataiter = iter(trainloader)\n",
        "imgs, labels = dataiter.next()\n",
        "\n",
        "print('Shape of imgs:', imgs.shape)\n",
        "print('Shape of labels:', labels.shape)"
      ],
      "execution_count": null,
      "outputs": [
        {
          "output_type": "stream",
          "text": [
            "Shape of imgs: torch.Size([4, 1, 28, 28])\n",
            "Shape of labels: torch.Size([4])\n"
          ],
          "name": "stdout"
        }
      ]
    },
    {
      "cell_type": "markdown",
      "metadata": {
        "id": "e5y27E-GszU4"
      },
      "source": [
        "# Building Regular Neural Network"
      ]
    },
    {
      "cell_type": "code",
      "metadata": {
        "id": "_WWl4gzh76Fy"
      },
      "source": [
        "import torch.nn as nn\n",
        "from torchsummary import summary\n",
        "import torch.nn.functional as F"
      ],
      "execution_count": null,
      "outputs": []
    },
    {
      "cell_type": "code",
      "metadata": {
        "id": "ozyBoZW47q_f"
      },
      "source": [
        "class Net(nn.Module):\n",
        "  def __init__(self):\n",
        "      super().__init__()\n",
        "      self.fc1 = nn.Linear(1 * 28 * 28, 50)\n",
        "      self.relu1 = nn.ReLU()\n",
        "      self.fc2 = nn.Linear(50, 10)\n",
        "  \n",
        "  def forward(self, x):\n",
        "    # flatten each image\n",
        "    x = x.view(x.size(0), -1)\n",
        "\n",
        "    # forward propagation for layer 1\n",
        "    x = self.fc1(x)\n",
        "    x = self.relu1(x)\n",
        "\n",
        "    # forward propagation for layer 2\n",
        "    x = self.fc2(x)\n",
        "\n",
        "    return x"
      ],
      "execution_count": null,
      "outputs": []
    },
    {
      "cell_type": "code",
      "metadata": {
        "colab": {
          "base_uri": "https://localhost:8080/"
        },
        "id": "IjhoecC58Ors",
        "outputId": "4e505512-7609-4276-8b56-c15d9637d42f"
      },
      "source": [
        "net = Net()\n",
        "print(net)"
      ],
      "execution_count": null,
      "outputs": [
        {
          "output_type": "stream",
          "text": [
            "Net(\n",
            "  (fc1): Linear(in_features=784, out_features=50, bias=True)\n",
            "  (relu1): ReLU()\n",
            "  (fc2): Linear(in_features=50, out_features=10, bias=True)\n",
            ")\n"
          ],
          "name": "stdout"
        }
      ]
    },
    {
      "cell_type": "code",
      "metadata": {
        "colab": {
          "base_uri": "https://localhost:8080/"
        },
        "id": "dh-uVoL68QG6",
        "outputId": "1eb526f4-61ae-4611-93c6-78d68695bee5"
      },
      "source": [
        "summary(net, input_size = (1, 28, 28), batch_size = 4, device = \"cpu\")"
      ],
      "execution_count": null,
      "outputs": [
        {
          "output_type": "stream",
          "text": [
            "----------------------------------------------------------------\n",
            "        Layer (type)               Output Shape         Param #\n",
            "================================================================\n",
            "            Linear-1                    [4, 50]          39,250\n",
            "              ReLU-2                    [4, 50]               0\n",
            "            Linear-3                    [4, 10]             510\n",
            "================================================================\n",
            "Total params: 39,760\n",
            "Trainable params: 39,760\n",
            "Non-trainable params: 0\n",
            "----------------------------------------------------------------\n",
            "Input size (MB): 0.01\n",
            "Forward/backward pass size (MB): 0.00\n",
            "Params size (MB): 0.15\n",
            "Estimated Total Size (MB): 0.17\n",
            "----------------------------------------------------------------\n"
          ],
          "name": "stdout"
        }
      ]
    },
    {
      "cell_type": "markdown",
      "metadata": {
        "id": "YJPUHCYgs39P"
      },
      "source": [
        "# Training Model"
      ]
    },
    {
      "cell_type": "code",
      "metadata": {
        "id": "bTLP2eEn8mz-"
      },
      "source": [
        "net = Net()\n",
        "if torch.cuda.is_available():\n",
        "  net = net.cuda()"
      ],
      "execution_count": null,
      "outputs": []
    },
    {
      "cell_type": "markdown",
      "metadata": {
        "id": "BXSH7B-S8n_7"
      },
      "source": [
        "## Optimizer"
      ]
    },
    {
      "cell_type": "code",
      "metadata": {
        "id": "FLnwUhLh8qbI"
      },
      "source": [
        "import torch.optim as optim\n",
        "optimizer = optim.SGD(net.parameters(), lr=0.001)"
      ],
      "execution_count": null,
      "outputs": []
    },
    {
      "cell_type": "markdown",
      "metadata": {
        "id": "XDtR_A4W9M1D"
      },
      "source": [
        "## Loss Function"
      ]
    },
    {
      "cell_type": "code",
      "metadata": {
        "id": "S8ClVCB7-Als"
      },
      "source": [
        "criterion = nn.CrossEntropyLoss()"
      ],
      "execution_count": null,
      "outputs": []
    },
    {
      "cell_type": "code",
      "metadata": {
        "colab": {
          "base_uri": "https://localhost:8080/"
        },
        "id": "lnIJZ-5T-DKn",
        "outputId": "a1bcfd90-669b-49ae-c69b-9fd16ecbf0ff"
      },
      "source": [
        "net.train()"
      ],
      "execution_count": null,
      "outputs": [
        {
          "output_type": "execute_result",
          "data": {
            "text/plain": [
              "Net(\n",
              "  (fc1): Linear(in_features=784, out_features=50, bias=True)\n",
              "  (relu1): ReLU()\n",
              "  (fc2): Linear(in_features=50, out_features=10, bias=True)\n",
              ")"
            ]
          },
          "metadata": {
            "tags": []
          },
          "execution_count": 61
        }
      ]
    },
    {
      "cell_type": "code",
      "metadata": {
        "colab": {
          "base_uri": "https://localhost:8080/"
        },
        "id": "OAirls6X-GNJ",
        "outputId": "a9628ddc-3b9d-4d42-e379-61daac45d53a"
      },
      "source": [
        "num_epochs = 3\n",
        "loop_per_val = 1000\n",
        "\n",
        "for e in range(num_epochs):\n",
        "\n",
        "    running_loss = 0\n",
        "    running_count = 0\n",
        "\n",
        "    for i, (inputs, labels) in enumerate(trainloader):\n",
        "\n",
        "        # transfer input to GPU\n",
        "        if torch.cuda.is_available():\n",
        "          inputs = inputs.cuda()\n",
        "          labels = labels.cuda()\n",
        "\n",
        "        # set grad to zero\n",
        "        net.zero_grad()\n",
        "\n",
        "        # forward propagation\n",
        "        outputs = net(inputs)\n",
        "\n",
        "        # compute loss\n",
        "        loss = criterion(outputs, labels)\n",
        "\n",
        "        # backward propagation\n",
        "        loss.backward()\n",
        "\n",
        "        # update model\n",
        "        optimizer.step()\n",
        "\n",
        "        # compute running loss and validation\n",
        "        running_loss += loss.item()\n",
        "        running_count +=1\n",
        "\n",
        "        # display the averaged loss value \n",
        "        if i % loop_per_val == loop_per_val - 1:              \n",
        "            train_loss = running_loss / loop_per_val\n",
        "            running_loss = 0. \n",
        "            running_count = 0\n",
        "            print(f'[Epoch {e+1:2d}/{num_epochs:d} Iter {i+1:5d}/{len(trainloader)}]: train_loss = {train_loss:.4f}')"
      ],
      "execution_count": null,
      "outputs": [
        {
          "output_type": "stream",
          "text": [
            "[Epoch  1/3 Iter  1000/12500]: train_loss = 2.1284\n",
            "[Epoch  1/3 Iter  2000/12500]: train_loss = 1.6855\n",
            "[Epoch  1/3 Iter  3000/12500]: train_loss = 1.3355\n",
            "[Epoch  1/3 Iter  4000/12500]: train_loss = 1.1271\n",
            "[Epoch  1/3 Iter  5000/12500]: train_loss = 0.9884\n",
            "[Epoch  1/3 Iter  6000/12500]: train_loss = 0.9001\n",
            "[Epoch  1/3 Iter  7000/12500]: train_loss = 0.8455\n",
            "[Epoch  1/3 Iter  8000/12500]: train_loss = 0.7965\n",
            "[Epoch  1/3 Iter  9000/12500]: train_loss = 0.7396\n",
            "[Epoch  1/3 Iter 10000/12500]: train_loss = 0.7299\n",
            "[Epoch  1/3 Iter 11000/12500]: train_loss = 0.7233\n",
            "[Epoch  1/3 Iter 12000/12500]: train_loss = 0.7072\n",
            "[Epoch  2/3 Iter  1000/12500]: train_loss = 0.6646\n",
            "[Epoch  2/3 Iter  2000/12500]: train_loss = 0.6643\n",
            "[Epoch  2/3 Iter  3000/12500]: train_loss = 0.6310\n",
            "[Epoch  2/3 Iter  4000/12500]: train_loss = 0.6266\n",
            "[Epoch  2/3 Iter  5000/12500]: train_loss = 0.6123\n",
            "[Epoch  2/3 Iter  6000/12500]: train_loss = 0.6033\n",
            "[Epoch  2/3 Iter  7000/12500]: train_loss = 0.5927\n",
            "[Epoch  2/3 Iter  8000/12500]: train_loss = 0.5932\n",
            "[Epoch  2/3 Iter  9000/12500]: train_loss = 0.5890\n",
            "[Epoch  2/3 Iter 10000/12500]: train_loss = 0.5786\n",
            "[Epoch  2/3 Iter 11000/12500]: train_loss = 0.5868\n",
            "[Epoch  2/3 Iter 12000/12500]: train_loss = 0.5808\n",
            "[Epoch  3/3 Iter  1000/12500]: train_loss = 0.5763\n",
            "[Epoch  3/3 Iter  2000/12500]: train_loss = 0.5556\n",
            "[Epoch  3/3 Iter  3000/12500]: train_loss = 0.5432\n",
            "[Epoch  3/3 Iter  4000/12500]: train_loss = 0.5494\n",
            "[Epoch  3/3 Iter  5000/12500]: train_loss = 0.5322\n",
            "[Epoch  3/3 Iter  6000/12500]: train_loss = 0.5629\n",
            "[Epoch  3/3 Iter  7000/12500]: train_loss = 0.5211\n",
            "[Epoch  3/3 Iter  8000/12500]: train_loss = 0.5377\n",
            "[Epoch  3/3 Iter  9000/12500]: train_loss = 0.5248\n",
            "[Epoch  3/3 Iter 10000/12500]: train_loss = 0.5397\n",
            "[Epoch  3/3 Iter 11000/12500]: train_loss = 0.5106\n",
            "[Epoch  3/3 Iter 12000/12500]: train_loss = 0.5038\n"
          ],
          "name": "stdout"
        }
      ]
    },
    {
      "cell_type": "markdown",
      "metadata": {
        "id": "-O2fGDLUs6dJ"
      },
      "source": [
        "# Testing Model"
      ]
    },
    {
      "cell_type": "markdown",
      "metadata": {
        "id": "MFg3usrM_0jG"
      },
      "source": [
        "## Evaluate Model"
      ]
    },
    {
      "cell_type": "code",
      "metadata": {
        "colab": {
          "base_uri": "https://localhost:8080/"
        },
        "id": "ZNeb2jXK_3LR",
        "outputId": "6f28cdff-bcaa-4f28-bba3-d02350cba3fc"
      },
      "source": [
        "net.eval()"
      ],
      "execution_count": null,
      "outputs": [
        {
          "output_type": "execute_result",
          "data": {
            "text/plain": [
              "Net(\n",
              "  (fc1): Linear(in_features=784, out_features=50, bias=True)\n",
              "  (relu1): ReLU()\n",
              "  (fc2): Linear(in_features=50, out_features=10, bias=True)\n",
              ")"
            ]
          },
          "metadata": {
            "tags": []
          },
          "execution_count": 63
        }
      ]
    },
    {
      "cell_type": "markdown",
      "metadata": {
        "id": "WPbfpHoPAjN8"
      },
      "source": [
        "## Accuracy Score"
      ]
    },
    {
      "cell_type": "code",
      "metadata": {
        "colab": {
          "base_uri": "https://localhost:8080/"
        },
        "id": "oMizNwkBAgTQ",
        "outputId": "7b9f5b7a-79d5-474d-8053-cb0eb7bdacf9"
      },
      "source": [
        "# running_correct to accumulate number of correct predictions\n",
        "running_corrects = 0\n",
        "\n",
        "# for ...\n",
        "for inputs, labels in testloader:\n",
        "\n",
        "    # transfer to GPU\n",
        "    if torch.cuda.is_available():\n",
        "      inputs = inputs.cuda()\n",
        "      labels = labels.cuda()\n",
        "    \n",
        "    # do not want to compute the gradient\n",
        "    with torch.no_grad():\n",
        "        # forward propagation to get class scores\n",
        "        scores = net(inputs)\n",
        "        \n",
        "        # get the predicted class\n",
        "        _, preds = torch.max(scores, 1)\n",
        "\n",
        "        # compute the running correct\n",
        "        running_corrects += (preds == labels).double().sum()\n",
        "\n",
        "# accuracy = ...\n",
        "accuracy = running_corrects / len(testloader.dataset) * 100\n",
        "print(f'Accuracy = {accuracy:.2f}%')"
      ],
      "execution_count": null,
      "outputs": [
        {
          "output_type": "stream",
          "text": [
            "Accuracy = 81.93%\n"
          ],
          "name": "stdout"
        }
      ]
    },
    {
      "cell_type": "markdown",
      "metadata": {
        "id": "ntBvmVG8s8e3"
      },
      "source": [
        "# Classifying An Image"
      ]
    },
    {
      "cell_type": "code",
      "metadata": {
        "colab": {
          "base_uri": "https://localhost:8080/"
        },
        "id": "1c6hgisgGqXO",
        "outputId": "4c270d38-0894-4f37-e107-69df4a21f3eb"
      },
      "source": [
        "idx = 10\n",
        "img, label = dataset[idx]\n",
        "\n",
        "print('\\nType of img:', type(img))\n",
        "print('Type of items in img:', img.dtype)\n",
        "\n",
        "print('Shape of img:', img.shape)\n",
        "print('Range of img:', img.min(), 'to', img.max())"
      ],
      "execution_count": null,
      "outputs": [
        {
          "output_type": "stream",
          "text": [
            "\n",
            "Type of img: <class 'torch.Tensor'>\n",
            "Type of items in img: torch.float32\n",
            "Shape of img: torch.Size([1, 28, 28])\n",
            "Range of img: tensor(-0.5000) to tensor(0.5000)\n"
          ],
          "name": "stdout"
        }
      ]
    },
    {
      "cell_type": "markdown",
      "metadata": {
        "id": "L3kSatsfGquc"
      },
      "source": [
        "## Load own test Image"
      ]
    },
    {
      "cell_type": "code",
      "metadata": {
        "colab": {
          "base_uri": "https://localhost:8080/",
          "height": 265
        },
        "id": "fOKlU19uGtSn",
        "outputId": "49dfb023-a3c1-4d50-85a9-97431fd82807"
      },
      "source": [
        "from PIL import Image\n",
        "\n",
        "test_img = Image.open(\"idk.jpg\").convert('L')\n",
        "\n",
        "# Resize Image\n",
        "test_img = test_img.resize((28, 28))\n",
        "\n",
        "# Convert PIL image to numpy array\n",
        "test_img = np.array(test_img)\n",
        "\n",
        "show_image(test_img)"
      ],
      "execution_count": null,
      "outputs": [
        {
          "output_type": "display_data",
          "data": {
            "image/png": "[encoded data removed]",
            "text/plain": [
              "<Figure size 432x288 with 1 Axes>"
            ]
          },
          "metadata": {
            "tags": [],
            "needs_background": "light"
          }
        }
      ]
    },
    {
      "cell_type": "code",
      "metadata": {
        "colab": {
          "base_uri": "https://localhost:8080/"
        },
        "id": "s1mTC0UMGvqP",
        "outputId": "dd576444-668f-4160-fa18-e0cf0b4c15cf"
      },
      "source": [
        "test_img = transform(test_img)\n",
        "\n",
        "print('Shape of img:', test_img.shape)\n",
        "print(f'Range of img: {test_img.min().item():.2f} to {test_img.max().item():.2f}')\n",
        "print('Type of img:', type(test_img))\n",
        "print('Type of items in img:', test_img.dtype)"
      ],
      "execution_count": null,
      "outputs": [
        {
          "output_type": "stream",
          "text": [
            "Shape of img: torch.Size([1, 28, 28])\n",
            "Range of img: -0.35 to 0.50\n",
            "Type of img: <class 'torch.Tensor'>\n",
            "Type of items in img: torch.float32\n"
          ],
          "name": "stdout"
        }
      ]
    },
    {
      "cell_type": "code",
      "metadata": {
        "colab": {
          "base_uri": "https://localhost:8080/"
        },
        "id": "WZHunKhWIC-Z",
        "outputId": "e2d8f027-f37a-482c-f3f9-4a803f63784e"
      },
      "source": [
        "inputs = test_img\n",
        "if torch.cuda.is_available():\n",
        "  inputs = inputs.cuda()\n",
        "\n",
        "with torch.no_grad():\n",
        "  scores = net(inputs)\n",
        "  _, preds = torch.max(scores, 1)\n",
        "  print(dataset.classes[preds])"
      ],
      "execution_count": null,
      "outputs": [
        {
          "output_type": "stream",
          "text": [
            "Trouser\n"
          ],
          "name": "stdout"
        }
      ]
    },
    {
      "cell_type": "code",
      "metadata": {
        "id": "0WkLkgV7ISrG"
      },
      "source": [
        ""
      ],
      "execution_count": null,
      "outputs": []
    }
  ]
}