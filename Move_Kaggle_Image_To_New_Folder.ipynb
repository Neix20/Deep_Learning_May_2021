{
 "cells": [
  {
   "cell_type": "markdown",
   "id": "demanding-housing",
   "metadata": {},
   "source": [
    "## Load Libraries"
   ]
  },
  {
   "cell_type": "code",
   "execution_count": 28,
   "id": "pregnant-meditation",
   "metadata": {},
   "outputs": [],
   "source": [
    "import os\n",
    "import matplotlib\n",
    "import numpy as np\n",
    "import pandas as pd\n",
    "import shutil\n",
    "import matplotlib.pyplot as plt\n",
    "\n",
    "from glob import glob\n",
    "from PIL import Image\n",
    "\n",
    "%matplotlib inline"
   ]
  },
  {
   "cell_type": "markdown",
   "id": "accredited-brown",
   "metadata": {},
   "source": [
    "## Load Dataset"
   ]
  },
  {
   "cell_type": "code",
   "execution_count": 2,
   "id": "convinced-uzbekistan",
   "metadata": {},
   "outputs": [],
   "source": [
    "csv_name = \"fashion_image_small.csv\""
   ]
  },
  {
   "cell_type": "code",
   "execution_count": 3,
   "id": "immediate-realtor",
   "metadata": {},
   "outputs": [],
   "source": [
    "df = pd.read_csv(csv_name)"
   ]
  },
  {
   "cell_type": "markdown",
   "id": "sought-nevada",
   "metadata": {},
   "source": [
    "## Show Dataframe Dimension"
   ]
  },
  {
   "cell_type": "code",
   "execution_count": 4,
   "id": "geological-update",
   "metadata": {},
   "outputs": [
    {
     "data": {
      "text/plain": [
       "(35480, 2)"
      ]
     },
     "execution_count": 4,
     "metadata": {},
     "output_type": "execute_result"
    }
   ],
   "source": [
    "df.shape"
   ]
  },
  {
   "cell_type": "markdown",
   "id": "massive-dispute",
   "metadata": {},
   "source": [
    "## Show Dataframe Values"
   ]
  },
  {
   "cell_type": "code",
   "execution_count": 5,
   "id": "official-depth",
   "metadata": {
    "scrolled": true
   },
   "outputs": [
    {
     "data": {
      "text/html": [
       "<div>\n",
       "<style scoped>\n",
       "    .dataframe tbody tr th:only-of-type {\n",
       "        vertical-align: middle;\n",
       "    }\n",
       "\n",
       "    .dataframe tbody tr th {\n",
       "        vertical-align: top;\n",
       "    }\n",
       "\n",
       "    .dataframe thead th {\n",
       "        text-align: right;\n",
       "    }\n",
       "</style>\n",
       "<table border=\"1\" class=\"dataframe\">\n",
       "  <thead>\n",
       "    <tr style=\"text-align: right;\">\n",
       "      <th></th>\n",
       "      <th>id</th>\n",
       "      <th>articleType</th>\n",
       "    </tr>\n",
       "  </thead>\n",
       "  <tbody>\n",
       "    <tr>\n",
       "      <th>0</th>\n",
       "      <td>1163</td>\n",
       "      <td>Tshirts</td>\n",
       "    </tr>\n",
       "    <tr>\n",
       "      <th>1</th>\n",
       "      <td>1164</td>\n",
       "      <td>Tshirts</td>\n",
       "    </tr>\n",
       "    <tr>\n",
       "      <th>2</th>\n",
       "      <td>1165</td>\n",
       "      <td>Tshirts</td>\n",
       "    </tr>\n",
       "    <tr>\n",
       "      <th>3</th>\n",
       "      <td>1525</td>\n",
       "      <td>Backpacks</td>\n",
       "    </tr>\n",
       "    <tr>\n",
       "      <th>4</th>\n",
       "      <td>1526</td>\n",
       "      <td>Backpacks</td>\n",
       "    </tr>\n",
       "    <tr>\n",
       "      <th>5</th>\n",
       "      <td>1529</td>\n",
       "      <td>Tshirts</td>\n",
       "    </tr>\n",
       "    <tr>\n",
       "      <th>6</th>\n",
       "      <td>1531</td>\n",
       "      <td>Tshirts</td>\n",
       "    </tr>\n",
       "    <tr>\n",
       "      <th>7</th>\n",
       "      <td>1532</td>\n",
       "      <td>Tshirts</td>\n",
       "    </tr>\n",
       "    <tr>\n",
       "      <th>8</th>\n",
       "      <td>1533</td>\n",
       "      <td>Tshirts</td>\n",
       "    </tr>\n",
       "    <tr>\n",
       "      <th>9</th>\n",
       "      <td>1534</td>\n",
       "      <td>Tshirts</td>\n",
       "    </tr>\n",
       "  </tbody>\n",
       "</table>\n",
       "</div>"
      ],
      "text/plain": [
       "     id articleType\n",
       "0  1163     Tshirts\n",
       "1  1164     Tshirts\n",
       "2  1165     Tshirts\n",
       "3  1525   Backpacks\n",
       "4  1526   Backpacks\n",
       "5  1529     Tshirts\n",
       "6  1531     Tshirts\n",
       "7  1532     Tshirts\n",
       "8  1533     Tshirts\n",
       "9  1534     Tshirts"
      ]
     },
     "execution_count": 5,
     "metadata": {},
     "output_type": "execute_result"
    }
   ],
   "source": [
    "df.head(10)"
   ]
  },
  {
   "cell_type": "markdown",
   "id": "reduced-token",
   "metadata": {},
   "source": [
    "## Show Dataframe Type"
   ]
  },
  {
   "cell_type": "code",
   "execution_count": 6,
   "id": "loving-advice",
   "metadata": {},
   "outputs": [
    {
     "data": {
      "text/plain": [
       "id              int64\n",
       "articleType    object\n",
       "dtype: object"
      ]
     },
     "execution_count": 6,
     "metadata": {},
     "output_type": "execute_result"
    }
   ],
   "source": [
    "df.dtypes"
   ]
  },
  {
   "cell_type": "markdown",
   "id": "latest-enterprise",
   "metadata": {},
   "source": [
    "## Arrage ID in ascending order"
   ]
  },
  {
   "cell_type": "code",
   "execution_count": 7,
   "id": "congressional-charm",
   "metadata": {},
   "outputs": [],
   "source": [
    "df = df.sort_values(by=['id']).reset_index(drop = True)"
   ]
  },
  {
   "cell_type": "markdown",
   "id": "capable-option",
   "metadata": {},
   "source": [
    "## Value Counts"
   ]
  },
  {
   "cell_type": "code",
   "execution_count": 6,
   "id": "japanese-defensive",
   "metadata": {},
   "outputs": [
    {
     "data": {
      "text/plain": [
       "Tshirts         7069\n",
       "Shirts          3215\n",
       "Casual Shoes    2846\n",
       "Watches         2542\n",
       "Sports Shoes    2036\n",
       "Kurtas          1844\n",
       "Tops            1762\n",
       "Handbags        1759\n",
       "Heels           1323\n",
       "Sunglasses      1073\n",
       "Wallets          936\n",
       "Flip Flops       916\n",
       "Sandals          897\n",
       "Briefs           849\n",
       "Belts            813\n",
       "Backpacks        724\n",
       "Socks            686\n",
       "Formal Shoes     637\n",
       "Jeans            608\n",
       "Shorts           547\n",
       "Trousers         530\n",
       "Flats            500\n",
       "Bra              477\n",
       "Dresses          464\n",
       "Sarees           427\n",
       "Name: articleType, dtype: int64"
      ]
     },
     "execution_count": 6,
     "metadata": {},
     "output_type": "execute_result"
    }
   ],
   "source": [
    "df.articleType.value_counts()"
   ]
  },
  {
   "cell_type": "markdown",
   "id": "premium-garage",
   "metadata": {},
   "source": [
    "## Show Image"
   ]
  },
  {
   "cell_type": "code",
   "execution_count": 7,
   "id": "mysterious-filename",
   "metadata": {},
   "outputs": [],
   "source": [
    "def show_image(img):\n",
    "    plt.imshow (img, cmap = matplotlib.cm.gray, interpolation = 'nearest')"
   ]
  },
  {
   "cell_type": "markdown",
   "id": "living-guatemala",
   "metadata": {},
   "source": [
    "## Get Image Path"
   ]
  },
  {
   "cell_type": "code",
   "execution_count": 8,
   "id": "stopped-comment",
   "metadata": {},
   "outputs": [],
   "source": [
    "image_path = \"fashion_image_small\\\\\""
   ]
  },
  {
   "cell_type": "code",
   "execution_count": 9,
   "id": "daily-promise",
   "metadata": {},
   "outputs": [],
   "source": [
    "test_img_path = image_path + \"60000.jpg\""
   ]
  },
  {
   "cell_type": "code",
   "execution_count": 10,
   "id": "healthy-nickname",
   "metadata": {},
   "outputs": [
    {
     "data": {
      "image/png": "[encoded data removed]",
      "text/plain": [
       "<Figure size 432x288 with 1 Axes>"
      ]
     },
     "metadata": {
      "needs_background": "light"
     },
     "output_type": "display_data"
    }
   ],
   "source": [
    "img = Image.open(test_img_path)\n",
    "show_image(img)"
   ]
  },
  {
   "cell_type": "code",
   "execution_count": 12,
   "id": "collected-belly",
   "metadata": {},
   "outputs": [],
   "source": [
    "# image_path_arr = [f\"img/images/{i}.jpg\" for i in df.id]"
   ]
  },
  {
   "cell_type": "markdown",
   "id": "armed-fireplace",
   "metadata": {},
   "source": [
    "## Remove 3000 TShirt Records from dataset"
   ]
  },
  {
   "cell_type": "code",
   "execution_count": 24,
   "id": "cultural-determination",
   "metadata": {},
   "outputs": [],
   "source": [
    "ind = 0\n",
    "arr = []\n",
    "for index, row in df.iterrows():\n",
    "    prob = np.random.uniform(0, 1)\n",
    "    if row[\"articleType\"] == \"Tshirts\" and prob < 0.4:\n",
    "        arr.append(row[\"id\"])"
   ]
  },
  {
   "cell_type": "code",
   "execution_count": 40,
   "id": "adopted-medication",
   "metadata": {},
   "outputs": [
    {
     "data": {
      "text/plain": [
       "2884"
      ]
     },
     "execution_count": 40,
     "metadata": {},
     "output_type": "execute_result"
    }
   ],
   "source": [
    "len(arr)"
   ]
  },
  {
   "cell_type": "code",
   "execution_count": 44,
   "id": "collect-saturn",
   "metadata": {},
   "outputs": [
    {
     "data": {
      "text/html": [
       "<div>\n",
       "<style scoped>\n",
       "    .dataframe tbody tr th:only-of-type {\n",
       "        vertical-align: middle;\n",
       "    }\n",
       "\n",
       "    .dataframe tbody tr th {\n",
       "        vertical-align: top;\n",
       "    }\n",
       "\n",
       "    .dataframe thead th {\n",
       "        text-align: right;\n",
       "    }\n",
       "</style>\n",
       "<table border=\"1\" class=\"dataframe\">\n",
       "  <thead>\n",
       "    <tr style=\"text-align: right;\">\n",
       "      <th></th>\n",
       "      <th>id</th>\n",
       "      <th>articleType</th>\n",
       "    </tr>\n",
       "  </thead>\n",
       "  <tbody>\n",
       "    <tr>\n",
       "      <th>0</th>\n",
       "      <td>1163</td>\n",
       "      <td>Tshirts</td>\n",
       "    </tr>\n",
       "    <tr>\n",
       "      <th>1</th>\n",
       "      <td>1164</td>\n",
       "      <td>Tshirts</td>\n",
       "    </tr>\n",
       "    <tr>\n",
       "      <th>2</th>\n",
       "      <td>1165</td>\n",
       "      <td>Tshirts</td>\n",
       "    </tr>\n",
       "    <tr>\n",
       "      <th>3</th>\n",
       "      <td>1525</td>\n",
       "      <td>Backpacks</td>\n",
       "    </tr>\n",
       "    <tr>\n",
       "      <th>4</th>\n",
       "      <td>1526</td>\n",
       "      <td>Backpacks</td>\n",
       "    </tr>\n",
       "    <tr>\n",
       "      <th>...</th>\n",
       "      <td>...</td>\n",
       "      <td>...</td>\n",
       "    </tr>\n",
       "    <tr>\n",
       "      <th>35475</th>\n",
       "      <td>59995</td>\n",
       "      <td>Dresses</td>\n",
       "    </tr>\n",
       "    <tr>\n",
       "      <th>35476</th>\n",
       "      <td>59996</td>\n",
       "      <td>Dresses</td>\n",
       "    </tr>\n",
       "    <tr>\n",
       "      <th>35477</th>\n",
       "      <td>59998</td>\n",
       "      <td>Heels</td>\n",
       "    </tr>\n",
       "    <tr>\n",
       "      <th>35478</th>\n",
       "      <td>59999</td>\n",
       "      <td>Heels</td>\n",
       "    </tr>\n",
       "    <tr>\n",
       "      <th>35479</th>\n",
       "      <td>60000</td>\n",
       "      <td>Kurtas</td>\n",
       "    </tr>\n",
       "  </tbody>\n",
       "</table>\n",
       "<p>32596 rows × 2 columns</p>\n",
       "</div>"
      ],
      "text/plain": [
       "          id articleType\n",
       "0       1163     Tshirts\n",
       "1       1164     Tshirts\n",
       "2       1165     Tshirts\n",
       "3       1525   Backpacks\n",
       "4       1526   Backpacks\n",
       "...      ...         ...\n",
       "35475  59995     Dresses\n",
       "35476  59996     Dresses\n",
       "35477  59998       Heels\n",
       "35478  59999       Heels\n",
       "35479  60000      Kurtas\n",
       "\n",
       "[32596 rows x 2 columns]"
      ]
     },
     "execution_count": 44,
     "metadata": {},
     "output_type": "execute_result"
    }
   ],
   "source": [
    "df = df[~df.id.isin(arr)]\n",
    "df"
   ]
  },
  {
   "cell_type": "markdown",
   "id": "quiet-torture",
   "metadata": {},
   "source": [
    "## Sort Dataframe by articleType"
   ]
  },
  {
   "cell_type": "code",
   "execution_count": 68,
   "id": "exciting-commission",
   "metadata": {},
   "outputs": [],
   "source": [
    "df = df.sort_values(by = [\"articleType\", \"id\"]).reset_index(drop = True)"
   ]
  },
  {
   "cell_type": "code",
   "execution_count": 69,
   "id": "guilty-compatibility",
   "metadata": {},
   "outputs": [
    {
     "data": {
      "text/html": [
       "<div>\n",
       "<style scoped>\n",
       "    .dataframe tbody tr th:only-of-type {\n",
       "        vertical-align: middle;\n",
       "    }\n",
       "\n",
       "    .dataframe tbody tr th {\n",
       "        vertical-align: top;\n",
       "    }\n",
       "\n",
       "    .dataframe thead th {\n",
       "        text-align: right;\n",
       "    }\n",
       "</style>\n",
       "<table border=\"1\" class=\"dataframe\">\n",
       "  <thead>\n",
       "    <tr style=\"text-align: right;\">\n",
       "      <th></th>\n",
       "      <th>id</th>\n",
       "      <th>articleType</th>\n",
       "    </tr>\n",
       "  </thead>\n",
       "  <tbody>\n",
       "    <tr>\n",
       "      <th>0</th>\n",
       "      <td>1525</td>\n",
       "      <td>Backpacks</td>\n",
       "    </tr>\n",
       "    <tr>\n",
       "      <th>1</th>\n",
       "      <td>1526</td>\n",
       "      <td>Backpacks</td>\n",
       "    </tr>\n",
       "    <tr>\n",
       "      <th>2</th>\n",
       "      <td>1556</td>\n",
       "      <td>Backpacks</td>\n",
       "    </tr>\n",
       "    <tr>\n",
       "      <th>3</th>\n",
       "      <td>1557</td>\n",
       "      <td>Backpacks</td>\n",
       "    </tr>\n",
       "    <tr>\n",
       "      <th>4</th>\n",
       "      <td>1559</td>\n",
       "      <td>Backpacks</td>\n",
       "    </tr>\n",
       "    <tr>\n",
       "      <th>...</th>\n",
       "      <td>...</td>\n",
       "      <td>...</td>\n",
       "    </tr>\n",
       "    <tr>\n",
       "      <th>32591</th>\n",
       "      <td>59287</td>\n",
       "      <td>Watches</td>\n",
       "    </tr>\n",
       "    <tr>\n",
       "      <th>32592</th>\n",
       "      <td>59290</td>\n",
       "      <td>Watches</td>\n",
       "    </tr>\n",
       "    <tr>\n",
       "      <th>32593</th>\n",
       "      <td>59291</td>\n",
       "      <td>Watches</td>\n",
       "    </tr>\n",
       "    <tr>\n",
       "      <th>32594</th>\n",
       "      <td>59292</td>\n",
       "      <td>Watches</td>\n",
       "    </tr>\n",
       "    <tr>\n",
       "      <th>32595</th>\n",
       "      <td>59293</td>\n",
       "      <td>Watches</td>\n",
       "    </tr>\n",
       "  </tbody>\n",
       "</table>\n",
       "<p>32596 rows × 2 columns</p>\n",
       "</div>"
      ],
      "text/plain": [
       "          id articleType\n",
       "0       1525   Backpacks\n",
       "1       1526   Backpacks\n",
       "2       1556   Backpacks\n",
       "3       1557   Backpacks\n",
       "4       1559   Backpacks\n",
       "...      ...         ...\n",
       "32591  59287     Watches\n",
       "32592  59290     Watches\n",
       "32593  59291     Watches\n",
       "32594  59292     Watches\n",
       "32595  59293     Watches\n",
       "\n",
       "[32596 rows x 2 columns]"
      ]
     },
     "execution_count": 69,
     "metadata": {},
     "output_type": "execute_result"
    }
   ],
   "source": [
    "df"
   ]
  },
  {
   "cell_type": "markdown",
   "id": "injured-premises",
   "metadata": {},
   "source": [
    "## Create New Folder"
   ]
  },
  {
   "cell_type": "code",
   "execution_count": 29,
   "id": "fixed-radical",
   "metadata": {},
   "outputs": [],
   "source": [
    "path = \"kaggle_fashion_small\""
   ]
  },
  {
   "cell_type": "code",
   "execution_count": 34,
   "id": "micro-halloween",
   "metadata": {},
   "outputs": [],
   "source": [
    "for i in sorted(df.articleType.unique()):\n",
    "    new_path = os.path.join(path, i)\n",
    "    os.mkdir(new_path)"
   ]
  },
  {
   "cell_type": "markdown",
   "id": "wooden-guarantee",
   "metadata": {},
   "source": [
    "## Move Images to New Folder"
   ]
  },
  {
   "cell_type": "code",
   "execution_count": 13,
   "id": "magnetic-rochester",
   "metadata": {},
   "outputs": [],
   "source": [
    "# new_folder = \"tmp_folder\""
   ]
  },
  {
   "cell_type": "code",
   "execution_count": 14,
   "id": "common-scholarship",
   "metadata": {},
   "outputs": [],
   "source": [
    "# for src in image_path_arr:\n",
    "#     shutil.move(src, new_folder)"
   ]
  },
  {
   "cell_type": "markdown",
   "id": "novel-wrestling",
   "metadata": {},
   "source": [
    "## Match Image Name in Folder and Dataset"
   ]
  },
  {
   "cell_type": "code",
   "execution_count": 35,
   "id": "fluid-girlfriend",
   "metadata": {},
   "outputs": [],
   "source": [
    "tmp_arr = glob(\"fashion_image_small/*\")"
   ]
  },
  {
   "cell_type": "code",
   "execution_count": 46,
   "id": "injured-quick",
   "metadata": {},
   "outputs": [],
   "source": [
    "tmp_tmp_arr = sorted([int(i.split(\"\\\\\")[1][:-4]) for i in tmp_arr])"
   ]
  },
  {
   "cell_type": "code",
   "execution_count": 51,
   "id": "bronze-automation",
   "metadata": {},
   "outputs": [],
   "source": [
    "new_arr = df.id.tolist()"
   ]
  },
  {
   "cell_type": "code",
   "execution_count": 53,
   "id": "split-peeing",
   "metadata": {},
   "outputs": [],
   "source": [
    "new_arr = list(map(int, new_arr))"
   ]
  },
  {
   "cell_type": "code",
   "execution_count": 54,
   "id": "accomplished-accused",
   "metadata": {},
   "outputs": [],
   "source": [
    "tmp_tmp_tmp_arr = [i for i in tmp_tmp_arr if i in new_arr]"
   ]
  },
  {
   "cell_type": "code",
   "execution_count": 55,
   "id": "authorized-ordering",
   "metadata": {},
   "outputs": [
    {
     "data": {
      "text/plain": [
       "32596"
      ]
     },
     "execution_count": 55,
     "metadata": {},
     "output_type": "execute_result"
    }
   ],
   "source": [
    "len(tmp_tmp_tmp_arr)"
   ]
  },
  {
   "cell_type": "code",
   "execution_count": 72,
   "id": "aggressive-blend",
   "metadata": {},
   "outputs": [],
   "source": [
    "src_path = \"fashion_image_small\"\n",
    "dest_path = \"kaggle_fashion_small\"\n",
    "for index, row in df.iterrows():\n",
    "    id = row[\"id\"]\n",
    "    articleType = row[\"articleType\"]\n",
    "    src = os.path.join(src_path, f\"{id}.jpg\")\n",
    "    dest = os.path.join(dest_path, articleType, f\"{id}.jpg\")\n",
    "    shutil.move(src, dest)\n",
    "    "
   ]
  },
  {
   "cell_type": "code",
   "execution_count": 73,
   "id": "recorded-retailer",
   "metadata": {},
   "outputs": [],
   "source": [
    "df.to_csv(\"fashion_image_small.csv\", index=False)"
   ]
  },
  {
   "cell_type": "code",
   "execution_count": null,
   "id": "damaged-minnesota",
   "metadata": {},
   "outputs": [],
   "source": []
  }
 ],
 "metadata": {
  "kernelspec": {
   "display_name": "Python 3",
   "language": "python",
   "name": "python3"
  },
  "language_info": {
   "codemirror_mode": {
    "name": "ipython",
    "version": 3
   },
   "file_extension": ".py",
   "mimetype": "text/x-python",
   "name": "python",
   "nbconvert_exporter": "python",
   "pygments_lexer": "ipython3",
   "version": "3.9.1"
  }
 },
 "nbformat": 4,
 "nbformat_minor": 5
}
